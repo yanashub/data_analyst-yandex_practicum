{
 "cells": [
  {
   "cell_type": "markdown",
   "id": "ad05bcbc",
   "metadata": {},
   "source": [
    "# Постановка задачи, описание данных\n"
   ]
  },
  {
   "cell_type": "markdown",
   "id": "87880464",
   "metadata": {},
   "source": [
    "**Постановка задачи**  \n",
    "Федеральному оператору сотовой связи \"Мегалайн\" необходимо понять, какой из двух тарифных планов: «Смарт» и «Ультра» приносит больше денег.  \n",
    "Компания предоставила данные 500 пользователей.  \n",
    "Нужно проанализировать поведение клиентов и сделать вывод — какой тариф лучше.\n",
    "\n",
    "**Описание тарифов** \n",
    "  \n",
    "**Тариф «Смарт»**  \n",
    "Ежемесячная плата: 550 рублей  \n",
    "Включено 500 минут разговора, 50 сообщений и 15 Гб интернет-трафика  \n",
    "Стоимость услуг сверх тарифного пакета:  \n",
    "минута разговора: 3 рубля  \n",
    "сообщение: 3 рубля  \n",
    "1 Гб интернет-трафика: 200 рублей  \n",
    "  \n",
    "**Тариф «Ультра»**  \n",
    "Ежемесячная плата: 1950 рублей  \n",
    "Включено 3000 минут разговора, 1000 сообщений и 30 Гб интернет-трафика  \n",
    "Стоимость услуг сверх тарифного пакета:  \n",
    "минута разговора: 1 рубль  \n",
    "сообщение: 1 рубль  \n",
    "1 Гб интернет-трафика: 150 рублей  \n",
    "\n",
    "**Описание данных:**  \n",
    "\n",
    "*Таблица users (информация о пользователях):*  \n",
    "\n",
    "user_id — уникальный идентификатор пользователя  \n",
    "first_name — имя пользователя  \n",
    "last_name — фамилия пользователя  \n",
    "age — возраст пользователя (годы)  \n",
    "reg_date — дата подключения тарифа (день, месяц, год)  \n",
    "churn_date — дата прекращения пользования тарифом (если значение пропущено, то тариф ещё действовал на момент выгрузки данных)  \n",
    "city — город проживания пользователя  \n",
    "tariff — название тарифного плана  \n",
    "\n",
    "*Таблица calls (информация о звонках):* \n",
    "  \n",
    "id — уникальный номер звонка  \n",
    "call_date — дата звонка  \n",
    "duration — длительность звонка в минутах  \n",
    "user_id — идентификатор пользователя, сделавшего звонок    \n",
    "\n",
    "*Таблица messages (информация о сообщениях):*  \n",
    "\n",
    "id — уникальный номер сообщения  \n",
    "message_date — дата сообщения  \n",
    "user_id — идентификатор пользователя, отправившего сообщение  \n",
    "  \n",
    "*Таблица internet (информация об интернет-сессиях):*  \n",
    "  \n",
    "id — уникальный номер сессии  \n",
    "mb_used — объём потраченного за сессию интернет-трафика (в мегабайтах)  \n",
    "session_date — дата интернет-сессии  \n",
    "user_id — идентификатор пользователя  \n",
    "  \n",
    "*Таблица tariffs (информация о тарифах):*  \n",
    "  \n",
    "tariff_name — название тарифа  \n",
    "rub_monthly_fee — ежемесячная абонентская плата в рублях  \n",
    "minutes_included — количество минут разговора в месяц, включённых в абонентскую плату  \n",
    "messages_included — количество сообщений в месяц, включённых в абонентскую плату  \n",
    "mb_per_month_included — объём интернет-трафика, включённого в абонентскую плату (в мегабайтах)  \n",
    "rub_per_minute — стоимость минуты разговора сверх тарифного пакета (например, если в тарифе 100 минут разговора в месяц, то со 101 минуты будет взиматься плата)  \n",
    "rub_per_message — стоимость отправки сообщения сверх тарифного пакета  \n",
    "rub_per_gb — стоимость дополнительного гигабайта интернет-трафика сверх тарифного пакета (1 гигабайт = 1024 мегабайта)  \n"
   ]
  },
  {
   "cell_type": "markdown",
   "id": "49ba9b6d",
   "metadata": {},
   "source": [
    "## Выгрузка таблиц"
   ]
  },
  {
   "cell_type": "markdown",
   "id": "00b564b5",
   "metadata": {},
   "source": [
    "Импортируем нужные библиотеки, загрузим данные"
   ]
  },
  {
   "cell_type": "code",
   "execution_count": 1,
   "id": "073ffd1d",
   "metadata": {
    "scrolled": true
   },
   "outputs": [
    {
     "name": "stdout",
     "output_type": "stream",
     "text": [
      "<class 'pandas.core.frame.DataFrame'>\n",
      "RangeIndex: 202607 entries, 0 to 202606\n",
      "Data columns (total 4 columns):\n",
      " #   Column     Non-Null Count   Dtype  \n",
      "---  ------     --------------   -----  \n",
      " 0   id         202607 non-null  object \n",
      " 1   call_date  202607 non-null  object \n",
      " 2   duration   202607 non-null  float64\n",
      " 3   user_id    202607 non-null  int64  \n",
      "dtypes: float64(1), int64(1), object(2)\n",
      "memory usage: 6.2+ MB\n",
      "<class 'pandas.core.frame.DataFrame'>\n",
      "RangeIndex: 149396 entries, 0 to 149395\n",
      "Data columns (total 5 columns):\n",
      " #   Column        Non-Null Count   Dtype  \n",
      "---  ------        --------------   -----  \n",
      " 0   Unnamed: 0    149396 non-null  int64  \n",
      " 1   id            149396 non-null  object \n",
      " 2   mb_used       149396 non-null  float64\n",
      " 3   session_date  149396 non-null  object \n",
      " 4   user_id       149396 non-null  int64  \n",
      "dtypes: float64(1), int64(2), object(2)\n",
      "memory usage: 5.7+ MB\n",
      "<class 'pandas.core.frame.DataFrame'>\n",
      "RangeIndex: 123036 entries, 0 to 123035\n",
      "Data columns (total 3 columns):\n",
      " #   Column        Non-Null Count   Dtype \n",
      "---  ------        --------------   ----- \n",
      " 0   id            123036 non-null  object\n",
      " 1   message_date  123036 non-null  object\n",
      " 2   user_id       123036 non-null  int64 \n",
      "dtypes: int64(1), object(2)\n",
      "memory usage: 2.8+ MB\n",
      "<class 'pandas.core.frame.DataFrame'>\n",
      "RangeIndex: 2 entries, 0 to 1\n",
      "Data columns (total 8 columns):\n",
      " #   Column                 Non-Null Count  Dtype \n",
      "---  ------                 --------------  ----- \n",
      " 0   messages_included      2 non-null      int64 \n",
      " 1   mb_per_month_included  2 non-null      int64 \n",
      " 2   minutes_included       2 non-null      int64 \n",
      " 3   rub_monthly_fee        2 non-null      int64 \n",
      " 4   rub_per_gb             2 non-null      int64 \n",
      " 5   rub_per_message        2 non-null      int64 \n",
      " 6   rub_per_minute         2 non-null      int64 \n",
      " 7   tariff_name            2 non-null      object\n",
      "dtypes: int64(7), object(1)\n",
      "memory usage: 256.0+ bytes\n",
      "<class 'pandas.core.frame.DataFrame'>\n",
      "RangeIndex: 500 entries, 0 to 499\n",
      "Data columns (total 8 columns):\n",
      " #   Column      Non-Null Count  Dtype \n",
      "---  ------      --------------  ----- \n",
      " 0   user_id     500 non-null    int64 \n",
      " 1   age         500 non-null    int64 \n",
      " 2   churn_date  38 non-null     object\n",
      " 3   city        500 non-null    object\n",
      " 4   first_name  500 non-null    object\n",
      " 5   last_name   500 non-null    object\n",
      " 6   reg_date    500 non-null    object\n",
      " 7   tariff      500 non-null    object\n",
      "dtypes: int64(2), object(6)\n",
      "memory usage: 31.4+ KB\n"
     ]
    }
   ],
   "source": [
    "import pandas as pd\n",
    "from scipy import stats as st\n",
    "import numpy as np\n",
    "from datetime import datetime, timedelta\n",
    "from matplotlib import pyplot as plt\n",
    "import math\n",
    "import seaborn as sns\n",
    "plt.style.use('ggplot')\n",
    "sns.set_palette('bright') \n",
    "import warnings\n",
    "\n",
    "warnings.filterwarnings('ignore')\n",
    "\n",
    "try:\n",
    "    calls, internet, messages, tariffs, users =(\n",
    "    pd.read_csv(r'C:\\datasets\\calls.csv') # звонки\n",
    "    ,pd.read_csv(r'C:\\datasets\\internet.csv') # интернет-сессии\n",
    "    ,pd.read_csv(r'C:\\datasets\\messages.csv') # сообщения\n",
    "    ,pd.read_csv(r'C:\\datasets\\tariffs.csv') # тарифы   \n",
    "    ,pd.read_csv(r'C:\\datasets\\users.csv') # пользователи    \n",
    ")\n",
    "except:\n",
    "    calls, internet, messages, tariffs, users =(\n",
    "    pd.read_csv('/datasets/calls.csv') \n",
    "    ,pd.read_csv('/datasets/internet.csv') \n",
    "    ,pd.read_csv('/datasets/messages.csv')\n",
    "    ,pd.read_csv('/datasets/tariffs.csv') \n",
    "    ,pd.read_csv('/datasets/users.csv')   \n",
    ")\n",
    "   #ознакомимся с таблицами и проверим тип данных\n",
    "calls.info()\n",
    "internet.info()\n",
    "messages.info()\n",
    "tariffs.info()\n",
    "users.info()"
   ]
  },
  {
   "cell_type": "markdown",
   "id": "2fb491a0",
   "metadata": {},
   "source": [
    "## Обработка типов данных"
   ]
  },
  {
   "cell_type": "markdown",
   "id": "e4aeb9c2",
   "metadata": {},
   "source": [
    "Замечено, что пропуски присутствуют в таблице users в данных о дате прекращения пользования тарифом.  \n",
    "Отсутствующие значения связаны с тем, что пользователь еще не прекратил пользование тарифом.  \n",
    "Приведем имеющиеся данные о дате в корректный формат даты."
   ]
  },
  {
   "cell_type": "code",
   "execution_count": 2,
   "id": "40990a99",
   "metadata": {},
   "outputs": [],
   "source": [
    "users['churn_date']=pd.to_datetime(\n",
    "    users['churn_date'], format='%Y-%m-%d'\n",
    ")"
   ]
  },
  {
   "cell_type": "code",
   "execution_count": 3,
   "id": "97e246cf",
   "metadata": {
    "scrolled": true
   },
   "outputs": [
    {
     "name": "stdout",
     "output_type": "stream",
     "text": [
      "<class 'pandas.core.frame.DataFrame'>\n",
      "RangeIndex: 500 entries, 0 to 499\n",
      "Data columns (total 8 columns):\n",
      " #   Column      Non-Null Count  Dtype         \n",
      "---  ------      --------------  -----         \n",
      " 0   user_id     500 non-null    int64         \n",
      " 1   age         500 non-null    int64         \n",
      " 2   churn_date  38 non-null     datetime64[ns]\n",
      " 3   city        500 non-null    object        \n",
      " 4   first_name  500 non-null    object        \n",
      " 5   last_name   500 non-null    object        \n",
      " 6   reg_date    500 non-null    object        \n",
      " 7   tariff      500 non-null    object        \n",
      "dtypes: datetime64[ns](1), int64(2), object(5)\n",
      "memory usage: 31.4+ KB\n"
     ]
    }
   ],
   "source": [
    "users.info()"
   ]
  },
  {
   "cell_type": "markdown",
   "id": "b02d3d4c",
   "metadata": {},
   "source": [
    "Кроме того, замечено, что все тарифы с датой и временем записаны некорректным типом данных.  \n"
   ]
  },
  {
   "cell_type": "code",
   "execution_count": 4,
   "id": "36856936",
   "metadata": {},
   "outputs": [],
   "source": [
    "#изменим тип данных на datetime \n",
    "for table,row in zip([users, calls, internet, messages], ['reg_date', 'call_date', 'session_date', 'message_date']):\n",
    "    table[row]=pd.to_datetime(\n",
    "    table[row], format='%Y-%m-%d'\n",
    "    )\n"
   ]
  },
  {
   "cell_type": "markdown",
   "id": "6cee75a1",
   "metadata": {},
   "source": [
    "## Обработка ошибок в данных"
   ]
  },
  {
   "cell_type": "markdown",
   "id": "a8b51087",
   "metadata": {},
   "source": [
    "В таблице с данными о пользователях присутвует лишний столбец с индексами, уберем его."
   ]
  },
  {
   "cell_type": "code",
   "execution_count": 5,
   "id": "9920afb7",
   "metadata": {},
   "outputs": [],
   "source": [
    "internet=internet.drop(columns='Unnamed: 0')"
   ]
  },
  {
   "cell_type": "code",
   "execution_count": 6,
   "id": "8afeb5fa",
   "metadata": {},
   "outputs": [
    {
     "data": {
      "text/html": [
       "<div>\n",
       "<style scoped>\n",
       "    .dataframe tbody tr th:only-of-type {\n",
       "        vertical-align: middle;\n",
       "    }\n",
       "\n",
       "    .dataframe tbody tr th {\n",
       "        vertical-align: top;\n",
       "    }\n",
       "\n",
       "    .dataframe thead th {\n",
       "        text-align: right;\n",
       "    }\n",
       "</style>\n",
       "<table border=\"1\" class=\"dataframe\">\n",
       "  <thead>\n",
       "    <tr style=\"text-align: right;\">\n",
       "      <th></th>\n",
       "      <th>id</th>\n",
       "      <th>mb_used</th>\n",
       "      <th>session_date</th>\n",
       "      <th>user_id</th>\n",
       "    </tr>\n",
       "  </thead>\n",
       "  <tbody>\n",
       "    <tr>\n",
       "      <th>0</th>\n",
       "      <td>1000_0</td>\n",
       "      <td>112.95</td>\n",
       "      <td>2018-11-25</td>\n",
       "      <td>1000</td>\n",
       "    </tr>\n",
       "    <tr>\n",
       "      <th>1</th>\n",
       "      <td>1000_1</td>\n",
       "      <td>1052.81</td>\n",
       "      <td>2018-09-07</td>\n",
       "      <td>1000</td>\n",
       "    </tr>\n",
       "    <tr>\n",
       "      <th>2</th>\n",
       "      <td>1000_2</td>\n",
       "      <td>1197.26</td>\n",
       "      <td>2018-06-25</td>\n",
       "      <td>1000</td>\n",
       "    </tr>\n",
       "    <tr>\n",
       "      <th>3</th>\n",
       "      <td>1000_3</td>\n",
       "      <td>550.27</td>\n",
       "      <td>2018-08-22</td>\n",
       "      <td>1000</td>\n",
       "    </tr>\n",
       "    <tr>\n",
       "      <th>4</th>\n",
       "      <td>1000_4</td>\n",
       "      <td>302.56</td>\n",
       "      <td>2018-09-24</td>\n",
       "      <td>1000</td>\n",
       "    </tr>\n",
       "  </tbody>\n",
       "</table>\n",
       "</div>"
      ],
      "text/plain": [
       "       id  mb_used session_date  user_id\n",
       "0  1000_0   112.95   2018-11-25     1000\n",
       "1  1000_1  1052.81   2018-09-07     1000\n",
       "2  1000_2  1197.26   2018-06-25     1000\n",
       "3  1000_3   550.27   2018-08-22     1000\n",
       "4  1000_4   302.56   2018-09-24     1000"
      ]
     },
     "metadata": {},
     "output_type": "display_data"
    },
    {
     "data": {
      "text/html": [
       "<div>\n",
       "<style scoped>\n",
       "    .dataframe tbody tr th:only-of-type {\n",
       "        vertical-align: middle;\n",
       "    }\n",
       "\n",
       "    .dataframe tbody tr th {\n",
       "        vertical-align: top;\n",
       "    }\n",
       "\n",
       "    .dataframe thead th {\n",
       "        text-align: right;\n",
       "    }\n",
       "</style>\n",
       "<table border=\"1\" class=\"dataframe\">\n",
       "  <thead>\n",
       "    <tr style=\"text-align: right;\">\n",
       "      <th></th>\n",
       "      <th>id</th>\n",
       "      <th>call_date</th>\n",
       "      <th>duration</th>\n",
       "      <th>user_id</th>\n",
       "    </tr>\n",
       "  </thead>\n",
       "  <tbody>\n",
       "    <tr>\n",
       "      <th>0</th>\n",
       "      <td>1000_0</td>\n",
       "      <td>2018-07-25</td>\n",
       "      <td>0.00</td>\n",
       "      <td>1000</td>\n",
       "    </tr>\n",
       "    <tr>\n",
       "      <th>1</th>\n",
       "      <td>1000_1</td>\n",
       "      <td>2018-08-17</td>\n",
       "      <td>0.00</td>\n",
       "      <td>1000</td>\n",
       "    </tr>\n",
       "    <tr>\n",
       "      <th>2</th>\n",
       "      <td>1000_2</td>\n",
       "      <td>2018-06-11</td>\n",
       "      <td>2.85</td>\n",
       "      <td>1000</td>\n",
       "    </tr>\n",
       "    <tr>\n",
       "      <th>3</th>\n",
       "      <td>1000_3</td>\n",
       "      <td>2018-09-21</td>\n",
       "      <td>13.80</td>\n",
       "      <td>1000</td>\n",
       "    </tr>\n",
       "    <tr>\n",
       "      <th>4</th>\n",
       "      <td>1000_4</td>\n",
       "      <td>2018-12-15</td>\n",
       "      <td>5.18</td>\n",
       "      <td>1000</td>\n",
       "    </tr>\n",
       "  </tbody>\n",
       "</table>\n",
       "</div>"
      ],
      "text/plain": [
       "       id  call_date  duration  user_id\n",
       "0  1000_0 2018-07-25      0.00     1000\n",
       "1  1000_1 2018-08-17      0.00     1000\n",
       "2  1000_2 2018-06-11      2.85     1000\n",
       "3  1000_3 2018-09-21     13.80     1000\n",
       "4  1000_4 2018-12-15      5.18     1000"
      ]
     },
     "metadata": {},
     "output_type": "display_data"
    },
    {
     "data": {
      "text/html": [
       "<div>\n",
       "<style scoped>\n",
       "    .dataframe tbody tr th:only-of-type {\n",
       "        vertical-align: middle;\n",
       "    }\n",
       "\n",
       "    .dataframe tbody tr th {\n",
       "        vertical-align: top;\n",
       "    }\n",
       "\n",
       "    .dataframe thead th {\n",
       "        text-align: right;\n",
       "    }\n",
       "</style>\n",
       "<table border=\"1\" class=\"dataframe\">\n",
       "  <thead>\n",
       "    <tr style=\"text-align: right;\">\n",
       "      <th></th>\n",
       "      <th>user_id</th>\n",
       "      <th>age</th>\n",
       "      <th>churn_date</th>\n",
       "      <th>city</th>\n",
       "      <th>first_name</th>\n",
       "      <th>last_name</th>\n",
       "      <th>reg_date</th>\n",
       "      <th>tariff</th>\n",
       "    </tr>\n",
       "  </thead>\n",
       "  <tbody>\n",
       "    <tr>\n",
       "      <th>0</th>\n",
       "      <td>1000</td>\n",
       "      <td>52</td>\n",
       "      <td>NaT</td>\n",
       "      <td>Краснодар</td>\n",
       "      <td>Рафаил</td>\n",
       "      <td>Верещагин</td>\n",
       "      <td>2018-05-25</td>\n",
       "      <td>ultra</td>\n",
       "    </tr>\n",
       "    <tr>\n",
       "      <th>1</th>\n",
       "      <td>1001</td>\n",
       "      <td>41</td>\n",
       "      <td>NaT</td>\n",
       "      <td>Москва</td>\n",
       "      <td>Иван</td>\n",
       "      <td>Ежов</td>\n",
       "      <td>2018-11-01</td>\n",
       "      <td>smart</td>\n",
       "    </tr>\n",
       "    <tr>\n",
       "      <th>2</th>\n",
       "      <td>1002</td>\n",
       "      <td>59</td>\n",
       "      <td>NaT</td>\n",
       "      <td>Стерлитамак</td>\n",
       "      <td>Евгений</td>\n",
       "      <td>Абрамович</td>\n",
       "      <td>2018-06-17</td>\n",
       "      <td>smart</td>\n",
       "    </tr>\n",
       "    <tr>\n",
       "      <th>3</th>\n",
       "      <td>1003</td>\n",
       "      <td>23</td>\n",
       "      <td>NaT</td>\n",
       "      <td>Москва</td>\n",
       "      <td>Белла</td>\n",
       "      <td>Белякова</td>\n",
       "      <td>2018-08-17</td>\n",
       "      <td>ultra</td>\n",
       "    </tr>\n",
       "    <tr>\n",
       "      <th>4</th>\n",
       "      <td>1004</td>\n",
       "      <td>68</td>\n",
       "      <td>NaT</td>\n",
       "      <td>Новокузнецк</td>\n",
       "      <td>Татьяна</td>\n",
       "      <td>Авдеенко</td>\n",
       "      <td>2018-05-14</td>\n",
       "      <td>ultra</td>\n",
       "    </tr>\n",
       "  </tbody>\n",
       "</table>\n",
       "</div>"
      ],
      "text/plain": [
       "   user_id  age churn_date         city first_name  last_name   reg_date  \\\n",
       "0     1000   52        NaT    Краснодар     Рафаил  Верещагин 2018-05-25   \n",
       "1     1001   41        NaT       Москва       Иван       Ежов 2018-11-01   \n",
       "2     1002   59        NaT  Стерлитамак    Евгений  Абрамович 2018-06-17   \n",
       "3     1003   23        NaT       Москва      Белла   Белякова 2018-08-17   \n",
       "4     1004   68        NaT  Новокузнецк    Татьяна   Авдеенко 2018-05-14   \n",
       "\n",
       "  tariff  \n",
       "0  ultra  \n",
       "1  smart  \n",
       "2  smart  \n",
       "3  ultra  \n",
       "4  ultra  "
      ]
     },
     "metadata": {},
     "output_type": "display_data"
    },
    {
     "data": {
      "text/html": [
       "<div>\n",
       "<style scoped>\n",
       "    .dataframe tbody tr th:only-of-type {\n",
       "        vertical-align: middle;\n",
       "    }\n",
       "\n",
       "    .dataframe tbody tr th {\n",
       "        vertical-align: top;\n",
       "    }\n",
       "\n",
       "    .dataframe thead th {\n",
       "        text-align: right;\n",
       "    }\n",
       "</style>\n",
       "<table border=\"1\" class=\"dataframe\">\n",
       "  <thead>\n",
       "    <tr style=\"text-align: right;\">\n",
       "      <th></th>\n",
       "      <th>id</th>\n",
       "      <th>message_date</th>\n",
       "      <th>user_id</th>\n",
       "    </tr>\n",
       "  </thead>\n",
       "  <tbody>\n",
       "    <tr>\n",
       "      <th>0</th>\n",
       "      <td>1000_0</td>\n",
       "      <td>2018-06-27</td>\n",
       "      <td>1000</td>\n",
       "    </tr>\n",
       "    <tr>\n",
       "      <th>1</th>\n",
       "      <td>1000_1</td>\n",
       "      <td>2018-10-08</td>\n",
       "      <td>1000</td>\n",
       "    </tr>\n",
       "    <tr>\n",
       "      <th>2</th>\n",
       "      <td>1000_2</td>\n",
       "      <td>2018-08-04</td>\n",
       "      <td>1000</td>\n",
       "    </tr>\n",
       "    <tr>\n",
       "      <th>3</th>\n",
       "      <td>1000_3</td>\n",
       "      <td>2018-06-16</td>\n",
       "      <td>1000</td>\n",
       "    </tr>\n",
       "    <tr>\n",
       "      <th>4</th>\n",
       "      <td>1000_4</td>\n",
       "      <td>2018-12-05</td>\n",
       "      <td>1000</td>\n",
       "    </tr>\n",
       "  </tbody>\n",
       "</table>\n",
       "</div>"
      ],
      "text/plain": [
       "       id message_date  user_id\n",
       "0  1000_0   2018-06-27     1000\n",
       "1  1000_1   2018-10-08     1000\n",
       "2  1000_2   2018-08-04     1000\n",
       "3  1000_3   2018-06-16     1000\n",
       "4  1000_4   2018-12-05     1000"
      ]
     },
     "metadata": {},
     "output_type": "display_data"
    },
    {
     "data": {
      "text/html": [
       "<div>\n",
       "<style scoped>\n",
       "    .dataframe tbody tr th:only-of-type {\n",
       "        vertical-align: middle;\n",
       "    }\n",
       "\n",
       "    .dataframe tbody tr th {\n",
       "        vertical-align: top;\n",
       "    }\n",
       "\n",
       "    .dataframe thead th {\n",
       "        text-align: right;\n",
       "    }\n",
       "</style>\n",
       "<table border=\"1\" class=\"dataframe\">\n",
       "  <thead>\n",
       "    <tr style=\"text-align: right;\">\n",
       "      <th></th>\n",
       "      <th>messages_included</th>\n",
       "      <th>mb_per_month_included</th>\n",
       "      <th>minutes_included</th>\n",
       "      <th>rub_monthly_fee</th>\n",
       "      <th>rub_per_gb</th>\n",
       "      <th>rub_per_message</th>\n",
       "      <th>rub_per_minute</th>\n",
       "      <th>tariff_name</th>\n",
       "    </tr>\n",
       "  </thead>\n",
       "  <tbody>\n",
       "    <tr>\n",
       "      <th>0</th>\n",
       "      <td>50</td>\n",
       "      <td>15360</td>\n",
       "      <td>500</td>\n",
       "      <td>550</td>\n",
       "      <td>200</td>\n",
       "      <td>3</td>\n",
       "      <td>3</td>\n",
       "      <td>smart</td>\n",
       "    </tr>\n",
       "    <tr>\n",
       "      <th>1</th>\n",
       "      <td>1000</td>\n",
       "      <td>30720</td>\n",
       "      <td>3000</td>\n",
       "      <td>1950</td>\n",
       "      <td>150</td>\n",
       "      <td>1</td>\n",
       "      <td>1</td>\n",
       "      <td>ultra</td>\n",
       "    </tr>\n",
       "  </tbody>\n",
       "</table>\n",
       "</div>"
      ],
      "text/plain": [
       "   messages_included  mb_per_month_included  minutes_included  \\\n",
       "0                 50                  15360               500   \n",
       "1               1000                  30720              3000   \n",
       "\n",
       "   rub_monthly_fee  rub_per_gb  rub_per_message  rub_per_minute tariff_name  \n",
       "0              550         200                3               3       smart  \n",
       "1             1950         150                1               1       ultra  "
      ]
     },
     "metadata": {},
     "output_type": "display_data"
    }
   ],
   "source": [
    "#рассмотрим еще раз имеющиеся таблицы\n",
    "display(internet.head())\n",
    "display(calls.head())\n",
    "display(users.head())\n",
    "display(messages.head())\n",
    "display(tariffs.head())"
   ]
  },
  {
   "cell_type": "markdown",
   "id": "4e6d9766",
   "metadata": {},
   "source": [
    "**Вывод:**   \n",
    "Наименования, типы данных, регистры все корректно. \n",
    "Возможно, далее при более детальном изучении данных будут найдены ошибки, которые необходимо будет исправить.  \n"
   ]
  },
  {
   "cell_type": "markdown",
   "id": "6186d826",
   "metadata": {},
   "source": [
    "## Рассчеты для анализа"
   ]
  },
  {
   "cell_type": "markdown",
   "id": "abec84df",
   "metadata": {},
   "source": [
    "### Количество звонков и израсходованных минут разговора по месяцам"
   ]
  },
  {
   "cell_type": "code",
   "execution_count": 7,
   "id": "7876489d",
   "metadata": {
    "scrolled": false
   },
   "outputs": [
    {
     "data": {
      "text/html": [
       "<div>\n",
       "<style scoped>\n",
       "    .dataframe tbody tr th:only-of-type {\n",
       "        vertical-align: middle;\n",
       "    }\n",
       "\n",
       "    .dataframe tbody tr th {\n",
       "        vertical-align: top;\n",
       "    }\n",
       "\n",
       "    .dataframe thead th {\n",
       "        text-align: right;\n",
       "    }\n",
       "</style>\n",
       "<table border=\"1\" class=\"dataframe\">\n",
       "  <thead>\n",
       "    <tr style=\"text-align: right;\">\n",
       "      <th></th>\n",
       "      <th>id</th>\n",
       "      <th>call_date</th>\n",
       "      <th>duration</th>\n",
       "      <th>user_id</th>\n",
       "      <th>call_date_month</th>\n",
       "    </tr>\n",
       "  </thead>\n",
       "  <tbody>\n",
       "    <tr>\n",
       "      <th>0</th>\n",
       "      <td>1000_0</td>\n",
       "      <td>2018-07-25</td>\n",
       "      <td>0.00</td>\n",
       "      <td>1000</td>\n",
       "      <td>7</td>\n",
       "    </tr>\n",
       "    <tr>\n",
       "      <th>1</th>\n",
       "      <td>1000_1</td>\n",
       "      <td>2018-08-17</td>\n",
       "      <td>0.00</td>\n",
       "      <td>1000</td>\n",
       "      <td>8</td>\n",
       "    </tr>\n",
       "    <tr>\n",
       "      <th>2</th>\n",
       "      <td>1000_2</td>\n",
       "      <td>2018-06-11</td>\n",
       "      <td>2.85</td>\n",
       "      <td>1000</td>\n",
       "      <td>6</td>\n",
       "    </tr>\n",
       "    <tr>\n",
       "      <th>3</th>\n",
       "      <td>1000_3</td>\n",
       "      <td>2018-09-21</td>\n",
       "      <td>13.80</td>\n",
       "      <td>1000</td>\n",
       "      <td>9</td>\n",
       "    </tr>\n",
       "    <tr>\n",
       "      <th>4</th>\n",
       "      <td>1000_4</td>\n",
       "      <td>2018-12-15</td>\n",
       "      <td>5.18</td>\n",
       "      <td>1000</td>\n",
       "      <td>12</td>\n",
       "    </tr>\n",
       "  </tbody>\n",
       "</table>\n",
       "</div>"
      ],
      "text/plain": [
       "       id  call_date  duration  user_id  call_date_month\n",
       "0  1000_0 2018-07-25      0.00     1000                7\n",
       "1  1000_1 2018-08-17      0.00     1000                8\n",
       "2  1000_2 2018-06-11      2.85     1000                6\n",
       "3  1000_3 2018-09-21     13.80     1000                9\n",
       "4  1000_4 2018-12-15      5.18     1000               12"
      ]
     },
     "execution_count": 7,
     "metadata": {},
     "output_type": "execute_result"
    }
   ],
   "source": [
    "#создадим столбец с месяцем, в который был совершен звонок\n",
    "calls['call_date_month']=calls['call_date'].dt.month\n",
    "calls.head()"
   ]
  },
  {
   "cell_type": "code",
   "execution_count": 8,
   "id": "6ff07b24",
   "metadata": {},
   "outputs": [],
   "source": [
    "#согласно условию округлим минуты \"вверх\"\n",
    "calls['duration']=calls['duration'].apply(lambda x: math.ceil(x))"
   ]
  },
  {
   "cell_type": "code",
   "execution_count": 9,
   "id": "9af5d525",
   "metadata": {},
   "outputs": [
    {
     "data": {
      "text/html": [
       "<div>\n",
       "<style scoped>\n",
       "    .dataframe tbody tr th:only-of-type {\n",
       "        vertical-align: middle;\n",
       "    }\n",
       "\n",
       "    .dataframe tbody tr th {\n",
       "        vertical-align: top;\n",
       "    }\n",
       "\n",
       "    .dataframe thead th {\n",
       "        text-align: right;\n",
       "    }\n",
       "</style>\n",
       "<table border=\"1\" class=\"dataframe\">\n",
       "  <thead>\n",
       "    <tr style=\"text-align: right;\">\n",
       "      <th></th>\n",
       "      <th>month</th>\n",
       "      <th>user_id</th>\n",
       "      <th>minutes_all</th>\n",
       "      <th>count_calls</th>\n",
       "    </tr>\n",
       "  </thead>\n",
       "  <tbody>\n",
       "    <tr>\n",
       "      <th>0</th>\n",
       "      <td>1</td>\n",
       "      <td>1005</td>\n",
       "      <td>95</td>\n",
       "      <td>15</td>\n",
       "    </tr>\n",
       "    <tr>\n",
       "      <th>1</th>\n",
       "      <td>1</td>\n",
       "      <td>1032</td>\n",
       "      <td>380</td>\n",
       "      <td>61</td>\n",
       "    </tr>\n",
       "    <tr>\n",
       "      <th>2</th>\n",
       "      <td>1</td>\n",
       "      <td>1045</td>\n",
       "      <td>9</td>\n",
       "      <td>1</td>\n",
       "    </tr>\n",
       "    <tr>\n",
       "      <th>3</th>\n",
       "      <td>1</td>\n",
       "      <td>1055</td>\n",
       "      <td>551</td>\n",
       "      <td>64</td>\n",
       "    </tr>\n",
       "    <tr>\n",
       "      <th>4</th>\n",
       "      <td>1</td>\n",
       "      <td>1071</td>\n",
       "      <td>194</td>\n",
       "      <td>24</td>\n",
       "    </tr>\n",
       "  </tbody>\n",
       "</table>\n",
       "</div>"
      ],
      "text/plain": [
       "   month  user_id  minutes_all  count_calls\n",
       "0      1     1005           95           15\n",
       "1      1     1032          380           61\n",
       "2      1     1045            9            1\n",
       "3      1     1055          551           64\n",
       "4      1     1071          194           24"
      ]
     },
     "execution_count": 9,
     "metadata": {},
     "output_type": "execute_result"
    }
   ],
   "source": [
    "#выделяем количество звонков и минут разговора по месяцам\n",
    "table_calls=pd.pivot_table(calls, \n",
    "                     index=['call_date_month', 'user_id'], \n",
    "                     values=['id','duration'],\n",
    "                     aggfunc={'id': 'count',\n",
    "                             'duration': 'sum'}).reset_index()\n",
    "table_calls.columns=['month', 'user_id', 'minutes_all', 'count_calls']\n",
    "table_calls.head()"
   ]
  },
  {
   "cell_type": "markdown",
   "id": "0926bbf5",
   "metadata": {},
   "source": [
    "### Количество отправленных сообщений по месяцам"
   ]
  },
  {
   "cell_type": "code",
   "execution_count": 10,
   "id": "162fc69f",
   "metadata": {},
   "outputs": [
    {
     "data": {
      "text/html": [
       "<div>\n",
       "<style scoped>\n",
       "    .dataframe tbody tr th:only-of-type {\n",
       "        vertical-align: middle;\n",
       "    }\n",
       "\n",
       "    .dataframe tbody tr th {\n",
       "        vertical-align: top;\n",
       "    }\n",
       "\n",
       "    .dataframe thead th {\n",
       "        text-align: right;\n",
       "    }\n",
       "</style>\n",
       "<table border=\"1\" class=\"dataframe\">\n",
       "  <thead>\n",
       "    <tr style=\"text-align: right;\">\n",
       "      <th></th>\n",
       "      <th>id</th>\n",
       "      <th>message_date</th>\n",
       "      <th>user_id</th>\n",
       "      <th>message_date_month</th>\n",
       "    </tr>\n",
       "  </thead>\n",
       "  <tbody>\n",
       "    <tr>\n",
       "      <th>0</th>\n",
       "      <td>1000_0</td>\n",
       "      <td>2018-06-27</td>\n",
       "      <td>1000</td>\n",
       "      <td>6</td>\n",
       "    </tr>\n",
       "    <tr>\n",
       "      <th>1</th>\n",
       "      <td>1000_1</td>\n",
       "      <td>2018-10-08</td>\n",
       "      <td>1000</td>\n",
       "      <td>10</td>\n",
       "    </tr>\n",
       "    <tr>\n",
       "      <th>2</th>\n",
       "      <td>1000_2</td>\n",
       "      <td>2018-08-04</td>\n",
       "      <td>1000</td>\n",
       "      <td>8</td>\n",
       "    </tr>\n",
       "    <tr>\n",
       "      <th>3</th>\n",
       "      <td>1000_3</td>\n",
       "      <td>2018-06-16</td>\n",
       "      <td>1000</td>\n",
       "      <td>6</td>\n",
       "    </tr>\n",
       "    <tr>\n",
       "      <th>4</th>\n",
       "      <td>1000_4</td>\n",
       "      <td>2018-12-05</td>\n",
       "      <td>1000</td>\n",
       "      <td>12</td>\n",
       "    </tr>\n",
       "  </tbody>\n",
       "</table>\n",
       "</div>"
      ],
      "text/plain": [
       "       id message_date  user_id  message_date_month\n",
       "0  1000_0   2018-06-27     1000                   6\n",
       "1  1000_1   2018-10-08     1000                  10\n",
       "2  1000_2   2018-08-04     1000                   8\n",
       "3  1000_3   2018-06-16     1000                   6\n",
       "4  1000_4   2018-12-05     1000                  12"
      ]
     },
     "execution_count": 10,
     "metadata": {},
     "output_type": "execute_result"
    }
   ],
   "source": [
    "#создадим столбец с месяцем, в который было отправлено сообщение\n",
    "messages['message_date_month']=messages['message_date'].dt.month\n",
    "messages.head()"
   ]
  },
  {
   "cell_type": "code",
   "execution_count": 11,
   "id": "eedcd43e",
   "metadata": {},
   "outputs": [
    {
     "data": {
      "text/html": [
       "<div>\n",
       "<style scoped>\n",
       "    .dataframe tbody tr th:only-of-type {\n",
       "        vertical-align: middle;\n",
       "    }\n",
       "\n",
       "    .dataframe tbody tr th {\n",
       "        vertical-align: top;\n",
       "    }\n",
       "\n",
       "    .dataframe thead th {\n",
       "        text-align: right;\n",
       "    }\n",
       "</style>\n",
       "<table border=\"1\" class=\"dataframe\">\n",
       "  <thead>\n",
       "    <tr style=\"text-align: right;\">\n",
       "      <th></th>\n",
       "      <th>month</th>\n",
       "      <th>user_id</th>\n",
       "      <th>count_message</th>\n",
       "    </tr>\n",
       "  </thead>\n",
       "  <tbody>\n",
       "    <tr>\n",
       "      <th>0</th>\n",
       "      <td>1</td>\n",
       "      <td>1005</td>\n",
       "      <td>7</td>\n",
       "    </tr>\n",
       "    <tr>\n",
       "      <th>1</th>\n",
       "      <td>1</td>\n",
       "      <td>1032</td>\n",
       "      <td>38</td>\n",
       "    </tr>\n",
       "    <tr>\n",
       "      <th>2</th>\n",
       "      <td>1</td>\n",
       "      <td>1045</td>\n",
       "      <td>5</td>\n",
       "    </tr>\n",
       "    <tr>\n",
       "      <th>3</th>\n",
       "      <td>1</td>\n",
       "      <td>1055</td>\n",
       "      <td>30</td>\n",
       "    </tr>\n",
       "    <tr>\n",
       "      <th>4</th>\n",
       "      <td>1</td>\n",
       "      <td>1071</td>\n",
       "      <td>16</td>\n",
       "    </tr>\n",
       "  </tbody>\n",
       "</table>\n",
       "</div>"
      ],
      "text/plain": [
       "   month  user_id  count_message\n",
       "0      1     1005              7\n",
       "1      1     1032             38\n",
       "2      1     1045              5\n",
       "3      1     1055             30\n",
       "4      1     1071             16"
      ]
     },
     "execution_count": 11,
     "metadata": {},
     "output_type": "execute_result"
    }
   ],
   "source": [
    "table_messages=messages.groupby(['message_date_month','user_id'])['id'].count().reset_index()\n",
    "table_messages.columns=['month', 'user_id', 'count_message']\n",
    "table_messages.head()"
   ]
  },
  {
   "cell_type": "markdown",
   "id": "b2f52804",
   "metadata": {},
   "source": [
    "### Объем израсходованного интернет-трафика по месяцам\n"
   ]
  },
  {
   "cell_type": "code",
   "execution_count": 12,
   "id": "028ff7b3",
   "metadata": {},
   "outputs": [
    {
     "data": {
      "text/html": [
       "<div>\n",
       "<style scoped>\n",
       "    .dataframe tbody tr th:only-of-type {\n",
       "        vertical-align: middle;\n",
       "    }\n",
       "\n",
       "    .dataframe tbody tr th {\n",
       "        vertical-align: top;\n",
       "    }\n",
       "\n",
       "    .dataframe thead th {\n",
       "        text-align: right;\n",
       "    }\n",
       "</style>\n",
       "<table border=\"1\" class=\"dataframe\">\n",
       "  <thead>\n",
       "    <tr style=\"text-align: right;\">\n",
       "      <th></th>\n",
       "      <th>id</th>\n",
       "      <th>mb_used</th>\n",
       "      <th>session_date</th>\n",
       "      <th>user_id</th>\n",
       "      <th>session_date_month</th>\n",
       "    </tr>\n",
       "  </thead>\n",
       "  <tbody>\n",
       "    <tr>\n",
       "      <th>0</th>\n",
       "      <td>1000_0</td>\n",
       "      <td>112.95</td>\n",
       "      <td>2018-11-25</td>\n",
       "      <td>1000</td>\n",
       "      <td>11</td>\n",
       "    </tr>\n",
       "    <tr>\n",
       "      <th>1</th>\n",
       "      <td>1000_1</td>\n",
       "      <td>1052.81</td>\n",
       "      <td>2018-09-07</td>\n",
       "      <td>1000</td>\n",
       "      <td>9</td>\n",
       "    </tr>\n",
       "    <tr>\n",
       "      <th>2</th>\n",
       "      <td>1000_2</td>\n",
       "      <td>1197.26</td>\n",
       "      <td>2018-06-25</td>\n",
       "      <td>1000</td>\n",
       "      <td>6</td>\n",
       "    </tr>\n",
       "    <tr>\n",
       "      <th>3</th>\n",
       "      <td>1000_3</td>\n",
       "      <td>550.27</td>\n",
       "      <td>2018-08-22</td>\n",
       "      <td>1000</td>\n",
       "      <td>8</td>\n",
       "    </tr>\n",
       "    <tr>\n",
       "      <th>4</th>\n",
       "      <td>1000_4</td>\n",
       "      <td>302.56</td>\n",
       "      <td>2018-09-24</td>\n",
       "      <td>1000</td>\n",
       "      <td>9</td>\n",
       "    </tr>\n",
       "  </tbody>\n",
       "</table>\n",
       "</div>"
      ],
      "text/plain": [
       "       id  mb_used session_date  user_id  session_date_month\n",
       "0  1000_0   112.95   2018-11-25     1000                  11\n",
       "1  1000_1  1052.81   2018-09-07     1000                   9\n",
       "2  1000_2  1197.26   2018-06-25     1000                   6\n",
       "3  1000_3   550.27   2018-08-22     1000                   8\n",
       "4  1000_4   302.56   2018-09-24     1000                   9"
      ]
     },
     "execution_count": 12,
     "metadata": {},
     "output_type": "execute_result"
    }
   ],
   "source": [
    "#создадим столбец с месяцем, в который была сессия\n",
    "internet['session_date_month']=internet['session_date'].dt.month\n",
    "internet.head()"
   ]
  },
  {
   "cell_type": "code",
   "execution_count": 13,
   "id": "a0592043",
   "metadata": {
    "scrolled": true
   },
   "outputs": [
    {
     "data": {
      "text/html": [
       "<div>\n",
       "<style scoped>\n",
       "    .dataframe tbody tr th:only-of-type {\n",
       "        vertical-align: middle;\n",
       "    }\n",
       "\n",
       "    .dataframe tbody tr th {\n",
       "        vertical-align: top;\n",
       "    }\n",
       "\n",
       "    .dataframe thead th {\n",
       "        text-align: right;\n",
       "    }\n",
       "</style>\n",
       "<table border=\"1\" class=\"dataframe\">\n",
       "  <thead>\n",
       "    <tr style=\"text-align: right;\">\n",
       "      <th></th>\n",
       "      <th>month</th>\n",
       "      <th>user_id</th>\n",
       "      <th>volume_session</th>\n",
       "    </tr>\n",
       "  </thead>\n",
       "  <tbody>\n",
       "    <tr>\n",
       "      <th>0</th>\n",
       "      <td>1</td>\n",
       "      <td>1005</td>\n",
       "      <td>2727.97</td>\n",
       "    </tr>\n",
       "    <tr>\n",
       "      <th>1</th>\n",
       "      <td>1</td>\n",
       "      <td>1032</td>\n",
       "      <td>24127.69</td>\n",
       "    </tr>\n",
       "    <tr>\n",
       "      <th>2</th>\n",
       "      <td>1</td>\n",
       "      <td>1045</td>\n",
       "      <td>2346.71</td>\n",
       "    </tr>\n",
       "    <tr>\n",
       "      <th>3</th>\n",
       "      <td>1</td>\n",
       "      <td>1055</td>\n",
       "      <td>17090.88</td>\n",
       "    </tr>\n",
       "    <tr>\n",
       "      <th>4</th>\n",
       "      <td>1</td>\n",
       "      <td>1071</td>\n",
       "      <td>15604.34</td>\n",
       "    </tr>\n",
       "  </tbody>\n",
       "</table>\n",
       "</div>"
      ],
      "text/plain": [
       "   month  user_id  volume_session\n",
       "0      1     1005         2727.97\n",
       "1      1     1032        24127.69\n",
       "2      1     1045         2346.71\n",
       "3      1     1055        17090.88\n",
       "4      1     1071        15604.34"
      ]
     },
     "execution_count": 13,
     "metadata": {},
     "output_type": "execute_result"
    }
   ],
   "source": [
    "table_internet=internet.groupby(['session_date_month', 'user_id'])['mb_used'].sum().reset_index()\n",
    "table_internet.columns=['month','user_id', 'volume_session']\n",
    "table_internet.head()"
   ]
  },
  {
   "cell_type": "markdown",
   "id": "73fabe56",
   "metadata": {},
   "source": [
    "### Помесячная выручка каждого пользователя"
   ]
  },
  {
   "cell_type": "code",
   "execution_count": 14,
   "id": "7e54ad45",
   "metadata": {
    "scrolled": false
   },
   "outputs": [
    {
     "name": "stdout",
     "output_type": "stream",
     "text": [
      "<class 'pandas.core.frame.DataFrame'>\n",
      "Int64Index: 3214 entries, 0 to 3213\n",
      "Data columns (total 6 columns):\n",
      " #   Column          Non-Null Count  Dtype  \n",
      "---  ------          --------------  -----  \n",
      " 0   month           3214 non-null   int64  \n",
      " 1   user_id         3214 non-null   int64  \n",
      " 2   minutes_all     3174 non-null   float64\n",
      " 3   count_calls     3174 non-null   float64\n",
      " 4   count_message   2717 non-null   float64\n",
      " 5   volume_session  3203 non-null   float64\n",
      "dtypes: float64(4), int64(2)\n",
      "memory usage: 175.8 KB\n"
     ]
    },
    {
     "data": {
      "text/html": [
       "<div>\n",
       "<style scoped>\n",
       "    .dataframe tbody tr th:only-of-type {\n",
       "        vertical-align: middle;\n",
       "    }\n",
       "\n",
       "    .dataframe tbody tr th {\n",
       "        vertical-align: top;\n",
       "    }\n",
       "\n",
       "    .dataframe thead th {\n",
       "        text-align: right;\n",
       "    }\n",
       "</style>\n",
       "<table border=\"1\" class=\"dataframe\">\n",
       "  <thead>\n",
       "    <tr style=\"text-align: right;\">\n",
       "      <th></th>\n",
       "      <th>month</th>\n",
       "      <th>user_id</th>\n",
       "      <th>minutes_all</th>\n",
       "      <th>count_calls</th>\n",
       "      <th>count_message</th>\n",
       "      <th>volume_session</th>\n",
       "    </tr>\n",
       "  </thead>\n",
       "  <tbody>\n",
       "    <tr>\n",
       "      <th>0</th>\n",
       "      <td>1</td>\n",
       "      <td>1005</td>\n",
       "      <td>95.0</td>\n",
       "      <td>15.0</td>\n",
       "      <td>7.0</td>\n",
       "      <td>2727.97</td>\n",
       "    </tr>\n",
       "    <tr>\n",
       "      <th>1</th>\n",
       "      <td>1</td>\n",
       "      <td>1032</td>\n",
       "      <td>380.0</td>\n",
       "      <td>61.0</td>\n",
       "      <td>38.0</td>\n",
       "      <td>24127.69</td>\n",
       "    </tr>\n",
       "    <tr>\n",
       "      <th>2</th>\n",
       "      <td>1</td>\n",
       "      <td>1045</td>\n",
       "      <td>9.0</td>\n",
       "      <td>1.0</td>\n",
       "      <td>5.0</td>\n",
       "      <td>2346.71</td>\n",
       "    </tr>\n",
       "    <tr>\n",
       "      <th>3</th>\n",
       "      <td>1</td>\n",
       "      <td>1055</td>\n",
       "      <td>551.0</td>\n",
       "      <td>64.0</td>\n",
       "      <td>30.0</td>\n",
       "      <td>17090.88</td>\n",
       "    </tr>\n",
       "    <tr>\n",
       "      <th>4</th>\n",
       "      <td>1</td>\n",
       "      <td>1071</td>\n",
       "      <td>194.0</td>\n",
       "      <td>24.0</td>\n",
       "      <td>16.0</td>\n",
       "      <td>15604.34</td>\n",
       "    </tr>\n",
       "  </tbody>\n",
       "</table>\n",
       "</div>"
      ],
      "text/plain": [
       "   month  user_id  minutes_all  count_calls  count_message  volume_session\n",
       "0      1     1005         95.0         15.0            7.0         2727.97\n",
       "1      1     1032        380.0         61.0           38.0        24127.69\n",
       "2      1     1045          9.0          1.0            5.0         2346.71\n",
       "3      1     1055        551.0         64.0           30.0        17090.88\n",
       "4      1     1071        194.0         24.0           16.0        15604.34"
      ]
     },
     "execution_count": 14,
     "metadata": {},
     "output_type": "execute_result"
    }
   ],
   "source": [
    "table=pd.merge(table_calls,table_messages, how='outer', on=['user_id','month']).merge(table_internet, how='outer', on=['user_id','month'])\n",
    "table.info()\n",
    "table.head()"
   ]
  },
  {
   "cell_type": "code",
   "execution_count": 15,
   "id": "c08a6f7b",
   "metadata": {},
   "outputs": [
    {
     "data": {
      "text/html": [
       "<div>\n",
       "<style scoped>\n",
       "    .dataframe tbody tr th:only-of-type {\n",
       "        vertical-align: middle;\n",
       "    }\n",
       "\n",
       "    .dataframe tbody tr th {\n",
       "        vertical-align: top;\n",
       "    }\n",
       "\n",
       "    .dataframe thead th {\n",
       "        text-align: right;\n",
       "    }\n",
       "</style>\n",
       "<table border=\"1\" class=\"dataframe\">\n",
       "  <thead>\n",
       "    <tr style=\"text-align: right;\">\n",
       "      <th></th>\n",
       "      <th>month</th>\n",
       "      <th>user_id</th>\n",
       "      <th>minutes_all</th>\n",
       "      <th>count_calls</th>\n",
       "      <th>count_message</th>\n",
       "      <th>volume_session</th>\n",
       "    </tr>\n",
       "  </thead>\n",
       "  <tbody>\n",
       "    <tr>\n",
       "      <th>3174</th>\n",
       "      <td>4</td>\n",
       "      <td>1106</td>\n",
       "      <td>NaN</td>\n",
       "      <td>NaN</td>\n",
       "      <td>9.0</td>\n",
       "      <td>2923.49</td>\n",
       "    </tr>\n",
       "    <tr>\n",
       "      <th>3176</th>\n",
       "      <td>5</td>\n",
       "      <td>1106</td>\n",
       "      <td>NaN</td>\n",
       "      <td>NaN</td>\n",
       "      <td>28.0</td>\n",
       "      <td>16573.01</td>\n",
       "    </tr>\n",
       "    <tr>\n",
       "      <th>3179</th>\n",
       "      <td>6</td>\n",
       "      <td>1106</td>\n",
       "      <td>NaN</td>\n",
       "      <td>NaN</td>\n",
       "      <td>30.0</td>\n",
       "      <td>20016.74</td>\n",
       "    </tr>\n",
       "    <tr>\n",
       "      <th>3183</th>\n",
       "      <td>7</td>\n",
       "      <td>1106</td>\n",
       "      <td>NaN</td>\n",
       "      <td>NaN</td>\n",
       "      <td>24.0</td>\n",
       "      <td>21626.86</td>\n",
       "    </tr>\n",
       "    <tr>\n",
       "      <th>3186</th>\n",
       "      <td>8</td>\n",
       "      <td>1106</td>\n",
       "      <td>NaN</td>\n",
       "      <td>NaN</td>\n",
       "      <td>25.0</td>\n",
       "      <td>19088.67</td>\n",
       "    </tr>\n",
       "    <tr>\n",
       "      <th>3191</th>\n",
       "      <td>9</td>\n",
       "      <td>1106</td>\n",
       "      <td>NaN</td>\n",
       "      <td>NaN</td>\n",
       "      <td>23.0</td>\n",
       "      <td>21934.03</td>\n",
       "    </tr>\n",
       "    <tr>\n",
       "      <th>3196</th>\n",
       "      <td>10</td>\n",
       "      <td>1106</td>\n",
       "      <td>NaN</td>\n",
       "      <td>NaN</td>\n",
       "      <td>33.0</td>\n",
       "      <td>14010.32</td>\n",
       "    </tr>\n",
       "    <tr>\n",
       "      <th>3202</th>\n",
       "      <td>11</td>\n",
       "      <td>1106</td>\n",
       "      <td>NaN</td>\n",
       "      <td>NaN</td>\n",
       "      <td>29.0</td>\n",
       "      <td>21289.27</td>\n",
       "    </tr>\n",
       "    <tr>\n",
       "      <th>3208</th>\n",
       "      <td>12</td>\n",
       "      <td>1106</td>\n",
       "      <td>NaN</td>\n",
       "      <td>NaN</td>\n",
       "      <td>24.0</td>\n",
       "      <td>18701.51</td>\n",
       "    </tr>\n",
       "  </tbody>\n",
       "</table>\n",
       "</div>"
      ],
      "text/plain": [
       "      month  user_id  minutes_all  count_calls  count_message  volume_session\n",
       "3174      4     1106          NaN          NaN            9.0         2923.49\n",
       "3176      5     1106          NaN          NaN           28.0        16573.01\n",
       "3179      6     1106          NaN          NaN           30.0        20016.74\n",
       "3183      7     1106          NaN          NaN           24.0        21626.86\n",
       "3186      8     1106          NaN          NaN           25.0        19088.67\n",
       "3191      9     1106          NaN          NaN           23.0        21934.03\n",
       "3196     10     1106          NaN          NaN           33.0        14010.32\n",
       "3202     11     1106          NaN          NaN           29.0        21289.27\n",
       "3208     12     1106          NaN          NaN           24.0        18701.51"
      ]
     },
     "execution_count": 15,
     "metadata": {},
     "output_type": "execute_result"
    }
   ],
   "source": [
    "#изучим данные о звонках с пропусками\n",
    "table[table['minutes_all'].isna()]\n",
    "#пример пользователя\n",
    "table.query('user_id==1106')"
   ]
  },
  {
   "cell_type": "markdown",
   "id": "80c1684e",
   "metadata": {},
   "source": [
    "Некоторые пользователи пользовались только одной услугой в месяце, заменим пропуски, нулевыми значениями, чтобы не потерять данные."
   ]
  },
  {
   "cell_type": "code",
   "execution_count": 16,
   "id": "cb0f370e",
   "metadata": {},
   "outputs": [
    {
     "data": {
      "text/html": [
       "<div>\n",
       "<style scoped>\n",
       "    .dataframe tbody tr th:only-of-type {\n",
       "        vertical-align: middle;\n",
       "    }\n",
       "\n",
       "    .dataframe tbody tr th {\n",
       "        vertical-align: top;\n",
       "    }\n",
       "\n",
       "    .dataframe thead th {\n",
       "        text-align: right;\n",
       "    }\n",
       "</style>\n",
       "<table border=\"1\" class=\"dataframe\">\n",
       "  <thead>\n",
       "    <tr style=\"text-align: right;\">\n",
       "      <th></th>\n",
       "      <th>month</th>\n",
       "      <th>user_id</th>\n",
       "      <th>minutes_all</th>\n",
       "      <th>count_calls</th>\n",
       "      <th>count_message</th>\n",
       "      <th>volume_session</th>\n",
       "    </tr>\n",
       "  </thead>\n",
       "  <tbody>\n",
       "    <tr>\n",
       "      <th>6</th>\n",
       "      <td>1</td>\n",
       "      <td>1120</td>\n",
       "      <td>55.0</td>\n",
       "      <td>5.0</td>\n",
       "      <td>NaN</td>\n",
       "      <td>656.75</td>\n",
       "    </tr>\n",
       "    <tr>\n",
       "      <th>15</th>\n",
       "      <td>1</td>\n",
       "      <td>1204</td>\n",
       "      <td>305.0</td>\n",
       "      <td>50.0</td>\n",
       "      <td>NaN</td>\n",
       "      <td>15829.77</td>\n",
       "    </tr>\n",
       "    <tr>\n",
       "      <th>19</th>\n",
       "      <td>1</td>\n",
       "      <td>1254</td>\n",
       "      <td>466.0</td>\n",
       "      <td>59.0</td>\n",
       "      <td>NaN</td>\n",
       "      <td>19685.01</td>\n",
       "    </tr>\n",
       "    <tr>\n",
       "      <th>25</th>\n",
       "      <td>1</td>\n",
       "      <td>1340</td>\n",
       "      <td>25.0</td>\n",
       "      <td>5.0</td>\n",
       "      <td>NaN</td>\n",
       "      <td>2207.26</td>\n",
       "    </tr>\n",
       "    <tr>\n",
       "      <th>37</th>\n",
       "      <td>1</td>\n",
       "      <td>1429</td>\n",
       "      <td>70.0</td>\n",
       "      <td>10.0</td>\n",
       "      <td>NaN</td>\n",
       "      <td>2147.23</td>\n",
       "    </tr>\n",
       "    <tr>\n",
       "      <th>...</th>\n",
       "      <td>...</td>\n",
       "      <td>...</td>\n",
       "      <td>...</td>\n",
       "      <td>...</td>\n",
       "      <td>...</td>\n",
       "      <td>...</td>\n",
       "    </tr>\n",
       "    <tr>\n",
       "      <th>3144</th>\n",
       "      <td>12</td>\n",
       "      <td>1466</td>\n",
       "      <td>659.0</td>\n",
       "      <td>82.0</td>\n",
       "      <td>NaN</td>\n",
       "      <td>14626.91</td>\n",
       "    </tr>\n",
       "    <tr>\n",
       "      <th>3147</th>\n",
       "      <td>12</td>\n",
       "      <td>1469</td>\n",
       "      <td>635.0</td>\n",
       "      <td>106.0</td>\n",
       "      <td>NaN</td>\n",
       "      <td>27762.83</td>\n",
       "    </tr>\n",
       "    <tr>\n",
       "      <th>3156</th>\n",
       "      <td>12</td>\n",
       "      <td>1479</td>\n",
       "      <td>576.0</td>\n",
       "      <td>81.0</td>\n",
       "      <td>NaN</td>\n",
       "      <td>23425.98</td>\n",
       "    </tr>\n",
       "    <tr>\n",
       "      <th>3169</th>\n",
       "      <td>12</td>\n",
       "      <td>1494</td>\n",
       "      <td>418.0</td>\n",
       "      <td>62.0</td>\n",
       "      <td>NaN</td>\n",
       "      <td>17621.21</td>\n",
       "    </tr>\n",
       "    <tr>\n",
       "      <th>3213</th>\n",
       "      <td>4</td>\n",
       "      <td>1476</td>\n",
       "      <td>NaN</td>\n",
       "      <td>NaN</td>\n",
       "      <td>NaN</td>\n",
       "      <td>530.78</td>\n",
       "    </tr>\n",
       "  </tbody>\n",
       "</table>\n",
       "<p>497 rows × 6 columns</p>\n",
       "</div>"
      ],
      "text/plain": [
       "      month  user_id  minutes_all  count_calls  count_message  volume_session\n",
       "6         1     1120         55.0          5.0            NaN          656.75\n",
       "15        1     1204        305.0         50.0            NaN        15829.77\n",
       "19        1     1254        466.0         59.0            NaN        19685.01\n",
       "25        1     1340         25.0          5.0            NaN         2207.26\n",
       "37        1     1429         70.0         10.0            NaN         2147.23\n",
       "...     ...      ...          ...          ...            ...             ...\n",
       "3144     12     1466        659.0         82.0            NaN        14626.91\n",
       "3147     12     1469        635.0        106.0            NaN        27762.83\n",
       "3156     12     1479        576.0         81.0            NaN        23425.98\n",
       "3169     12     1494        418.0         62.0            NaN        17621.21\n",
       "3213      4     1476          NaN          NaN            NaN          530.78\n",
       "\n",
       "[497 rows x 6 columns]"
      ]
     },
     "execution_count": 16,
     "metadata": {},
     "output_type": "execute_result"
    }
   ],
   "source": [
    "#изучим данные о смс с пропусками\n",
    "table[table['count_message'].isna()]"
   ]
  },
  {
   "cell_type": "markdown",
   "id": "a3e44d5a",
   "metadata": {},
   "source": [
    "Сообщениями, действительно, не так часто пользуются, пропусков большое количесвто, заменим пропуски на ноль."
   ]
  },
  {
   "cell_type": "code",
   "execution_count": 17,
   "id": "db75e27e",
   "metadata": {},
   "outputs": [
    {
     "name": "stdout",
     "output_type": "stream",
     "text": [
      "<class 'pandas.core.frame.DataFrame'>\n",
      "Int64Index: 3214 entries, 0 to 3213\n",
      "Data columns (total 6 columns):\n",
      " #   Column          Non-Null Count  Dtype  \n",
      "---  ------          --------------  -----  \n",
      " 0   month           3214 non-null   int64  \n",
      " 1   user_id         3214 non-null   int64  \n",
      " 2   minutes_all     3214 non-null   float64\n",
      " 3   count_calls     3214 non-null   float64\n",
      " 4   count_message   3214 non-null   float64\n",
      " 5   volume_session  3214 non-null   float64\n",
      "dtypes: float64(4), int64(2)\n",
      "memory usage: 175.8 KB\n"
     ]
    }
   ],
   "source": [
    "table=table.fillna(0)\n",
    "table.info()"
   ]
  },
  {
   "cell_type": "code",
   "execution_count": 18,
   "id": "44412519",
   "metadata": {},
   "outputs": [],
   "source": [
    "#Создадим таблицу, в которой будут присутсвовать данные для расчета помесячной выручки.\n",
    "table_income=users.merge(table, how='left', on=['user_id'])\n"
   ]
  },
  {
   "cell_type": "code",
   "execution_count": 19,
   "id": "a4d37d68",
   "metadata": {
    "scrolled": false
   },
   "outputs": [
    {
     "name": "stdout",
     "output_type": "stream",
     "text": [
      "<class 'pandas.core.frame.DataFrame'>\n",
      "Int64Index: 3216 entries, 0 to 3215\n",
      "Data columns (total 13 columns):\n",
      " #   Column          Non-Null Count  Dtype         \n",
      "---  ------          --------------  -----         \n",
      " 0   user_id         3216 non-null   int64         \n",
      " 1   age             3216 non-null   int64         \n",
      " 2   churn_date      189 non-null    datetime64[ns]\n",
      " 3   city            3216 non-null   object        \n",
      " 4   first_name      3216 non-null   object        \n",
      " 5   last_name       3216 non-null   object        \n",
      " 6   reg_date        3216 non-null   datetime64[ns]\n",
      " 7   tariff          3216 non-null   object        \n",
      " 8   month           3214 non-null   float64       \n",
      " 9   minutes_all     3214 non-null   float64       \n",
      " 10  count_calls     3214 non-null   float64       \n",
      " 11  count_message   3214 non-null   float64       \n",
      " 12  volume_session  3214 non-null   float64       \n",
      "dtypes: datetime64[ns](2), float64(5), int64(2), object(4)\n",
      "memory usage: 351.8+ KB\n"
     ]
    },
    {
     "data": {
      "text/html": [
       "<div>\n",
       "<style scoped>\n",
       "    .dataframe tbody tr th:only-of-type {\n",
       "        vertical-align: middle;\n",
       "    }\n",
       "\n",
       "    .dataframe tbody tr th {\n",
       "        vertical-align: top;\n",
       "    }\n",
       "\n",
       "    .dataframe thead th {\n",
       "        text-align: right;\n",
       "    }\n",
       "</style>\n",
       "<table border=\"1\" class=\"dataframe\">\n",
       "  <thead>\n",
       "    <tr style=\"text-align: right;\">\n",
       "      <th></th>\n",
       "      <th>user_id</th>\n",
       "      <th>age</th>\n",
       "      <th>churn_date</th>\n",
       "      <th>city</th>\n",
       "      <th>first_name</th>\n",
       "      <th>last_name</th>\n",
       "      <th>reg_date</th>\n",
       "      <th>tariff</th>\n",
       "      <th>month</th>\n",
       "      <th>minutes_all</th>\n",
       "      <th>count_calls</th>\n",
       "      <th>count_message</th>\n",
       "      <th>volume_session</th>\n",
       "    </tr>\n",
       "  </thead>\n",
       "  <tbody>\n",
       "    <tr>\n",
       "      <th>0</th>\n",
       "      <td>1000</td>\n",
       "      <td>52</td>\n",
       "      <td>NaT</td>\n",
       "      <td>Краснодар</td>\n",
       "      <td>Рафаил</td>\n",
       "      <td>Верещагин</td>\n",
       "      <td>2018-05-25</td>\n",
       "      <td>ultra</td>\n",
       "      <td>5.0</td>\n",
       "      <td>159.0</td>\n",
       "      <td>22.0</td>\n",
       "      <td>22.0</td>\n",
       "      <td>2253.49</td>\n",
       "    </tr>\n",
       "    <tr>\n",
       "      <th>1</th>\n",
       "      <td>1000</td>\n",
       "      <td>52</td>\n",
       "      <td>NaT</td>\n",
       "      <td>Краснодар</td>\n",
       "      <td>Рафаил</td>\n",
       "      <td>Верещагин</td>\n",
       "      <td>2018-05-25</td>\n",
       "      <td>ultra</td>\n",
       "      <td>6.0</td>\n",
       "      <td>172.0</td>\n",
       "      <td>43.0</td>\n",
       "      <td>60.0</td>\n",
       "      <td>23233.77</td>\n",
       "    </tr>\n",
       "    <tr>\n",
       "      <th>2</th>\n",
       "      <td>1000</td>\n",
       "      <td>52</td>\n",
       "      <td>NaT</td>\n",
       "      <td>Краснодар</td>\n",
       "      <td>Рафаил</td>\n",
       "      <td>Верещагин</td>\n",
       "      <td>2018-05-25</td>\n",
       "      <td>ultra</td>\n",
       "      <td>7.0</td>\n",
       "      <td>340.0</td>\n",
       "      <td>47.0</td>\n",
       "      <td>75.0</td>\n",
       "      <td>14003.64</td>\n",
       "    </tr>\n",
       "    <tr>\n",
       "      <th>3</th>\n",
       "      <td>1000</td>\n",
       "      <td>52</td>\n",
       "      <td>NaT</td>\n",
       "      <td>Краснодар</td>\n",
       "      <td>Рафаил</td>\n",
       "      <td>Верещагин</td>\n",
       "      <td>2018-05-25</td>\n",
       "      <td>ultra</td>\n",
       "      <td>8.0</td>\n",
       "      <td>408.0</td>\n",
       "      <td>52.0</td>\n",
       "      <td>81.0</td>\n",
       "      <td>14055.93</td>\n",
       "    </tr>\n",
       "    <tr>\n",
       "      <th>4</th>\n",
       "      <td>1000</td>\n",
       "      <td>52</td>\n",
       "      <td>NaT</td>\n",
       "      <td>Краснодар</td>\n",
       "      <td>Рафаил</td>\n",
       "      <td>Верещагин</td>\n",
       "      <td>2018-05-25</td>\n",
       "      <td>ultra</td>\n",
       "      <td>9.0</td>\n",
       "      <td>466.0</td>\n",
       "      <td>58.0</td>\n",
       "      <td>57.0</td>\n",
       "      <td>14568.91</td>\n",
       "    </tr>\n",
       "  </tbody>\n",
       "</table>\n",
       "</div>"
      ],
      "text/plain": [
       "   user_id  age churn_date       city first_name  last_name   reg_date tariff  \\\n",
       "0     1000   52        NaT  Краснодар     Рафаил  Верещагин 2018-05-25  ultra   \n",
       "1     1000   52        NaT  Краснодар     Рафаил  Верещагин 2018-05-25  ultra   \n",
       "2     1000   52        NaT  Краснодар     Рафаил  Верещагин 2018-05-25  ultra   \n",
       "3     1000   52        NaT  Краснодар     Рафаил  Верещагин 2018-05-25  ultra   \n",
       "4     1000   52        NaT  Краснодар     Рафаил  Верещагин 2018-05-25  ultra   \n",
       "\n",
       "   month  minutes_all  count_calls  count_message  volume_session  \n",
       "0    5.0        159.0         22.0           22.0         2253.49  \n",
       "1    6.0        172.0         43.0           60.0        23233.77  \n",
       "2    7.0        340.0         47.0           75.0        14003.64  \n",
       "3    8.0        408.0         52.0           81.0        14055.93  \n",
       "4    9.0        466.0         58.0           57.0        14568.91  "
      ]
     },
     "execution_count": 19,
     "metadata": {},
     "output_type": "execute_result"
    }
   ],
   "source": [
    "table_income.info()\n",
    "table_income.head()"
   ]
  },
  {
   "cell_type": "code",
   "execution_count": 20,
   "id": "3704de65",
   "metadata": {
    "scrolled": true
   },
   "outputs": [
    {
     "data": {
      "text/html": [
       "<div>\n",
       "<style scoped>\n",
       "    .dataframe tbody tr th:only-of-type {\n",
       "        vertical-align: middle;\n",
       "    }\n",
       "\n",
       "    .dataframe tbody tr th {\n",
       "        vertical-align: top;\n",
       "    }\n",
       "\n",
       "    .dataframe thead th {\n",
       "        text-align: right;\n",
       "    }\n",
       "</style>\n",
       "<table border=\"1\" class=\"dataframe\">\n",
       "  <thead>\n",
       "    <tr style=\"text-align: right;\">\n",
       "      <th></th>\n",
       "      <th>user_id</th>\n",
       "      <th>age</th>\n",
       "      <th>churn_date</th>\n",
       "      <th>city</th>\n",
       "      <th>first_name</th>\n",
       "      <th>last_name</th>\n",
       "      <th>reg_date</th>\n",
       "      <th>tariff</th>\n",
       "      <th>month</th>\n",
       "      <th>minutes_all</th>\n",
       "      <th>count_calls</th>\n",
       "      <th>count_message</th>\n",
       "      <th>volume_session</th>\n",
       "    </tr>\n",
       "  </thead>\n",
       "  <tbody>\n",
       "    <tr>\n",
       "      <th>827</th>\n",
       "      <td>1128</td>\n",
       "      <td>51</td>\n",
       "      <td>2018-12-23</td>\n",
       "      <td>Волжский</td>\n",
       "      <td>Ксения</td>\n",
       "      <td>Агаева</td>\n",
       "      <td>2018-12-15</td>\n",
       "      <td>ultra</td>\n",
       "      <td>NaN</td>\n",
       "      <td>NaN</td>\n",
       "      <td>NaN</td>\n",
       "      <td>NaN</td>\n",
       "      <td>NaN</td>\n",
       "    </tr>\n",
       "    <tr>\n",
       "      <th>2335</th>\n",
       "      <td>1371</td>\n",
       "      <td>50</td>\n",
       "      <td>2018-12-30</td>\n",
       "      <td>Омск</td>\n",
       "      <td>Ириней</td>\n",
       "      <td>Трофимов</td>\n",
       "      <td>2018-12-25</td>\n",
       "      <td>smart</td>\n",
       "      <td>NaN</td>\n",
       "      <td>NaN</td>\n",
       "      <td>NaN</td>\n",
       "      <td>NaN</td>\n",
       "      <td>NaN</td>\n",
       "    </tr>\n",
       "  </tbody>\n",
       "</table>\n",
       "</div>"
      ],
      "text/plain": [
       "      user_id  age churn_date      city first_name last_name   reg_date  \\\n",
       "827      1128   51 2018-12-23  Волжский     Ксения    Агаева 2018-12-15   \n",
       "2335     1371   50 2018-12-30      Омск     Ириней  Трофимов 2018-12-25   \n",
       "\n",
       "     tariff  month  minutes_all  count_calls  count_message  volume_session  \n",
       "827   ultra    NaN          NaN          NaN            NaN             NaN  \n",
       "2335  smart    NaN          NaN          NaN            NaN             NaN  "
      ]
     },
     "execution_count": 20,
     "metadata": {},
     "output_type": "execute_result"
    }
   ],
   "source": [
    "#изучим данные с пропусками\n",
    "table_income[table_income['minutes_all'].isna()]"
   ]
  },
  {
   "cell_type": "markdown",
   "id": "75b5c1ec",
   "metadata": {},
   "source": [
    "Всего двое пользователей, которые аероятнее всего, еще не успели воспользоваться услугами, дата регистрации декабрь 2018.  \n",
    "В дальнейшем будем рассматривать таблицу без этих пользователей."
   ]
  },
  {
   "cell_type": "code",
   "execution_count": 21,
   "id": "cf1b00cf",
   "metadata": {},
   "outputs": [],
   "source": [
    "table_income=table_income.query('user_id !=[1128,1371]')"
   ]
  },
  {
   "cell_type": "code",
   "execution_count": 22,
   "id": "8c957445",
   "metadata": {
    "scrolled": true
   },
   "outputs": [
    {
     "name": "stdout",
     "output_type": "stream",
     "text": [
      "<class 'pandas.core.frame.DataFrame'>\n",
      "Int64Index: 3214 entries, 0 to 3215\n",
      "Data columns (total 13 columns):\n",
      " #   Column          Non-Null Count  Dtype         \n",
      "---  ------          --------------  -----         \n",
      " 0   user_id         3214 non-null   int64         \n",
      " 1   age             3214 non-null   int64         \n",
      " 2   churn_date      187 non-null    datetime64[ns]\n",
      " 3   city            3214 non-null   object        \n",
      " 4   first_name      3214 non-null   object        \n",
      " 5   last_name       3214 non-null   object        \n",
      " 6   reg_date        3214 non-null   datetime64[ns]\n",
      " 7   tariff          3214 non-null   object        \n",
      " 8   month           3214 non-null   float64       \n",
      " 9   minutes_all     3214 non-null   float64       \n",
      " 10  count_calls     3214 non-null   float64       \n",
      " 11  count_message   3214 non-null   float64       \n",
      " 12  volume_session  3214 non-null   float64       \n",
      "dtypes: datetime64[ns](2), float64(5), int64(2), object(4)\n",
      "memory usage: 351.5+ KB\n"
     ]
    }
   ],
   "source": [
    "table_income[['month','minutes_all','count_calls']]=table_income[['month','minutes_all','count_calls']].fillna(0)\n",
    "table_income.info()"
   ]
  },
  {
   "cell_type": "code",
   "execution_count": 23,
   "id": "55dfef6b",
   "metadata": {
    "scrolled": false
   },
   "outputs": [
    {
     "data": {
      "text/html": [
       "<div>\n",
       "<style scoped>\n",
       "    .dataframe tbody tr th:only-of-type {\n",
       "        vertical-align: middle;\n",
       "    }\n",
       "\n",
       "    .dataframe tbody tr th {\n",
       "        vertical-align: top;\n",
       "    }\n",
       "\n",
       "    .dataframe thead th {\n",
       "        text-align: right;\n",
       "    }\n",
       "</style>\n",
       "<table border=\"1\" class=\"dataframe\">\n",
       "  <thead>\n",
       "    <tr style=\"text-align: right;\">\n",
       "      <th></th>\n",
       "      <th>user_id</th>\n",
       "      <th>age</th>\n",
       "      <th>churn_date</th>\n",
       "      <th>city</th>\n",
       "      <th>first_name</th>\n",
       "      <th>last_name</th>\n",
       "      <th>reg_date</th>\n",
       "      <th>tariff</th>\n",
       "      <th>month</th>\n",
       "      <th>minutes_all</th>\n",
       "      <th>count_calls</th>\n",
       "      <th>count_message</th>\n",
       "      <th>volume_session</th>\n",
       "      <th>income</th>\n",
       "    </tr>\n",
       "  </thead>\n",
       "  <tbody>\n",
       "    <tr>\n",
       "      <th>0</th>\n",
       "      <td>1000</td>\n",
       "      <td>52</td>\n",
       "      <td>NaT</td>\n",
       "      <td>Краснодар</td>\n",
       "      <td>Рафаил</td>\n",
       "      <td>Верещагин</td>\n",
       "      <td>2018-05-25</td>\n",
       "      <td>ultra</td>\n",
       "      <td>5.0</td>\n",
       "      <td>159.0</td>\n",
       "      <td>22.0</td>\n",
       "      <td>22.0</td>\n",
       "      <td>2253.49</td>\n",
       "      <td>1950.0</td>\n",
       "    </tr>\n",
       "    <tr>\n",
       "      <th>1</th>\n",
       "      <td>1000</td>\n",
       "      <td>52</td>\n",
       "      <td>NaT</td>\n",
       "      <td>Краснодар</td>\n",
       "      <td>Рафаил</td>\n",
       "      <td>Верещагин</td>\n",
       "      <td>2018-05-25</td>\n",
       "      <td>ultra</td>\n",
       "      <td>6.0</td>\n",
       "      <td>172.0</td>\n",
       "      <td>43.0</td>\n",
       "      <td>60.0</td>\n",
       "      <td>23233.77</td>\n",
       "      <td>1950.0</td>\n",
       "    </tr>\n",
       "    <tr>\n",
       "      <th>2</th>\n",
       "      <td>1000</td>\n",
       "      <td>52</td>\n",
       "      <td>NaT</td>\n",
       "      <td>Краснодар</td>\n",
       "      <td>Рафаил</td>\n",
       "      <td>Верещагин</td>\n",
       "      <td>2018-05-25</td>\n",
       "      <td>ultra</td>\n",
       "      <td>7.0</td>\n",
       "      <td>340.0</td>\n",
       "      <td>47.0</td>\n",
       "      <td>75.0</td>\n",
       "      <td>14003.64</td>\n",
       "      <td>1950.0</td>\n",
       "    </tr>\n",
       "    <tr>\n",
       "      <th>3</th>\n",
       "      <td>1000</td>\n",
       "      <td>52</td>\n",
       "      <td>NaT</td>\n",
       "      <td>Краснодар</td>\n",
       "      <td>Рафаил</td>\n",
       "      <td>Верещагин</td>\n",
       "      <td>2018-05-25</td>\n",
       "      <td>ultra</td>\n",
       "      <td>8.0</td>\n",
       "      <td>408.0</td>\n",
       "      <td>52.0</td>\n",
       "      <td>81.0</td>\n",
       "      <td>14055.93</td>\n",
       "      <td>1950.0</td>\n",
       "    </tr>\n",
       "    <tr>\n",
       "      <th>4</th>\n",
       "      <td>1000</td>\n",
       "      <td>52</td>\n",
       "      <td>NaT</td>\n",
       "      <td>Краснодар</td>\n",
       "      <td>Рафаил</td>\n",
       "      <td>Верещагин</td>\n",
       "      <td>2018-05-25</td>\n",
       "      <td>ultra</td>\n",
       "      <td>9.0</td>\n",
       "      <td>466.0</td>\n",
       "      <td>58.0</td>\n",
       "      <td>57.0</td>\n",
       "      <td>14568.91</td>\n",
       "      <td>1950.0</td>\n",
       "    </tr>\n",
       "  </tbody>\n",
       "</table>\n",
       "</div>"
      ],
      "text/plain": [
       "   user_id  age churn_date       city first_name  last_name   reg_date tariff  \\\n",
       "0     1000   52        NaT  Краснодар     Рафаил  Верещагин 2018-05-25  ultra   \n",
       "1     1000   52        NaT  Краснодар     Рафаил  Верещагин 2018-05-25  ultra   \n",
       "2     1000   52        NaT  Краснодар     Рафаил  Верещагин 2018-05-25  ultra   \n",
       "3     1000   52        NaT  Краснодар     Рафаил  Верещагин 2018-05-25  ultra   \n",
       "4     1000   52        NaT  Краснодар     Рафаил  Верещагин 2018-05-25  ultra   \n",
       "\n",
       "   month  minutes_all  count_calls  count_message  volume_session  income  \n",
       "0    5.0        159.0         22.0           22.0         2253.49  1950.0  \n",
       "1    6.0        172.0         43.0           60.0        23233.77  1950.0  \n",
       "2    7.0        340.0         47.0           75.0        14003.64  1950.0  \n",
       "3    8.0        408.0         52.0           81.0        14055.93  1950.0  \n",
       "4    9.0        466.0         58.0           57.0        14568.91  1950.0  "
      ]
     },
     "execution_count": 23,
     "metadata": {},
     "output_type": "execute_result"
    }
   ],
   "source": [
    "#создадим функцию, которая будет построчно находить необходимые значения в таблице, вычислять выручку сверх тарифа и складывать\n",
    "def income_tariff(row):\n",
    "\n",
    "    \"\"\"\n",
    "Функция предполает два вариант рассчета, в соответствии из тарифа пользователя.  \n",
    "К основной оплате тарифа за месяц прибавляются оплаты сверх тарифа.  \n",
    "Проверяются условия о количестве звонков, сообщений, трафика.  \n",
    "Все округления проходят согласно документации в большую сторону, если это 1,0009 ГБ, то в расчет берем 2 ГБ (также с минутами)\n",
    "\"\"\"\n",
    "    if row['tariff']=='ultra':\n",
    "        row['income_tariff']=1950\n",
    "        if 3000-row['minutes_all']<0: #проверка минут(вышел ли пользователь за рамки пакета тарифа)\n",
    "            row['income_tariff']+=(math.ceil(row['minutes_all'])-3000)*1 #сколько заплатил пользователь, если потратил больше, чем в тарифе\n",
    "        if 1000-row['count_message']<0: #проверка кол-ва сообщений\n",
    "            row['income_tariff']+=(row['count_message']-1000)*1\n",
    "        if 30-math.ceil(row['volume_session']/1024)<0:  #проверка ГБ\n",
    "            row['income_tariff']+= (math.ceil(row['volume_session']/1024)-30)*150\n",
    "        return row['income_tariff']\n",
    "    elif row['tariff']=='smart':\n",
    "        row['income_tariff']=550\n",
    "        if 500-row['minutes_all']<0:\n",
    "            row['income_tariff']+=(math.ceil(row['minutes_all'])-500)*3\n",
    "        if 50-row['count_message']<0:\n",
    "            row['income_tariff']+=(row['count_message']-50)*3\n",
    "        if 15-math.ceil(row['volume_session']/1024)<0:\n",
    "            row['income_tariff']+= (math.ceil(row['volume_session']/1024)-15)*200\n",
    "        return row['income_tariff']\n",
    "\n",
    "\n",
    "table_income['income']=table_income.apply(income_tariff, axis=1) \n",
    "table_income.head()"
   ]
  },
  {
   "cell_type": "code",
   "execution_count": 24,
   "id": "8a9a7bd9",
   "metadata": {},
   "outputs": [
    {
     "data": {
      "text/html": [
       "<div>\n",
       "<style scoped>\n",
       "    .dataframe tbody tr th:only-of-type {\n",
       "        vertical-align: middle;\n",
       "    }\n",
       "\n",
       "    .dataframe tbody tr th {\n",
       "        vertical-align: top;\n",
       "    }\n",
       "\n",
       "    .dataframe thead th {\n",
       "        text-align: right;\n",
       "    }\n",
       "</style>\n",
       "<table border=\"1\" class=\"dataframe\">\n",
       "  <thead>\n",
       "    <tr style=\"text-align: right;\">\n",
       "      <th></th>\n",
       "      <th>messages_included</th>\n",
       "      <th>mb_per_month_included</th>\n",
       "      <th>minutes_included</th>\n",
       "      <th>rub_monthly_fee</th>\n",
       "      <th>rub_per_gb</th>\n",
       "      <th>rub_per_message</th>\n",
       "      <th>rub_per_minute</th>\n",
       "      <th>tariff_name</th>\n",
       "    </tr>\n",
       "  </thead>\n",
       "  <tbody>\n",
       "    <tr>\n",
       "      <th>0</th>\n",
       "      <td>50</td>\n",
       "      <td>15360</td>\n",
       "      <td>500</td>\n",
       "      <td>550</td>\n",
       "      <td>200</td>\n",
       "      <td>3</td>\n",
       "      <td>3</td>\n",
       "      <td>smart</td>\n",
       "    </tr>\n",
       "    <tr>\n",
       "      <th>1</th>\n",
       "      <td>1000</td>\n",
       "      <td>30720</td>\n",
       "      <td>3000</td>\n",
       "      <td>1950</td>\n",
       "      <td>150</td>\n",
       "      <td>1</td>\n",
       "      <td>1</td>\n",
       "      <td>ultra</td>\n",
       "    </tr>\n",
       "  </tbody>\n",
       "</table>\n",
       "</div>"
      ],
      "text/plain": [
       "   messages_included  mb_per_month_included  minutes_included  \\\n",
       "0                 50                  15360               500   \n",
       "1               1000                  30720              3000   \n",
       "\n",
       "   rub_monthly_fee  rub_per_gb  rub_per_message  rub_per_minute tariff_name  \n",
       "0              550         200                3               3       smart  \n",
       "1             1950         150                1               1       ultra  "
      ]
     },
     "execution_count": 24,
     "metadata": {},
     "output_type": "execute_result"
    }
   ],
   "source": [
    "tariffs"
   ]
  },
  {
   "cell_type": "code",
   "execution_count": 25,
   "id": "a9e3183c",
   "metadata": {},
   "outputs": [
    {
     "data": {
      "text/plain": [
       "1    1950\n",
       "Name: rub_monthly_fee, dtype: int64"
      ]
     },
     "execution_count": 25,
     "metadata": {},
     "output_type": "execute_result"
    }
   ],
   "source": [
    "tariffs.query('tariff_name == \"ultra\"')['rub_monthly_fee']"
   ]
  },
  {
   "cell_type": "code",
   "execution_count": 26,
   "id": "f8121d35",
   "metadata": {},
   "outputs": [],
   "source": [
    "# Изменим на целочисленный тип данные в месяце, кол-ве сообщений, помесячную прибль пользователя\n",
    "table_income[['month','count_calls','count_message','income']]=table_income[['month','count_calls','count_message','income']].astype('int')\n"
   ]
  },
  {
   "cell_type": "markdown",
   "id": "ec19191b",
   "metadata": {},
   "source": [
    "## Анализ данных"
   ]
  },
  {
   "cell_type": "markdown",
   "id": "17fb5e96",
   "metadata": {},
   "source": [
    "Разделим пользователей на две таблицы ultra и smart.  \n",
    "Данные возьмем из таблицы с расчетами прибыли.  \n",
    "Найдем стандарное отклонение, дисперсию, среднее, посроим графики. "
   ]
  },
  {
   "cell_type": "code",
   "execution_count": 27,
   "id": "dc62799e",
   "metadata": {},
   "outputs": [],
   "source": [
    "#через срез получаем таблицы \n",
    "ultra=table_income.query('tariff==\"ultra\"')\n",
    "\n",
    "smart=table_income.query('tariff==\"smart\"')\n"
   ]
  },
  {
   "cell_type": "markdown",
   "id": "12b9a7c6",
   "metadata": {},
   "source": [
    "### Анализ пользователей тарифа \"Ультра\""
   ]
  },
  {
   "cell_type": "code",
   "execution_count": 28,
   "id": "e6fa141e",
   "metadata": {},
   "outputs": [
    {
     "name": "stdout",
     "output_type": "stream",
     "text": [
      "Среднее количество минут, которое тратят на разговоры пользователи тарифа \"Ультра\" : 526.62\n",
      "Среднее количество сообщений, которое тратят на отправку пользователи тарифа \"Ультра\" : 49.36\n",
      "Среднее количество интернет-трафика, которое тратят пользователи тарифа \"Ультра\" : 20\n"
     ]
    }
   ],
   "source": [
    "#Изучим среднее значение\n",
    "ultra_mean_call=ultra['minutes_all'].mean()\n",
    "ultra_mean_message=ultra['count_message'].mean()\n",
    "ultra_mean_session=math.ceil(ultra['volume_session'].mean()/1024)\n",
    "\n",
    "print(f'Среднее количество минут, которое тратят на разговоры пользователи тарифа \"Ультра\" : {round(ultra_mean_call,2)}')\n",
    "print(f'Среднее количество сообщений, которое тратят на отправку пользователи тарифа \"Ультра\" : {round(ultra_mean_message,2)}')\n",
    "print(f'Среднее количество интернет-трафика, которое тратят пользователи тарифа \"Ультра\" : {round(ultra_mean_session,2)}')"
   ]
  },
  {
   "cell_type": "markdown",
   "id": "c7b4bc40",
   "metadata": {},
   "source": [
    "**Вывод:**  \n",
    "Если оценивать по среднему значению пользователей, тарифа \"Ультра\", то можно сказать, что в предоставленном пакете услуг количество минут, сообщений, ГБ предлагается с избытком, пользователи осваивают более 50% пакета только в интренет-трафике.  \n"
   ]
  },
  {
   "cell_type": "markdown",
   "id": "69ef5679",
   "metadata": {},
   "source": [
    "Изучим дисперсию, оценивать поведение клиентов будем исходя из выборочных данных, поэтому в методе var применяем параметр ddof.\n"
   ]
  },
  {
   "cell_type": "code",
   "execution_count": 29,
   "id": "367a66ca",
   "metadata": {
    "scrolled": true
   },
   "outputs": [
    {
     "name": "stdout",
     "output_type": "stream",
     "text": [
      "Дисперсия минут, пользователей тарифа \"Ультра\" : 100873.63\n",
      "Дисперсия сообщений, пользователей тарифа \"Ультра\" : 2285.27\n",
      "Дисперсия интернет-трафика, пользователей тарифа \"Ультра\" : 99366.22\n"
     ]
    }
   ],
   "source": [
    "#Изучим дисперсию\n",
    "\n",
    "ultra_var_call=np.var(ultra['minutes_all'], ddof=1)\n",
    "ultra_var_message=np.var(ultra['count_message'], ddof=1)\n",
    "ultra_var_session=np.var(ultra['volume_session'], ddof=1)\n",
    "\n",
    "print(f'Дисперсия минут, пользователей тарифа \"Ультра\" : {round(ultra_var_call,2)}')\n",
    "print(f'Дисперсия сообщений, пользователей тарифа \"Ультра\" : {round(ultra_var_message,2)}')\n",
    "print(f'Дисперсия интернет-трафика, пользователей тарифа \"Ультра\" : {round((ultra_var_session/1024),2)}')"
   ]
  },
  {
   "cell_type": "markdown",
   "id": "2df1246b",
   "metadata": {},
   "source": [
    "**Вывод:**  делать вывод об использовании возможностей тарифа на основании дисперсии не совсем корректно, т.к. данные представленны в квадратных единицах."
   ]
  },
  {
   "cell_type": "code",
   "execution_count": 30,
   "id": "b6969ab8",
   "metadata": {},
   "outputs": [
    {
     "name": "stdout",
     "output_type": "stream",
     "text": [
      "Стандартное отклонение минут, пользователей тарифа \"Ультра\" : 317.61\n",
      "Стандартное отклонение сообщений, пользователей тарифа \"Ультра\" : 47.8\n",
      "Стандартное отклонение интернет-трафика, пользователей тарифа \"Ультра\" : 10\n"
     ]
    }
   ],
   "source": [
    "#Изучим стандартное отклонение\n",
    "\n",
    "ultra_std_call=np.std(ultra['minutes_all'], ddof=1)\n",
    "ultra_std_message=np.std(ultra['count_message'], ddof=1)\n",
    "ultra_std_session=np.std(ultra['volume_session'], ddof=1)\n",
    "\n",
    "print(f'Стандартное отклонение минут, пользователей тарифа \"Ультра\" : {round(ultra_std_call,2)}')\n",
    "print(f'Стандартное отклонение сообщений, пользователей тарифа \"Ультра\" : {round(ultra_std_message,2)}')\n",
    "print(f'Стандартное отклонение интернет-трафика, пользователей тарифа \"Ультра\" : {round(math.ceil(ultra_std_session/1024),2)}')"
   ]
  },
  {
   "cell_type": "markdown",
   "id": "26c6a81a",
   "metadata": {},
   "source": [
    "**Вывод:**  \n",
    "Разброс данных о минутах, сообщениях, интернет-трафике от их среднего значения не выходит за рамки предлагаемого тарифом \"Ультра\" пакета минут, сообщений, ГБ."
   ]
  },
  {
   "cell_type": "markdown",
   "id": "550498e2",
   "metadata": {},
   "source": [
    "Визуализируем данные в график оценки одномерного распределения по выборке"
   ]
  },
  {
   "cell_type": "code",
   "execution_count": 31,
   "id": "503e3fbe",
   "metadata": {},
   "outputs": [
    {
     "data": {
      "image/png": "[encoded data removed]",
      "text/plain": [
       "<Figure size 1080x864 with 3 Axes>"
      ]
     },
     "metadata": {},
     "output_type": "display_data"
    }
   ],
   "source": [
    "plt.figure(figsize=(15, 12))\n",
    "plt.subplot(2, 2, 1)\n",
    "plt.title(\"Распределение минут разговоров клиентов\")\n",
    "sns_plot = sns.distplot(ultra['minutes_all'], color='Navy')\n",
    "\n",
    "plt.subplot(2, 2, 2)\n",
    "plt.title(\"Распределение количества отправленных сообщений клиентов\")\n",
    "sns_plot = sns.distplot(ultra['count_message'], color='Navy')\n",
    "\n",
    "plt.subplot(2, 2, 3)\n",
    "plt.title(\"Распределение потребление объема интернет-трафика клиентов\")\n",
    "sns_plot = sns.distplot(ultra['volume_session']/1024, color='Navy')"
   ]
  },
  {
   "cell_type": "markdown",
   "id": "988371d9",
   "metadata": {},
   "source": [
    "**Вывод:** исходя из представленных диаграмм можно сказать, что данные о минутах и интернет-трафике имеют небольшую положительную скошенность.  \n",
    "Что касатеся данных о количестве сообщений, то они отрицательно скошены, распределение ненормальное. \n",
    "Также можно заметить, что в звонках присутсвуют выбросы, что может влиять на показатель среднего значения.  \n",
    "Можно сказать, что пользователи тарифа \"Ультра\" из предложенного пакета услуг осваивают только интернет-трафик.  \n",
    "Минутами и сообщениями пользуются вдвое меньше, чем предлагает им пакет тарифа."
   ]
  },
  {
   "cell_type": "markdown",
   "id": "7071d153",
   "metadata": {},
   "source": [
    "### Анализ пользователей тарифа \"Смарт\""
   ]
  },
  {
   "cell_type": "code",
   "execution_count": 32,
   "id": "c3c01902",
   "metadata": {},
   "outputs": [
    {
     "name": "stdout",
     "output_type": "stream",
     "text": [
      "Среднее количество минут, которое тратят на разговоры пользователи тарифа \"Смарт\" : 417.93\n",
      "Среднее количество сообщений, которое тратят на отправку пользователи тарифа \"Смарт\" : 33.38\n",
      "Среднее количество интернет-трафика, которое тратят пользователи тарифа \"Смарт\": 16\n"
     ]
    }
   ],
   "source": [
    "#Изучим среднее значение\n",
    "smart_mean_call=smart['minutes_all'].mean()\n",
    "smart_mean_message=smart['count_message'].mean()\n",
    "smart_mean_session=math.ceil(smart['volume_session'].mean()/1024)\n",
    "\n",
    "print(f'Среднее количество минут, которое тратят на разговоры пользователи тарифа \"Смарт\" : {round(smart_mean_call,2)}')\n",
    "print(f'Среднее количество сообщений, которое тратят на отправку пользователи тарифа \"Смарт\" : {round(smart_mean_message,2)}')\n",
    "print(f'Среднее количество интернет-трафика, которое тратят пользователи тарифа \"Смарт\": {round(smart_mean_session,2)}')"
   ]
  },
  {
   "cell_type": "markdown",
   "id": "614bc209",
   "metadata": {},
   "source": [
    "**Вывод:**  \n",
    "Исходя из показателей среднего значения, видно, что клиентам не хватет интернет-трафика. \n"
   ]
  },
  {
   "cell_type": "code",
   "execution_count": 33,
   "id": "47759400",
   "metadata": {
    "scrolled": true
   },
   "outputs": [
    {
     "name": "stdout",
     "output_type": "stream",
     "text": [
      "Дисперсия минут, пользователей тарифа \"Смарт\" : 36219.32\n",
      "Дисперсия сообщений, пользователей тарифа \"Смарт\" : 796.81\n",
      "Дисперсия интернет-трафика, пользователей тарифа \"Смарт\" : 34462496.46\n"
     ]
    }
   ],
   "source": [
    "#Изучим дисперсию\n",
    "\n",
    "smart_var_call=np.var(smart['minutes_all'], ddof=1)\n",
    "smart_var_message=np.var(smart['count_message'], ddof=1)\n",
    "smart_var_session=np.var(smart['volume_session'], ddof=1)\n",
    "\n",
    "print(f'Дисперсия минут, пользователей тарифа \"Смарт\" : {round(smart_var_call,2)}')\n",
    "print(f'Дисперсия сообщений, пользователей тарифа \"Смарт\" : {round(smart_var_message,2)}')\n",
    "print(f'Дисперсия интернет-трафика, пользователей тарифа \"Смарт\" : {round(smart_var_session,2)}')"
   ]
  },
  {
   "cell_type": "markdown",
   "id": "fd414093",
   "metadata": {},
   "source": [
    "**Вывод:**  \n",
    "делать вывод об использовании возможностей тарифа на основании дисперсии не совсем корректно, т.к. данные представленны в квадратных единицах."
   ]
  },
  {
   "cell_type": "code",
   "execution_count": 34,
   "id": "6ebafb65",
   "metadata": {},
   "outputs": [
    {
     "name": "stdout",
     "output_type": "stream",
     "text": [
      "Стандартное отклонение минут, пользователей тарифа \"Смарт\" : 190.31\n",
      "Стандартное отклонение сообщений, пользователей тарифа \"Смарт\" : 28.23\n",
      "Стандартное отклонение интернет-трафика, пользователей тарифа \"Смарт\" : 6\n"
     ]
    }
   ],
   "source": [
    "#Изучим стандартное отклонение\n",
    "\n",
    "smart_std_call=np.std(smart['minutes_all'], ddof=1)\n",
    "smart_std_message=np.std(smart['count_message'], ddof=1)\n",
    "smart_std_session=np.std(smart['volume_session'], ddof=1)\n",
    "\n",
    "print(f'Стандартное отклонение минут, пользователей тарифа \"Смарт\" : {round(smart_std_call,2)}')\n",
    "print(f'Стандартное отклонение сообщений, пользователей тарифа \"Смарт\" : {round(smart_std_message,2)}')\n",
    "print(f'Стандартное отклонение интернет-трафика, пользователей тарифа \"Смарт\" : {round(math.ceil(smart_std_session/1024),2)}')"
   ]
  },
  {
   "cell_type": "markdown",
   "id": "ab37c775",
   "metadata": {},
   "source": [
    "**Вывод:**  \n",
    "Разброс данных о минутах и интернет-трафика от их среднего значения выходит за рамки предлагаемого тарифом \"Смарт\" пакета минут и ГБ.  \n",
    "Что касается сообщений, то данные показывают, что разброс данных от среднего показателя входит в границы пакета, в количество 50 сообщений."
   ]
  },
  {
   "cell_type": "markdown",
   "id": "2ca8ae3d",
   "metadata": {},
   "source": [
    "Построим визуализацию данных тарифа \"Смарт\""
   ]
  },
  {
   "cell_type": "code",
   "execution_count": 35,
   "id": "ffe0a66b",
   "metadata": {},
   "outputs": [
    {
     "data": {
      "image/png": "[encoded data removed]",
      "text/plain": [
       "<Figure size 1080x864 with 3 Axes>"
      ]
     },
     "metadata": {},
     "output_type": "display_data"
    }
   ],
   "source": [
    "plt.figure(figsize=(15, 12))\n",
    "plt.subplot(2, 2, 1)\n",
    "plt.title(\"Распределение минут разговоров клиентов\")\n",
    "sns_plot = sns.distplot(smart['minutes_all'], color='SeaGreen')\n",
    "\n",
    "plt.subplot(2, 2, 2)\n",
    "plt.title(\"Распределение количества отправленных сообщений клиентов\")\n",
    "sns_plot = sns.distplot(smart['count_message'], color='SeaGreen')\n",
    "\n",
    "plt.subplot(2, 2, 3)\n",
    "plt.title(\"Распределение потребление объема интернет-трафика клиентов\")\n",
    "sns_plot = sns.distplot(smart['volume_session']/1024, color='SeaGreen')"
   ]
  },
  {
   "cell_type": "markdown",
   "id": "7cb4778e",
   "metadata": {},
   "source": [
    "**Вывод:** исходя из представленных диаграмм можно сказать, что данные о звонках имеют небольшую положительную скошенность.  \n",
    "Что касатеся данных о количестве сообщений, то они отрицательно скошены, распределение ненормальное.  \n",
    "Интернет-трафик осваивается полностью, даже можно заметить небольшие выбросы.\n",
    "Также можно заметить, что в звонках присутсвуют выбросы, что может влиять на показатель среднего значения.  \n",
    "Можно сказать, что пользователи тарифа \"Смарт\" из предложенного пакета услуг оставивают практически полностью минуты и интернет-трафик.  \n",
    "Сообщениями пользуются вдвое меньше, чем предлагает им пакет тарифа."
   ]
  },
  {
   "cell_type": "markdown",
   "id": "49939965",
   "metadata": {},
   "source": [
    "## Формулировка и проверка гипотез"
   ]
  },
  {
   "cell_type": "markdown",
   "id": "d72ac671",
   "metadata": {},
   "source": [
    "**Формулировка гипотезы:**  \n",
    "Н1_0 средняя выручка пользователей тарифов «Ультра» и «Смарт» равны\n",
    "Н1_1 средняя выручка пользователей тарифов «Ультра» и «Смарт» не равны\n",
    "\n",
    "Н2_0 средняя выручка пользователей из Москвы равна выручки пользователей из других регионов\n",
    "Н2_1 средняя выручка пользователей из Москвы отличается от выручки пользователей из других регионов"
   ]
  },
  {
   "cell_type": "markdown",
   "id": "a556cac7",
   "metadata": {},
   "source": [
    "### Н1 средняя выручка пользователей тарифов «Ультра» и «Смарт» равны"
   ]
  },
  {
   "cell_type": "code",
   "execution_count": 36,
   "id": "f3802eed",
   "metadata": {},
   "outputs": [
    {
     "name": "stdout",
     "output_type": "stream",
     "text": [
      "Среднее значение выручки клиентов \"Ультра\": 2070.15\n",
      "Среднее значение выручки клиентов \"Смарт\": 1289.97\n"
     ]
    }
   ],
   "source": [
    "print('Среднее значение выручки клиентов \"Ультра\":', round(ultra['income'].mean(),2))\n",
    "print('Среднее значение выручки клиентов \"Смарт\":', round(smart['income'].mean(),2))"
   ]
  },
  {
   "cell_type": "code",
   "execution_count": 37,
   "id": "d2f3493f",
   "metadata": {},
   "outputs": [
    {
     "name": "stdout",
     "output_type": "stream",
     "text": [
      "p-значение: 1.4229814360764067e-160\n",
      "Отвергаем нулевую гипотезу Н1_0\n"
     ]
    }
   ],
   "source": [
    "#исследуем вероятность H1\n",
    "\n",
    "alpha = .01 # критический уровень статистической значимости\n",
    "# если p-value окажется меньше него - отвергнем гипотезу\n",
    "results = st.ttest_ind(\n",
    "    ultra['income'], \n",
    "    smart['income'])\n",
    "\n",
    "print('p-значение:', results.pvalue)\n",
    "\n",
    "if results.pvalue < alpha:\n",
    "    print(\"Отвергаем нулевую гипотезу Н1_0\")\n",
    "else:\n",
    "    print(\"Не получилось отвергнуть нулевую гипотезу\") \n"
   ]
  },
  {
   "cell_type": "markdown",
   "id": "643277a4",
   "metadata": {},
   "source": [
    "**Вывод:**  \n",
    "Отвергаем Н1_0 (средняя выручка пользователей тарифов «Ультра» и «Смарт» равны) и принимаем гипотезу Н1_1 (средняя выручка пользователей тарифов «Ультра» и «Смарт» не равны).  \n"
   ]
  },
  {
   "cell_type": "markdown",
   "id": "3ade88a9",
   "metadata": {},
   "source": [
    "### Средняя выручка пользователей из Москвы равна выручки пользователей из других регионов"
   ]
  },
  {
   "cell_type": "code",
   "execution_count": 38,
   "id": "b2024b5c",
   "metadata": {},
   "outputs": [
    {
     "name": "stdout",
     "output_type": "stream",
     "text": [
      "Среднее значение выручки клиентов из Москвы: 1546.71\n",
      "Среднее значение выручки клиентов из регионов: 1524.94\n"
     ]
    }
   ],
   "source": [
    "mean_msk=table_income.query('city==\"Москва\"')['income'].mean()\n",
    "mean_region=table_income.query('city!=\"Москва\"')['income'].mean()\n",
    "\n",
    "print('Среднее значение выручки клиентов из Москвы:', round(mean_msk,2))\n",
    "print('Среднее значение выручки клиентов из регионов:', round(mean_region,2))"
   ]
  },
  {
   "cell_type": "code",
   "execution_count": 39,
   "id": "f7cf06db",
   "metadata": {},
   "outputs": [
    {
     "name": "stdout",
     "output_type": "stream",
     "text": [
      "p-значение: 0.5440152911670224\n",
      "Не получилось отвергнуть нулевую гипотезу\n"
     ]
    }
   ],
   "source": [
    "#исследуем вероятность H2\n",
    "\n",
    "alpha = .01 # критический уровень статистической значимости\n",
    "# если p-value окажется меньше него - отвергнем гипотезу\n",
    "results = st.ttest_ind(\n",
    "    table_income.query('city==\"Москва\"')['income'], \n",
    "    table_income.query('city!=\"Москва\"')['income'])\n",
    "\n",
    "print('p-значение:', results.pvalue)\n",
    "\n",
    "if results.pvalue < alpha:\n",
    "    print(\"Отвергаем нулевую гипотезу Н1_0\")\n",
    "else:\n",
    "    print(\"Не получилось отвергнуть нулевую гипотезу\") "
   ]
  },
  {
   "cell_type": "markdown",
   "id": "7fa7a252",
   "metadata": {},
   "source": [
    "**Вывод:**  \n",
    "По результатам t-теста вероятность нулевой гипотезы выше 40%, поэтому нулевую гипотезу отвергнуть не удалось, остаемся в рамках нулевой гипотезы."
   ]
  },
  {
   "cell_type": "markdown",
   "id": "16c5b893",
   "metadata": {},
   "source": [
    "## Общий вывод"
   ]
  },
  {
   "cell_type": "markdown",
   "id": "794069fc",
   "metadata": {},
   "source": [
    "На основании проведенного анализа и предоставленных данных о 500 пользователей тарифами оператора сотовой связи \"Мегалайн\" можно сказать, что тариф \"Ультра\" приносит больше средств, чем тариф \"Смарт\".  \n",
    "\n",
    "Рекомендации:  \n",
    "- В тарифе \"Ультра\" остается большое количество не освоеных минут и сообщений, возможно, стоит сделать пакет услуг более клиентоориентированным\n",
    "- В тарифе \"Смарт\" интренет-трафика клиентам едва хватает, а сообщений с избытком"
   ]
  }
 ],
 "metadata": {
  "ExecuteTimeLog": [
   {
    "duration": 1679,
    "start_time": "2022-05-29T14:03:00.560Z"
   },
   {
    "duration": 1670,
    "start_time": "2022-05-29T14:21:22.455Z"
   },
   {
    "duration": 4,
    "start_time": "2022-05-29T14:21:24.127Z"
   },
   {
    "duration": 13,
    "start_time": "2022-05-29T14:21:24.132Z"
   },
   {
    "duration": 69,
    "start_time": "2022-05-29T14:21:24.147Z"
   },
   {
    "duration": 8,
    "start_time": "2022-05-29T14:21:24.218Z"
   },
   {
    "duration": 44,
    "start_time": "2022-05-29T14:21:24.228Z"
   },
   {
    "duration": 29,
    "start_time": "2022-05-29T14:21:24.273Z"
   },
   {
    "duration": 65,
    "start_time": "2022-05-29T14:21:24.303Z"
   },
   {
    "duration": 18,
    "start_time": "2022-05-29T14:21:24.370Z"
   },
   {
    "duration": 19,
    "start_time": "2022-05-29T14:21:24.391Z"
   },
   {
    "duration": 20,
    "start_time": "2022-05-29T14:21:24.412Z"
   },
   {
    "duration": 40,
    "start_time": "2022-05-29T14:21:24.434Z"
   },
   {
    "duration": 16,
    "start_time": "2022-05-29T14:21:24.476Z"
   },
   {
    "duration": 22,
    "start_time": "2022-05-29T14:21:24.493Z"
   },
   {
    "duration": 48,
    "start_time": "2022-05-29T14:21:24.517Z"
   },
   {
    "duration": 21,
    "start_time": "2022-05-29T14:21:24.567Z"
   },
   {
    "duration": 13,
    "start_time": "2022-05-29T14:21:24.590Z"
   },
   {
    "duration": 1835,
    "start_time": "2022-05-29T14:21:24.605Z"
   },
   {
    "duration": 6,
    "start_time": "2022-05-29T14:21:26.442Z"
   },
   {
    "duration": 8,
    "start_time": "2022-05-29T14:21:26.459Z"
   },
   {
    "duration": 6,
    "start_time": "2022-05-29T14:21:26.469Z"
   },
   {
    "duration": 8,
    "start_time": "2022-05-29T14:21:26.476Z"
   },
   {
    "duration": 8,
    "start_time": "2022-05-29T14:21:26.486Z"
   },
   {
    "duration": 737,
    "start_time": "2022-05-29T14:21:26.496Z"
   },
   {
    "duration": 5,
    "start_time": "2022-05-29T14:21:27.235Z"
   },
   {
    "duration": 18,
    "start_time": "2022-05-29T14:21:27.242Z"
   },
   {
    "duration": 7,
    "start_time": "2022-05-29T14:21:27.261Z"
   },
   {
    "duration": 615,
    "start_time": "2022-05-29T14:21:27.271Z"
   },
   {
    "duration": 4,
    "start_time": "2022-05-29T14:21:27.888Z"
   },
   {
    "duration": 11,
    "start_time": "2022-05-29T14:21:27.894Z"
   },
   {
    "duration": 19,
    "start_time": "2022-05-29T14:21:27.907Z"
   },
   {
    "duration": 14,
    "start_time": "2022-05-29T14:21:27.928Z"
   },
   {
    "duration": 2664,
    "start_time": "2022-05-30T11:54:25.259Z"
   },
   {
    "duration": 6,
    "start_time": "2022-05-30T11:54:27.925Z"
   },
   {
    "duration": 20,
    "start_time": "2022-05-30T11:54:27.933Z"
   },
   {
    "duration": 90,
    "start_time": "2022-05-30T11:54:27.956Z"
   },
   {
    "duration": 10,
    "start_time": "2022-05-30T11:54:28.048Z"
   },
   {
    "duration": 49,
    "start_time": "2022-05-30T11:54:28.060Z"
   },
   {
    "duration": 30,
    "start_time": "2022-05-30T11:54:28.111Z"
   },
   {
    "duration": 101,
    "start_time": "2022-05-30T11:59:18.517Z"
   },
   {
    "duration": 73,
    "start_time": "2022-05-30T12:03:08.716Z"
   },
   {
    "duration": 30,
    "start_time": "2022-05-30T12:04:10.485Z"
   },
   {
    "duration": 378,
    "start_time": "2022-05-30T12:04:14.725Z"
   },
   {
    "duration": 7,
    "start_time": "2022-05-30T12:29:34.964Z"
   },
   {
    "duration": 8,
    "start_time": "2022-05-30T12:43:03.887Z"
   },
   {
    "duration": 9,
    "start_time": "2022-05-30T12:44:06.015Z"
   },
   {
    "duration": 6,
    "start_time": "2022-05-30T12:44:20.185Z"
   },
   {
    "duration": 488,
    "start_time": "2022-05-30T12:50:43.852Z"
   },
   {
    "duration": 3,
    "start_time": "2022-05-30T12:50:44.342Z"
   },
   {
    "duration": 21,
    "start_time": "2022-05-30T12:50:44.347Z"
   },
   {
    "duration": 74,
    "start_time": "2022-05-30T12:50:44.370Z"
   },
   {
    "duration": 6,
    "start_time": "2022-05-30T12:50:44.446Z"
   },
   {
    "duration": 46,
    "start_time": "2022-05-30T12:50:44.454Z"
   },
   {
    "duration": 27,
    "start_time": "2022-05-30T12:50:44.501Z"
   },
   {
    "duration": 81,
    "start_time": "2022-05-30T12:50:44.530Z"
   },
   {
    "duration": 43,
    "start_time": "2022-05-30T12:50:44.613Z"
   },
   {
    "duration": 19,
    "start_time": "2022-05-30T12:50:44.658Z"
   },
   {
    "duration": 18,
    "start_time": "2022-05-30T12:50:44.695Z"
   },
   {
    "duration": 21,
    "start_time": "2022-05-30T12:50:44.714Z"
   },
   {
    "duration": 16,
    "start_time": "2022-05-30T12:50:44.736Z"
   },
   {
    "duration": 50,
    "start_time": "2022-05-30T12:50:44.755Z"
   },
   {
    "duration": 21,
    "start_time": "2022-05-30T12:50:44.807Z"
   },
   {
    "duration": 13,
    "start_time": "2022-05-30T12:50:44.830Z"
   },
   {
    "duration": 19,
    "start_time": "2022-05-30T12:50:44.845Z"
   },
   {
    "duration": 94,
    "start_time": "2022-05-30T12:50:44.865Z"
   },
   {
    "duration": 1708,
    "start_time": "2022-05-30T12:50:44.961Z"
   },
   {
    "duration": 7,
    "start_time": "2022-05-30T12:50:46.670Z"
   },
   {
    "duration": 16,
    "start_time": "2022-05-30T12:50:46.678Z"
   },
   {
    "duration": 14,
    "start_time": "2022-05-30T12:50:46.695Z"
   },
   {
    "duration": 21,
    "start_time": "2022-05-30T12:50:46.710Z"
   },
   {
    "duration": 5,
    "start_time": "2022-05-30T12:50:46.733Z"
   },
   {
    "duration": 9,
    "start_time": "2022-05-30T12:50:46.739Z"
   },
   {
    "duration": 18,
    "start_time": "2022-05-30T12:50:46.749Z"
   },
   {
    "duration": 772,
    "start_time": "2022-05-30T12:50:46.769Z"
   },
   {
    "duration": 6,
    "start_time": "2022-05-30T12:50:47.543Z"
   },
   {
    "duration": 9,
    "start_time": "2022-05-30T12:50:47.551Z"
   },
   {
    "duration": 6,
    "start_time": "2022-05-30T12:50:47.562Z"
   },
   {
    "duration": 540,
    "start_time": "2022-05-30T12:50:47.569Z"
   },
   {
    "duration": 5,
    "start_time": "2022-05-30T12:50:48.110Z"
   },
   {
    "duration": 7,
    "start_time": "2022-05-30T12:50:48.116Z"
   },
   {
    "duration": 12,
    "start_time": "2022-05-30T12:50:48.124Z"
   },
   {
    "duration": 9,
    "start_time": "2022-05-30T12:50:48.138Z"
   },
   {
    "duration": 2400,
    "start_time": "2022-05-31T12:23:31.693Z"
   },
   {
    "duration": 5,
    "start_time": "2022-05-31T12:23:34.095Z"
   },
   {
    "duration": 14,
    "start_time": "2022-05-31T12:23:34.102Z"
   },
   {
    "duration": 107,
    "start_time": "2022-05-31T12:23:34.119Z"
   },
   {
    "duration": 8,
    "start_time": "2022-05-31T12:23:34.228Z"
   },
   {
    "duration": 44,
    "start_time": "2022-05-31T12:23:34.238Z"
   },
   {
    "duration": 29,
    "start_time": "2022-05-31T12:23:34.283Z"
   },
   {
    "duration": 91,
    "start_time": "2022-05-31T12:23:34.314Z"
   },
   {
    "duration": 50,
    "start_time": "2022-05-31T12:23:34.407Z"
   },
   {
    "duration": 18,
    "start_time": "2022-05-31T12:23:34.460Z"
   },
   {
    "duration": 17,
    "start_time": "2022-05-31T12:23:34.480Z"
   },
   {
    "duration": 24,
    "start_time": "2022-05-31T12:23:34.499Z"
   },
   {
    "duration": 46,
    "start_time": "2022-05-31T12:23:34.525Z"
   },
   {
    "duration": 15,
    "start_time": "2022-05-31T12:23:34.573Z"
   },
   {
    "duration": 23,
    "start_time": "2022-05-31T12:23:34.589Z"
   },
   {
    "duration": 43,
    "start_time": "2022-05-31T12:23:34.614Z"
   },
   {
    "duration": 22,
    "start_time": "2022-05-31T12:23:34.658Z"
   },
   {
    "duration": 15,
    "start_time": "2022-05-31T12:23:34.682Z"
   },
   {
    "duration": 1970,
    "start_time": "2022-05-31T12:23:34.700Z"
   },
   {
    "duration": 8,
    "start_time": "2022-05-31T12:23:36.671Z"
   },
   {
    "duration": 62,
    "start_time": "2022-05-31T12:23:36.681Z"
   },
   {
    "duration": 9,
    "start_time": "2022-05-31T12:23:36.745Z"
   },
   {
    "duration": 13,
    "start_time": "2022-05-31T12:23:36.756Z"
   },
   {
    "duration": 12,
    "start_time": "2022-05-31T12:23:36.770Z"
   },
   {
    "duration": 7,
    "start_time": "2022-05-31T12:23:36.784Z"
   },
   {
    "duration": 11,
    "start_time": "2022-05-31T12:23:36.793Z"
   },
   {
    "duration": 15,
    "start_time": "2022-05-31T12:23:36.806Z"
   },
   {
    "duration": 696,
    "start_time": "2022-05-31T12:23:36.824Z"
   },
   {
    "duration": 6,
    "start_time": "2022-05-31T12:23:37.521Z"
   },
   {
    "duration": 13,
    "start_time": "2022-05-31T12:23:37.529Z"
   },
   {
    "duration": 24,
    "start_time": "2022-05-31T12:23:37.543Z"
   },
   {
    "duration": 601,
    "start_time": "2022-05-31T12:23:37.568Z"
   },
   {
    "duration": 5,
    "start_time": "2022-05-31T12:23:38.171Z"
   },
   {
    "duration": 8,
    "start_time": "2022-05-31T12:23:38.177Z"
   },
   {
    "duration": 24,
    "start_time": "2022-05-31T12:23:38.187Z"
   },
   {
    "duration": 26,
    "start_time": "2022-05-31T12:23:38.213Z"
   },
   {
    "duration": 2433,
    "start_time": "2022-06-02T10:34:38.790Z"
   },
   {
    "duration": 4,
    "start_time": "2022-06-02T10:34:41.225Z"
   },
   {
    "duration": 16,
    "start_time": "2022-06-02T10:34:41.230Z"
   },
   {
    "duration": 70,
    "start_time": "2022-06-02T10:34:41.248Z"
   },
   {
    "duration": 13,
    "start_time": "2022-06-02T10:34:41.319Z"
   },
   {
    "duration": 33,
    "start_time": "2022-06-02T10:34:41.334Z"
   },
   {
    "duration": 26,
    "start_time": "2022-06-02T10:34:41.369Z"
   },
   {
    "duration": 82,
    "start_time": "2022-06-02T10:34:41.410Z"
   },
   {
    "duration": 56,
    "start_time": "2022-06-02T10:34:41.494Z"
   },
   {
    "duration": 19,
    "start_time": "2022-06-02T10:34:41.552Z"
   },
   {
    "duration": 18,
    "start_time": "2022-06-02T10:34:41.573Z"
   },
   {
    "duration": 51,
    "start_time": "2022-06-02T10:34:41.593Z"
   },
   {
    "duration": 21,
    "start_time": "2022-06-02T10:34:41.646Z"
   },
   {
    "duration": 54,
    "start_time": "2022-06-02T10:39:04.194Z"
   },
   {
    "duration": 4,
    "start_time": "2022-06-02T10:39:06.439Z"
   },
   {
    "duration": 106,
    "start_time": "2022-06-02T10:39:25.917Z"
   },
   {
    "duration": 12,
    "start_time": "2022-06-02T10:39:31.949Z"
   },
   {
    "duration": 8,
    "start_time": "2022-06-02T10:39:48.733Z"
   },
   {
    "duration": 39,
    "start_time": "2022-06-02T10:40:36.248Z"
   },
   {
    "duration": 10,
    "start_time": "2022-06-02T10:40:54.447Z"
   },
   {
    "duration": 10,
    "start_time": "2022-06-02T10:41:02.239Z"
   },
   {
    "duration": 14,
    "start_time": "2022-06-02T10:42:05.169Z"
   },
   {
    "duration": 11,
    "start_time": "2022-06-02T10:42:30.167Z"
   },
   {
    "duration": 11,
    "start_time": "2022-06-02T10:48:47.418Z"
   },
   {
    "duration": 25,
    "start_time": "2022-06-02T10:48:54.124Z"
   },
   {
    "duration": 16,
    "start_time": "2022-06-02T10:49:10.975Z"
   },
   {
    "duration": 29,
    "start_time": "2022-06-02T10:49:21.742Z"
   },
   {
    "duration": 9,
    "start_time": "2022-06-02T10:49:41.154Z"
   },
   {
    "duration": 30,
    "start_time": "2022-06-02T10:50:06.516Z"
   },
   {
    "duration": 41,
    "start_time": "2022-06-02T10:50:22.972Z"
   },
   {
    "duration": 16,
    "start_time": "2022-06-02T11:02:18.297Z"
   },
   {
    "duration": 478,
    "start_time": "2022-06-02T11:02:25.300Z"
   },
   {
    "duration": 4,
    "start_time": "2022-06-02T11:02:25.780Z"
   },
   {
    "duration": 27,
    "start_time": "2022-06-02T11:02:25.786Z"
   },
   {
    "duration": 84,
    "start_time": "2022-06-02T11:02:25.815Z"
   },
   {
    "duration": 9,
    "start_time": "2022-06-02T11:02:25.901Z"
   },
   {
    "duration": 38,
    "start_time": "2022-06-02T11:02:25.911Z"
   },
   {
    "duration": 27,
    "start_time": "2022-06-02T11:02:25.950Z"
   },
   {
    "duration": 91,
    "start_time": "2022-06-02T11:02:25.979Z"
   },
   {
    "duration": 56,
    "start_time": "2022-06-02T11:02:26.071Z"
   },
   {
    "duration": 18,
    "start_time": "2022-06-02T11:02:26.128Z"
   },
   {
    "duration": 17,
    "start_time": "2022-06-02T11:02:26.148Z"
   },
   {
    "duration": 21,
    "start_time": "2022-06-02T11:02:26.167Z"
   },
   {
    "duration": 43,
    "start_time": "2022-06-02T11:02:26.190Z"
   },
   {
    "duration": 6,
    "start_time": "2022-06-02T11:02:26.235Z"
   },
   {
    "duration": 16,
    "start_time": "2022-06-02T11:02:26.242Z"
   },
   {
    "duration": 13,
    "start_time": "2022-06-02T11:02:32.206Z"
   },
   {
    "duration": 42,
    "start_time": "2022-06-02T11:02:49.015Z"
   },
   {
    "duration": 23,
    "start_time": "2022-06-02T11:03:06.335Z"
   },
   {
    "duration": 17,
    "start_time": "2022-06-02T11:03:06.360Z"
   },
   {
    "duration": 49,
    "start_time": "2022-06-02T11:03:06.378Z"
   },
   {
    "duration": 13,
    "start_time": "2022-06-02T11:03:06.431Z"
   },
   {
    "duration": 1777,
    "start_time": "2022-06-02T11:03:06.446Z"
   },
   {
    "duration": 7,
    "start_time": "2022-06-02T11:03:08.225Z"
   },
   {
    "duration": 9,
    "start_time": "2022-06-02T11:03:08.233Z"
   },
   {
    "duration": 17,
    "start_time": "2022-06-02T11:03:08.244Z"
   },
   {
    "duration": 0,
    "start_time": "2022-06-02T11:03:08.263Z"
   },
   {
    "duration": 0,
    "start_time": "2022-06-02T11:03:08.264Z"
   },
   {
    "duration": 0,
    "start_time": "2022-06-02T11:03:08.265Z"
   },
   {
    "duration": 0,
    "start_time": "2022-06-02T11:03:08.265Z"
   },
   {
    "duration": 0,
    "start_time": "2022-06-02T11:03:08.266Z"
   },
   {
    "duration": 0,
    "start_time": "2022-06-02T11:03:08.267Z"
   },
   {
    "duration": 0,
    "start_time": "2022-06-02T11:03:08.268Z"
   },
   {
    "duration": 0,
    "start_time": "2022-06-02T11:03:08.269Z"
   },
   {
    "duration": 0,
    "start_time": "2022-06-02T11:03:08.270Z"
   },
   {
    "duration": 0,
    "start_time": "2022-06-02T11:03:08.272Z"
   },
   {
    "duration": 0,
    "start_time": "2022-06-02T11:03:08.273Z"
   },
   {
    "duration": 0,
    "start_time": "2022-06-02T11:03:08.274Z"
   },
   {
    "duration": 0,
    "start_time": "2022-06-02T11:03:08.275Z"
   },
   {
    "duration": 29,
    "start_time": "2022-06-02T11:04:50.078Z"
   },
   {
    "duration": 502,
    "start_time": "2022-06-02T11:06:46.383Z"
   },
   {
    "duration": 20,
    "start_time": "2022-06-02T11:07:24.560Z"
   },
   {
    "duration": 16,
    "start_time": "2022-06-02T11:11:33.390Z"
   },
   {
    "duration": 17,
    "start_time": "2022-06-02T11:12:35.142Z"
   },
   {
    "duration": 482,
    "start_time": "2022-06-02T11:12:44.393Z"
   },
   {
    "duration": 4,
    "start_time": "2022-06-02T11:12:44.877Z"
   },
   {
    "duration": 33,
    "start_time": "2022-06-02T11:12:44.882Z"
   },
   {
    "duration": 81,
    "start_time": "2022-06-02T11:12:44.918Z"
   },
   {
    "duration": 7,
    "start_time": "2022-06-02T11:12:45.001Z"
   },
   {
    "duration": 57,
    "start_time": "2022-06-02T11:12:45.011Z"
   },
   {
    "duration": 28,
    "start_time": "2022-06-02T11:12:45.069Z"
   },
   {
    "duration": 76,
    "start_time": "2022-06-02T11:12:45.098Z"
   },
   {
    "duration": 52,
    "start_time": "2022-06-02T11:12:45.175Z"
   },
   {
    "duration": 18,
    "start_time": "2022-06-02T11:12:45.230Z"
   },
   {
    "duration": 28,
    "start_time": "2022-06-02T11:12:45.250Z"
   },
   {
    "duration": 29,
    "start_time": "2022-06-02T11:12:45.280Z"
   },
   {
    "duration": 25,
    "start_time": "2022-06-02T11:12:45.311Z"
   },
   {
    "duration": 6,
    "start_time": "2022-06-02T11:12:45.338Z"
   },
   {
    "duration": 22,
    "start_time": "2022-06-02T11:12:45.345Z"
   },
   {
    "duration": 17,
    "start_time": "2022-06-02T11:13:00.346Z"
   },
   {
    "duration": 38,
    "start_time": "2022-06-02T11:14:08.904Z"
   },
   {
    "duration": 24,
    "start_time": "2022-06-02T11:14:23.308Z"
   },
   {
    "duration": 10,
    "start_time": "2022-06-02T11:14:43.740Z"
   },
   {
    "duration": 9,
    "start_time": "2022-06-02T11:14:50.759Z"
   },
   {
    "duration": 25,
    "start_time": "2022-06-02T11:14:59.602Z"
   },
   {
    "duration": 18,
    "start_time": "2022-06-02T11:15:23.331Z"
   },
   {
    "duration": 62,
    "start_time": "2022-06-02T11:16:49.131Z"
   },
   {
    "duration": 24,
    "start_time": "2022-06-02T11:16:55.792Z"
   },
   {
    "duration": 18,
    "start_time": "2022-06-02T11:17:09.774Z"
   },
   {
    "duration": 25,
    "start_time": "2022-06-02T11:17:21.065Z"
   },
   {
    "duration": 25,
    "start_time": "2022-06-02T11:17:36.333Z"
   },
   {
    "duration": 17,
    "start_time": "2022-06-02T11:19:40.395Z"
   },
   {
    "duration": 13,
    "start_time": "2022-06-02T11:20:29.297Z"
   },
   {
    "duration": 13,
    "start_time": "2022-06-02T11:23:29.281Z"
   },
   {
    "duration": 3,
    "start_time": "2022-06-02T11:26:12.506Z"
   },
   {
    "duration": 12,
    "start_time": "2022-06-02T11:26:20.628Z"
   },
   {
    "duration": 7,
    "start_time": "2022-06-02T11:27:03.496Z"
   },
   {
    "duration": 8,
    "start_time": "2022-06-02T11:27:10.813Z"
   },
   {
    "duration": 25,
    "start_time": "2022-06-02T11:27:10.823Z"
   },
   {
    "duration": 544,
    "start_time": "2022-06-02T11:27:10.849Z"
   },
   {
    "duration": 0,
    "start_time": "2022-06-02T11:27:11.395Z"
   },
   {
    "duration": 0,
    "start_time": "2022-06-02T11:27:11.396Z"
   },
   {
    "duration": 0,
    "start_time": "2022-06-02T11:27:11.398Z"
   },
   {
    "duration": 0,
    "start_time": "2022-06-02T11:27:11.399Z"
   },
   {
    "duration": 0,
    "start_time": "2022-06-02T11:27:11.400Z"
   },
   {
    "duration": 0,
    "start_time": "2022-06-02T11:27:11.402Z"
   },
   {
    "duration": 0,
    "start_time": "2022-06-02T11:27:11.403Z"
   },
   {
    "duration": 0,
    "start_time": "2022-06-02T11:27:11.404Z"
   },
   {
    "duration": 0,
    "start_time": "2022-06-02T11:27:11.405Z"
   },
   {
    "duration": 0,
    "start_time": "2022-06-02T11:27:11.406Z"
   },
   {
    "duration": 0,
    "start_time": "2022-06-02T11:27:11.407Z"
   },
   {
    "duration": 0,
    "start_time": "2022-06-02T11:27:11.408Z"
   },
   {
    "duration": 0,
    "start_time": "2022-06-02T11:27:11.409Z"
   },
   {
    "duration": 0,
    "start_time": "2022-06-02T11:27:11.410Z"
   },
   {
    "duration": 1,
    "start_time": "2022-06-02T11:27:11.411Z"
   },
   {
    "duration": 0,
    "start_time": "2022-06-02T11:27:11.412Z"
   },
   {
    "duration": 0,
    "start_time": "2022-06-02T11:27:11.413Z"
   },
   {
    "duration": 0,
    "start_time": "2022-06-02T11:27:11.414Z"
   },
   {
    "duration": 0,
    "start_time": "2022-06-02T11:27:11.416Z"
   },
   {
    "duration": 0,
    "start_time": "2022-06-02T11:27:11.416Z"
   },
   {
    "duration": 0,
    "start_time": "2022-06-02T11:27:11.417Z"
   },
   {
    "duration": 479,
    "start_time": "2022-06-02T11:27:45.687Z"
   },
   {
    "duration": 4,
    "start_time": "2022-06-02T11:27:46.169Z"
   },
   {
    "duration": 16,
    "start_time": "2022-06-02T11:27:46.174Z"
   },
   {
    "duration": 83,
    "start_time": "2022-06-02T11:27:46.192Z"
   },
   {
    "duration": 7,
    "start_time": "2022-06-02T11:27:46.278Z"
   },
   {
    "duration": 54,
    "start_time": "2022-06-02T11:27:46.286Z"
   },
   {
    "duration": 29,
    "start_time": "2022-06-02T11:27:46.342Z"
   },
   {
    "duration": 96,
    "start_time": "2022-06-02T11:27:46.373Z"
   },
   {
    "duration": 59,
    "start_time": "2022-06-02T11:27:46.470Z"
   },
   {
    "duration": 21,
    "start_time": "2022-06-02T11:27:46.531Z"
   },
   {
    "duration": 20,
    "start_time": "2022-06-02T11:27:46.553Z"
   },
   {
    "duration": 53,
    "start_time": "2022-06-02T11:27:46.575Z"
   },
   {
    "duration": 21,
    "start_time": "2022-06-02T11:27:46.630Z"
   },
   {
    "duration": 25,
    "start_time": "2022-06-02T11:27:46.654Z"
   },
   {
    "duration": 12,
    "start_time": "2022-06-02T11:27:46.681Z"
   },
   {
    "duration": 38,
    "start_time": "2022-06-02T11:27:46.695Z"
   },
   {
    "duration": 21,
    "start_time": "2022-06-02T11:27:46.735Z"
   },
   {
    "duration": 7,
    "start_time": "2022-06-02T11:27:46.757Z"
   },
   {
    "duration": 24,
    "start_time": "2022-06-02T11:27:46.765Z"
   },
   {
    "duration": 41,
    "start_time": "2022-06-02T11:27:46.790Z"
   },
   {
    "duration": 21,
    "start_time": "2022-06-02T11:27:46.833Z"
   },
   {
    "duration": 21,
    "start_time": "2022-06-02T11:27:46.855Z"
   },
   {
    "duration": 29,
    "start_time": "2022-06-02T11:27:46.878Z"
   },
   {
    "duration": 29,
    "start_time": "2022-06-02T11:27:46.909Z"
   },
   {
    "duration": 1789,
    "start_time": "2022-06-02T11:27:46.941Z"
   },
   {
    "duration": 7,
    "start_time": "2022-06-02T11:27:48.732Z"
   },
   {
    "duration": 25,
    "start_time": "2022-06-02T11:27:48.741Z"
   },
   {
    "duration": 21,
    "start_time": "2022-06-02T11:27:48.767Z"
   },
   {
    "duration": 11,
    "start_time": "2022-06-02T11:27:48.791Z"
   },
   {
    "duration": 11,
    "start_time": "2022-06-02T11:27:48.804Z"
   },
   {
    "duration": 13,
    "start_time": "2022-06-02T11:27:48.817Z"
   },
   {
    "duration": 13,
    "start_time": "2022-06-02T11:27:48.831Z"
   },
   {
    "duration": 530,
    "start_time": "2022-06-02T11:27:48.845Z"
   },
   {
    "duration": 6,
    "start_time": "2022-06-02T11:27:49.377Z"
   },
   {
    "duration": 18,
    "start_time": "2022-06-02T11:27:49.384Z"
   },
   {
    "duration": 23,
    "start_time": "2022-06-02T11:27:49.404Z"
   },
   {
    "duration": 686,
    "start_time": "2022-06-02T11:27:49.430Z"
   },
   {
    "duration": 12,
    "start_time": "2022-06-02T11:27:50.118Z"
   },
   {
    "duration": 20,
    "start_time": "2022-06-02T11:27:50.132Z"
   },
   {
    "duration": 28,
    "start_time": "2022-06-02T11:27:50.154Z"
   },
   {
    "duration": 20,
    "start_time": "2022-06-02T11:27:50.186Z"
   },
   {
    "duration": 9,
    "start_time": "2022-06-02T11:29:26.229Z"
   },
   {
    "duration": 9,
    "start_time": "2022-06-02T11:29:49.174Z"
   },
   {
    "duration": 465,
    "start_time": "2022-06-02T11:29:57.528Z"
   },
   {
    "duration": 4,
    "start_time": "2022-06-02T11:29:57.995Z"
   },
   {
    "duration": 25,
    "start_time": "2022-06-02T11:29:58.000Z"
   },
   {
    "duration": 78,
    "start_time": "2022-06-02T11:29:58.027Z"
   },
   {
    "duration": 7,
    "start_time": "2022-06-02T11:29:58.106Z"
   },
   {
    "duration": 35,
    "start_time": "2022-06-02T11:29:58.114Z"
   },
   {
    "duration": 26,
    "start_time": "2022-06-02T11:29:58.150Z"
   },
   {
    "duration": 94,
    "start_time": "2022-06-02T11:29:58.177Z"
   },
   {
    "duration": 43,
    "start_time": "2022-06-02T11:29:58.272Z"
   },
   {
    "duration": 19,
    "start_time": "2022-06-02T11:29:58.327Z"
   },
   {
    "duration": 17,
    "start_time": "2022-06-02T11:29:58.347Z"
   },
   {
    "duration": 21,
    "start_time": "2022-06-02T11:29:58.365Z"
   },
   {
    "duration": 48,
    "start_time": "2022-06-02T11:29:58.388Z"
   },
   {
    "duration": 24,
    "start_time": "2022-06-02T11:29:58.438Z"
   },
   {
    "duration": 12,
    "start_time": "2022-06-02T11:29:58.463Z"
   },
   {
    "duration": 19,
    "start_time": "2022-06-02T11:29:58.477Z"
   },
   {
    "duration": 36,
    "start_time": "2022-06-02T11:29:58.498Z"
   },
   {
    "duration": 7,
    "start_time": "2022-06-02T11:29:58.536Z"
   },
   {
    "duration": 28,
    "start_time": "2022-06-02T11:29:58.544Z"
   },
   {
    "duration": 14,
    "start_time": "2022-06-02T11:30:01.339Z"
   },
   {
    "duration": 7,
    "start_time": "2022-06-02T11:35:49.330Z"
   },
   {
    "duration": 15,
    "start_time": "2022-06-02T11:35:56.777Z"
   },
   {
    "duration": 7,
    "start_time": "2022-06-02T11:36:06.397Z"
   },
   {
    "duration": 503,
    "start_time": "2022-06-02T11:36:30.104Z"
   },
   {
    "duration": 5,
    "start_time": "2022-06-02T11:36:30.609Z"
   },
   {
    "duration": 30,
    "start_time": "2022-06-02T11:36:30.616Z"
   },
   {
    "duration": 90,
    "start_time": "2022-06-02T11:36:30.648Z"
   },
   {
    "duration": 10,
    "start_time": "2022-06-02T11:36:30.741Z"
   },
   {
    "duration": 57,
    "start_time": "2022-06-02T11:36:30.753Z"
   },
   {
    "duration": 40,
    "start_time": "2022-06-02T11:36:30.811Z"
   },
   {
    "duration": 96,
    "start_time": "2022-06-02T11:36:30.853Z"
   },
   {
    "duration": 57,
    "start_time": "2022-06-02T11:36:30.950Z"
   },
   {
    "duration": 35,
    "start_time": "2022-06-02T11:36:31.010Z"
   },
   {
    "duration": 28,
    "start_time": "2022-06-02T11:36:31.046Z"
   },
   {
    "duration": 26,
    "start_time": "2022-06-02T11:36:31.076Z"
   },
   {
    "duration": 40,
    "start_time": "2022-06-02T11:36:31.104Z"
   },
   {
    "duration": 53,
    "start_time": "2022-06-02T11:36:31.148Z"
   },
   {
    "duration": 18,
    "start_time": "2022-06-02T11:36:31.202Z"
   },
   {
    "duration": 50,
    "start_time": "2022-06-02T11:36:31.222Z"
   },
   {
    "duration": 26,
    "start_time": "2022-06-02T11:36:31.274Z"
   },
   {
    "duration": 20,
    "start_time": "2022-06-02T11:36:31.302Z"
   },
   {
    "duration": 44,
    "start_time": "2022-06-02T11:36:31.324Z"
   },
   {
    "duration": 14,
    "start_time": "2022-06-02T11:36:31.369Z"
   },
   {
    "duration": 20,
    "start_time": "2022-06-02T11:36:31.384Z"
   },
   {
    "duration": 32,
    "start_time": "2022-06-02T11:36:31.406Z"
   },
   {
    "duration": 2014,
    "start_time": "2022-06-02T11:36:31.440Z"
   },
   {
    "duration": 8,
    "start_time": "2022-06-02T11:36:33.456Z"
   },
   {
    "duration": 9,
    "start_time": "2022-06-02T11:36:33.466Z"
   },
   {
    "duration": 7,
    "start_time": "2022-06-02T11:36:33.477Z"
   },
   {
    "duration": 48,
    "start_time": "2022-06-02T11:36:33.485Z"
   },
   {
    "duration": 7,
    "start_time": "2022-06-02T11:36:33.535Z"
   },
   {
    "duration": 10,
    "start_time": "2022-06-02T11:36:33.544Z"
   },
   {
    "duration": 13,
    "start_time": "2022-06-02T11:36:33.555Z"
   },
   {
    "duration": 553,
    "start_time": "2022-06-02T11:36:33.569Z"
   },
   {
    "duration": 8,
    "start_time": "2022-06-02T11:36:34.123Z"
   },
   {
    "duration": 41,
    "start_time": "2022-06-02T11:36:34.133Z"
   },
   {
    "duration": 20,
    "start_time": "2022-06-02T11:36:34.175Z"
   },
   {
    "duration": 621,
    "start_time": "2022-06-02T11:36:34.197Z"
   },
   {
    "duration": 9,
    "start_time": "2022-06-02T11:36:34.819Z"
   },
   {
    "duration": 9,
    "start_time": "2022-06-02T11:36:34.830Z"
   },
   {
    "duration": 15,
    "start_time": "2022-06-02T11:36:34.840Z"
   },
   {
    "duration": 12,
    "start_time": "2022-06-02T11:36:34.856Z"
   },
   {
    "duration": 1549,
    "start_time": "2022-06-02T11:39:55.843Z"
   },
   {
    "duration": 4,
    "start_time": "2022-06-02T11:39:57.394Z"
   },
   {
    "duration": 27,
    "start_time": "2022-06-02T11:39:57.400Z"
   },
   {
    "duration": 89,
    "start_time": "2022-06-02T11:39:57.430Z"
   },
   {
    "duration": 9,
    "start_time": "2022-06-02T11:39:57.520Z"
   },
   {
    "duration": 60,
    "start_time": "2022-06-02T11:39:57.530Z"
   },
   {
    "duration": 36,
    "start_time": "2022-06-02T11:39:57.592Z"
   },
   {
    "duration": 80,
    "start_time": "2022-06-02T11:39:57.631Z"
   },
   {
    "duration": 62,
    "start_time": "2022-06-02T11:39:57.712Z"
   },
   {
    "duration": 18,
    "start_time": "2022-06-02T11:39:57.777Z"
   },
   {
    "duration": 45,
    "start_time": "2022-06-02T11:39:57.797Z"
   },
   {
    "duration": 30,
    "start_time": "2022-06-02T11:39:57.845Z"
   },
   {
    "duration": 17,
    "start_time": "2022-06-02T11:39:57.877Z"
   },
   {
    "duration": 55,
    "start_time": "2022-06-02T11:39:57.895Z"
   },
   {
    "duration": 13,
    "start_time": "2022-06-02T11:39:57.951Z"
   },
   {
    "duration": 20,
    "start_time": "2022-06-02T11:39:57.965Z"
   },
   {
    "duration": 33,
    "start_time": "2022-06-02T11:39:57.987Z"
   },
   {
    "duration": 25,
    "start_time": "2022-06-02T11:39:58.022Z"
   },
   {
    "duration": 49,
    "start_time": "2022-06-02T11:39:58.048Z"
   },
   {
    "duration": 13,
    "start_time": "2022-06-02T11:39:58.099Z"
   },
   {
    "duration": 20,
    "start_time": "2022-06-02T11:39:58.114Z"
   },
   {
    "duration": 47,
    "start_time": "2022-06-02T11:39:58.136Z"
   },
   {
    "duration": 1859,
    "start_time": "2022-06-02T11:39:58.184Z"
   },
   {
    "duration": 7,
    "start_time": "2022-06-02T11:40:00.045Z"
   },
   {
    "duration": 37,
    "start_time": "2022-06-02T11:40:00.054Z"
   },
   {
    "duration": 21,
    "start_time": "2022-06-02T11:40:00.092Z"
   },
   {
    "duration": 22,
    "start_time": "2022-06-02T11:40:00.115Z"
   },
   {
    "duration": 24,
    "start_time": "2022-06-02T11:40:00.140Z"
   },
   {
    "duration": 49,
    "start_time": "2022-06-02T11:40:00.166Z"
   },
   {
    "duration": 24,
    "start_time": "2022-06-02T11:40:00.217Z"
   },
   {
    "duration": 678,
    "start_time": "2022-06-02T11:40:00.243Z"
   },
   {
    "duration": 6,
    "start_time": "2022-06-02T11:40:00.923Z"
   },
   {
    "duration": 26,
    "start_time": "2022-06-02T11:40:00.931Z"
   },
   {
    "duration": 36,
    "start_time": "2022-06-02T11:40:00.959Z"
   },
   {
    "duration": 594,
    "start_time": "2022-06-02T11:40:00.997Z"
   },
   {
    "duration": 5,
    "start_time": "2022-06-02T11:40:01.593Z"
   },
   {
    "duration": 53,
    "start_time": "2022-06-02T11:40:01.600Z"
   },
   {
    "duration": 61,
    "start_time": "2022-06-02T11:40:01.654Z"
   },
   {
    "duration": 80,
    "start_time": "2022-06-02T11:40:01.717Z"
   }
  ],
  "kernelspec": {
   "display_name": "Python 3 (ipykernel)",
   "language": "python",
   "name": "python3"
  },
  "language_info": {
   "codemirror_mode": {
    "name": "ipython",
    "version": 3
   },
   "file_extension": ".py",
   "mimetype": "text/x-python",
   "name": "python",
   "nbconvert_exporter": "python",
   "pygments_lexer": "ipython3",
   "version": "3.9.12"
  },
  "toc": {
   "base_numbering": 1,
   "nav_menu": {},
   "number_sections": true,
   "sideBar": true,
   "skip_h1_title": true,
   "title_cell": "Table of Contents",
   "title_sidebar": "Contents",
   "toc_cell": false,
   "toc_position": {
    "height": "calc(100% - 180px)",
    "left": "10px",
    "top": "150px",
    "width": "295.056px"
   },
   "toc_section_display": true,
   "toc_window_display": true
  }
 },
 "nbformat": 4,
 "nbformat_minor": 5
}
