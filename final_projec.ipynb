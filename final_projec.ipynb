{
 "cells": [
  {
   "cell_type": "markdown",
   "id": "0d6e4dc7",
   "metadata": {
    "toc": true
   },
   "source": [
    "<h1>Table of Contents<span class=\"tocSkip\"></span></h1>\n",
    "<div class=\"toc\"><ul class=\"toc-item\"><li><span><a href=\"#Выгрузка-данных-и-подключение-библиотек\" data-toc-modified-id=\"Выгрузка-данных-и-подключение-библиотек-1\"><span class=\"toc-item-num\">1&nbsp;&nbsp;</span>Выгрузка данных и подключение библиотек</a></span></li><li><span><a href=\"#Предобработка-данных\" data-toc-modified-id=\"Предобработка-данных-2\"><span class=\"toc-item-num\">2&nbsp;&nbsp;</span>Предобработка данных</a></span><ul class=\"toc-item\"><li><span><a href=\"#Обработка-типов-данных\" data-toc-modified-id=\"Обработка-типов-данных-2.1\"><span class=\"toc-item-num\">2.1&nbsp;&nbsp;</span>Обработка типов данных</a></span></li><li><span><a href=\"#Обработка-пропусков\" data-toc-modified-id=\"Обработка-пропусков-2.2\"><span class=\"toc-item-num\">2.2&nbsp;&nbsp;</span>Обработка пропусков</a></span></li></ul></li><li><span><a href=\"#Исследовательский-анализ-данных-(EDA)\" data-toc-modified-id=\"Исследовательский-анализ-данных-(EDA)-3\"><span class=\"toc-item-num\">3&nbsp;&nbsp;</span>Исследовательский анализ данных (EDA)</a></span><ul class=\"toc-item\"><li><span><a href=\"#Анализ-общей-суммы-расходов-на-маркетинг.-Топ-источники-по-количеству-затраченных-средств\" data-toc-modified-id=\"Анализ-общей-суммы-расходов-на-маркетинг.-Топ-источники-по-количеству-затраченных-средств-3.1\"><span class=\"toc-item-num\">3.1&nbsp;&nbsp;</span>Анализ общей суммы расходов на маркетинг. Топ-источники по количеству затраченных средств</a></span></li><li><span><a href=\"#Топ-источники-по-количеству-приведенных-пользователей\" data-toc-modified-id=\"Топ-источники-по-количеству-приведенных-пользователей-3.2\"><span class=\"toc-item-num\">3.2&nbsp;&nbsp;</span>Топ-источники по количеству приведенных пользователей</a></span></li><li><span><a href=\"#Анализ-количества-приведенных-пользователей-из-источников-в-разрезе-времени\" data-toc-modified-id=\"Анализ-количества-приведенных-пользователей-из-источников-в-разрезе-времени-3.3\"><span class=\"toc-item-num\">3.3&nbsp;&nbsp;</span>Анализ количества приведенных пользователей из источников в разрезе времени</a></span></li><li><span><a href=\"#Анализ-затраченого-времени-на-прохождение-первого-уровня\" data-toc-modified-id=\"Анализ-затраченого-времени-на-прохождение-первого-уровня-3.4\"><span class=\"toc-item-num\">3.4&nbsp;&nbsp;</span>Анализ затраченого времени на прохождение первого уровня</a></span></li><li><span><a href=\"#Анализ-постройки-типов-зданий\" data-toc-modified-id=\"Анализ-постройки-типов-зданий-3.5\"><span class=\"toc-item-num\">3.5&nbsp;&nbsp;</span>Анализ постройки типов зданий</a></span></li></ul></li><li><span><a href=\"#Анализ-влияния-источника-перехода-в-игру-на-поведение-пользователя\" data-toc-modified-id=\"Анализ-влияния-источника-перехода-в-игру-на-поведение-пользователя-4\"><span class=\"toc-item-num\">4&nbsp;&nbsp;</span>Анализ влияния источника перехода в игру на поведение пользователя</a></span><ul class=\"toc-item\"><li><span><a href=\"#Зависит-ли-от-источника-время-на-завершение-уровня\" data-toc-modified-id=\"Зависит-ли-от-источника-время-на-завершение-уровня-4.1\"><span class=\"toc-item-num\">4.1&nbsp;&nbsp;</span>Зависит ли от источника время на завершение уровня</a></span></li><li><span><a href=\"#Зависит-ли-от-источника-количество-построек\" data-toc-modified-id=\"Зависит-ли-от-источника-количество-построек-4.2\"><span class=\"toc-item-num\">4.2&nbsp;&nbsp;</span>Зависит ли от источника количество построек</a></span></li><li><span><a href=\"#Выводы:\" data-toc-modified-id=\"Выводы:-4.3\"><span class=\"toc-item-num\">4.3&nbsp;&nbsp;</span><code>Выводы:</code></a></span></li></ul></li><li><span><a href=\"#Постановка-и-проверка-гипотез\" data-toc-modified-id=\"Постановка-и-проверка-гипотез-5\"><span class=\"toc-item-num\">5&nbsp;&nbsp;</span>Постановка и проверка гипотез</a></span><ul class=\"toc-item\"><li><span><a href=\"#Гипотеза-1\" data-toc-modified-id=\"Гипотеза-1-5.1\"><span class=\"toc-item-num\">5.1&nbsp;&nbsp;</span>Гипотеза 1</a></span></li><li><span><a href=\"#Гипотеза-2\" data-toc-modified-id=\"Гипотеза-2-5.2\"><span class=\"toc-item-num\">5.2&nbsp;&nbsp;</span>Гипотеза 2</a></span></li></ul></li><li><span><a href=\"#Метрика-CAC.-Стоимость-привлечения-пользователей-из-источников\" data-toc-modified-id=\"Метрика-CAC.-Стоимость-привлечения-пользователей-из-источников-6\"><span class=\"toc-item-num\">6&nbsp;&nbsp;</span>Метрика CAC. Стоимость привлечения пользователей из источников</a></span></li><li><span><a href=\"#Метрика-CR.-Конверсия-привлеченных-пользователей-из-Top-источников.\" data-toc-modified-id=\"Метрика-CR.-Конверсия-привлеченных-пользователей-из-Top-источников.-7\"><span class=\"toc-item-num\">7&nbsp;&nbsp;</span>Метрика CR. Конверсия привлеченных пользователей из Top-источников.</a></span></li><li><span><a href=\"#Общий-вывод-и-рекомендации\" data-toc-modified-id=\"Общий-вывод-и-рекомендации-8\"><span class=\"toc-item-num\">8&nbsp;&nbsp;</span>Общий вывод и рекомендации</a></span></li></ul></div>"
   ]
  },
  {
   "cell_type": "markdown",
   "id": "15cbff9a",
   "metadata": {},
   "source": [
    "# Анализ рекламных источников"
   ]
  },
  {
   "cell_type": "markdown",
   "id": "97d1755e",
   "metadata": {},
   "source": [
    "# Постановка задачи, описание данных  \n",
    "\n",
    "Предоставлены данные о событиях, совершенных в мобильной игре «Космические братья». В ней пользователи строят свою космическую программу.  \n",
    "В датасете содержатся данные первых пользователей приложения — когорты пользователей, которые начали пользоваться приложением в период с 4 по 10 мая включительно.  \n",
    "В датасете представлены данные по игре пользователей на первом уровне. Завершение первого уровня требует от игрока выполнения одного из двух условий:  \n",
    "\n",
    "- Победа над первым врагом\n",
    "- Реализация проекта - разработка орбитальной сборки спутников\n",
    "\n",
    "Датасет *game_actions.csv*:\n",
    "\n",
    "- `event_datetime` — время события;\n",
    "- `event` — одно из трёх событий:\n",
    "    1. `building` — объект построен,\n",
    "    2. `finished_stage_1` — первый уровень завершён,\n",
    "    3. `project` — проект завершён;\n",
    "- `building_type` — один из трёх типов здания:\n",
    "    1. `assembly_shop` — сборочный цех,\n",
    "    2. `spaceport` — космопорт,\n",
    "    3. `research_center` — исследовательский центр;\n",
    "- `user_id` — идентификатор пользователя;\n",
    "- `project_type` — тип реализованного проекта;\n",
    "\n",
    "Помимо основного датасета есть два датасета с информацией о рекламных активностях. Они также помогут в решении задачи.\n",
    "\n",
    "Датасет *ad_cost.csv*:\n",
    "\n",
    "- `day` - день, в который был совершен клик по объявлению\n",
    "- `source` - источник трафика\n",
    "- `cost` - стоимость кликов\n",
    "\n",
    "Датасет user_source.csv содержит колонки:\n",
    "\n",
    "- `user_id` - идентификатор пользователя\n",
    "- `source` - источников, с которого пришёл пользователь, установивший приложение\n",
    "\n",
    "**Задача:**  \n",
    "- Необходимо провести исследовательский анализ данных;\n",
    "- Проанализировать влияние источника перехода в игру на поведение пользователя;\n",
    "- Проверить статистические гипотезы\n",
    "    1. *Гипотеза_1: время завершения уровня различается в зависимости способа прохождения:*\n",
    "        - *через реализацию проекта,*\n",
    "        - *через победу над первым игроком.*\n",
    "    2. *Сформулировать собственную статистическую гипотезу.*"
   ]
  },
  {
   "cell_type": "markdown",
   "id": "2e32f1f5",
   "metadata": {},
   "source": [
    "## Выгрузка данных и подключение библиотек"
   ]
  },
  {
   "cell_type": "markdown",
   "id": "1880ea06",
   "metadata": {},
   "source": [
    "Импортируем библиотеки, которые нам понадобятся. Загрузим данные."
   ]
  },
  {
   "cell_type": "code",
   "execution_count": 447,
   "id": "0ec3faa5",
   "metadata": {},
   "outputs": [],
   "source": [
    "import pandas as pd\n",
    "import matplotlib\n",
    "import matplotlib.pyplot as plt\n",
    "import seaborn as sns \n",
    "import warnings\n",
    "warnings.filterwarnings('ignore')\n",
    "import math\n",
    "from scipy import stats as st\n",
    "\n",
    "#настройка вывода таблиц\n",
    "pd.set_option('display.float_format', '{:.2f}'.format)"
   ]
  },
  {
   "cell_type": "code",
   "execution_count": 448,
   "id": "a3dea0b0",
   "metadata": {
    "scrolled": false
   },
   "outputs": [
    {
     "name": "stdout",
     "output_type": "stream",
     "text": [
      "Сводная информация и первые строки таблицы game_actions\n",
      "\n",
      "<class 'pandas.core.frame.DataFrame'>\n",
      "RangeIndex: 135640 entries, 0 to 135639\n",
      "Data columns (total 5 columns):\n",
      " #   Column          Non-Null Count   Dtype \n",
      "---  ------          --------------   ----- \n",
      " 0   event_datetime  135640 non-null  object\n",
      " 1   event           135640 non-null  object\n",
      " 2   building_type   127957 non-null  object\n",
      " 3   user_id         135640 non-null  object\n",
      " 4   project_type    1866 non-null    object\n",
      "dtypes: object(5)\n",
      "memory usage: 5.2+ MB\n"
     ]
    },
    {
     "data": {
      "text/html": [
       "<div>\n",
       "<style scoped>\n",
       "    .dataframe tbody tr th:only-of-type {\n",
       "        vertical-align: middle;\n",
       "    }\n",
       "\n",
       "    .dataframe tbody tr th {\n",
       "        vertical-align: top;\n",
       "    }\n",
       "\n",
       "    .dataframe thead th {\n",
       "        text-align: right;\n",
       "    }\n",
       "</style>\n",
       "<table border=\"1\" class=\"dataframe\">\n",
       "  <thead>\n",
       "    <tr style=\"text-align: right;\">\n",
       "      <th></th>\n",
       "      <th>event_datetime</th>\n",
       "      <th>event</th>\n",
       "      <th>building_type</th>\n",
       "      <th>user_id</th>\n",
       "      <th>project_type</th>\n",
       "    </tr>\n",
       "  </thead>\n",
       "  <tbody>\n",
       "    <tr>\n",
       "      <th>0</th>\n",
       "      <td>2020-05-04 00:00:01</td>\n",
       "      <td>building</td>\n",
       "      <td>assembly_shop</td>\n",
       "      <td>55e92310-cb8e-4754-b622-597e124b03de</td>\n",
       "      <td>NaN</td>\n",
       "    </tr>\n",
       "    <tr>\n",
       "      <th>1</th>\n",
       "      <td>2020-05-04 00:00:03</td>\n",
       "      <td>building</td>\n",
       "      <td>assembly_shop</td>\n",
       "      <td>c07b1c10-f477-44dc-81dc-ec82254b1347</td>\n",
       "      <td>NaN</td>\n",
       "    </tr>\n",
       "    <tr>\n",
       "      <th>2</th>\n",
       "      <td>2020-05-04 00:00:16</td>\n",
       "      <td>building</td>\n",
       "      <td>assembly_shop</td>\n",
       "      <td>6edd42cc-e753-4ff6-a947-2107cd560710</td>\n",
       "      <td>NaN</td>\n",
       "    </tr>\n",
       "    <tr>\n",
       "      <th>3</th>\n",
       "      <td>2020-05-04 00:00:16</td>\n",
       "      <td>building</td>\n",
       "      <td>assembly_shop</td>\n",
       "      <td>92c69003-d60a-444a-827f-8cc51bf6bf4c</td>\n",
       "      <td>NaN</td>\n",
       "    </tr>\n",
       "    <tr>\n",
       "      <th>4</th>\n",
       "      <td>2020-05-04 00:00:35</td>\n",
       "      <td>building</td>\n",
       "      <td>assembly_shop</td>\n",
       "      <td>cdc6bb92-0ccb-4490-9866-ef142f09139d</td>\n",
       "      <td>NaN</td>\n",
       "    </tr>\n",
       "  </tbody>\n",
       "</table>\n",
       "</div>"
      ],
      "text/plain": [
       "        event_datetime     event  building_type  \\\n",
       "0  2020-05-04 00:00:01  building  assembly_shop   \n",
       "1  2020-05-04 00:00:03  building  assembly_shop   \n",
       "2  2020-05-04 00:00:16  building  assembly_shop   \n",
       "3  2020-05-04 00:00:16  building  assembly_shop   \n",
       "4  2020-05-04 00:00:35  building  assembly_shop   \n",
       "\n",
       "                                user_id project_type  \n",
       "0  55e92310-cb8e-4754-b622-597e124b03de          NaN  \n",
       "1  c07b1c10-f477-44dc-81dc-ec82254b1347          NaN  \n",
       "2  6edd42cc-e753-4ff6-a947-2107cd560710          NaN  \n",
       "3  92c69003-d60a-444a-827f-8cc51bf6bf4c          NaN  \n",
       "4  cdc6bb92-0ccb-4490-9866-ef142f09139d          NaN  "
      ]
     },
     "metadata": {},
     "output_type": "display_data"
    },
    {
     "name": "stdout",
     "output_type": "stream",
     "text": [
      "**************************************************\n",
      "Сводная информация и первые строки таблицы ad_cost\n",
      "\n",
      "<class 'pandas.core.frame.DataFrame'>\n",
      "RangeIndex: 28 entries, 0 to 27\n",
      "Data columns (total 3 columns):\n",
      " #   Column  Non-Null Count  Dtype  \n",
      "---  ------  --------------  -----  \n",
      " 0   source  28 non-null     object \n",
      " 1   day     28 non-null     object \n",
      " 2   cost    28 non-null     float64\n",
      "dtypes: float64(1), object(2)\n",
      "memory usage: 800.0+ bytes\n"
     ]
    },
    {
     "data": {
      "text/html": [
       "<div>\n",
       "<style scoped>\n",
       "    .dataframe tbody tr th:only-of-type {\n",
       "        vertical-align: middle;\n",
       "    }\n",
       "\n",
       "    .dataframe tbody tr th {\n",
       "        vertical-align: top;\n",
       "    }\n",
       "\n",
       "    .dataframe thead th {\n",
       "        text-align: right;\n",
       "    }\n",
       "</style>\n",
       "<table border=\"1\" class=\"dataframe\">\n",
       "  <thead>\n",
       "    <tr style=\"text-align: right;\">\n",
       "      <th></th>\n",
       "      <th>source</th>\n",
       "      <th>day</th>\n",
       "      <th>cost</th>\n",
       "    </tr>\n",
       "  </thead>\n",
       "  <tbody>\n",
       "    <tr>\n",
       "      <th>0</th>\n",
       "      <td>facebook_ads</td>\n",
       "      <td>2020-05-03</td>\n",
       "      <td>935.88</td>\n",
       "    </tr>\n",
       "    <tr>\n",
       "      <th>1</th>\n",
       "      <td>facebook_ads</td>\n",
       "      <td>2020-05-04</td>\n",
       "      <td>548.35</td>\n",
       "    </tr>\n",
       "    <tr>\n",
       "      <th>2</th>\n",
       "      <td>facebook_ads</td>\n",
       "      <td>2020-05-05</td>\n",
       "      <td>260.19</td>\n",
       "    </tr>\n",
       "    <tr>\n",
       "      <th>3</th>\n",
       "      <td>facebook_ads</td>\n",
       "      <td>2020-05-06</td>\n",
       "      <td>177.98</td>\n",
       "    </tr>\n",
       "    <tr>\n",
       "      <th>4</th>\n",
       "      <td>facebook_ads</td>\n",
       "      <td>2020-05-07</td>\n",
       "      <td>111.77</td>\n",
       "    </tr>\n",
       "  </tbody>\n",
       "</table>\n",
       "</div>"
      ],
      "text/plain": [
       "         source         day   cost\n",
       "0  facebook_ads  2020-05-03 935.88\n",
       "1  facebook_ads  2020-05-04 548.35\n",
       "2  facebook_ads  2020-05-05 260.19\n",
       "3  facebook_ads  2020-05-06 177.98\n",
       "4  facebook_ads  2020-05-07 111.77"
      ]
     },
     "metadata": {},
     "output_type": "display_data"
    },
    {
     "name": "stdout",
     "output_type": "stream",
     "text": [
      "**************************************************\n",
      "Сводная информация и первые строки таблицы user_source\n",
      "\n",
      "<class 'pandas.core.frame.DataFrame'>\n",
      "RangeIndex: 13576 entries, 0 to 13575\n",
      "Data columns (total 2 columns):\n",
      " #   Column   Non-Null Count  Dtype \n",
      "---  ------   --------------  ----- \n",
      " 0   user_id  13576 non-null  object\n",
      " 1   source   13576 non-null  object\n",
      "dtypes: object(2)\n",
      "memory usage: 212.2+ KB\n"
     ]
    },
    {
     "data": {
      "text/html": [
       "<div>\n",
       "<style scoped>\n",
       "    .dataframe tbody tr th:only-of-type {\n",
       "        vertical-align: middle;\n",
       "    }\n",
       "\n",
       "    .dataframe tbody tr th {\n",
       "        vertical-align: top;\n",
       "    }\n",
       "\n",
       "    .dataframe thead th {\n",
       "        text-align: right;\n",
       "    }\n",
       "</style>\n",
       "<table border=\"1\" class=\"dataframe\">\n",
       "  <thead>\n",
       "    <tr style=\"text-align: right;\">\n",
       "      <th></th>\n",
       "      <th>user_id</th>\n",
       "      <th>source</th>\n",
       "    </tr>\n",
       "  </thead>\n",
       "  <tbody>\n",
       "    <tr>\n",
       "      <th>0</th>\n",
       "      <td>0001f83c-c6ac-4621-b7f0-8a28b283ac30</td>\n",
       "      <td>facebook_ads</td>\n",
       "    </tr>\n",
       "    <tr>\n",
       "      <th>1</th>\n",
       "      <td>00151b4f-ba38-44a8-a650-d7cf130a0105</td>\n",
       "      <td>yandex_direct</td>\n",
       "    </tr>\n",
       "    <tr>\n",
       "      <th>2</th>\n",
       "      <td>001aaea6-3d14-43f1-8ca8-7f48820f17aa</td>\n",
       "      <td>youtube_channel_reklama</td>\n",
       "    </tr>\n",
       "    <tr>\n",
       "      <th>3</th>\n",
       "      <td>001d39dc-366c-4021-9604-6a3b9ff01e25</td>\n",
       "      <td>instagram_new_adverts</td>\n",
       "    </tr>\n",
       "    <tr>\n",
       "      <th>4</th>\n",
       "      <td>002f508f-67b6-479f-814b-b05f00d4e995</td>\n",
       "      <td>facebook_ads</td>\n",
       "    </tr>\n",
       "  </tbody>\n",
       "</table>\n",
       "</div>"
      ],
      "text/plain": [
       "                                user_id                   source\n",
       "0  0001f83c-c6ac-4621-b7f0-8a28b283ac30             facebook_ads\n",
       "1  00151b4f-ba38-44a8-a650-d7cf130a0105            yandex_direct\n",
       "2  001aaea6-3d14-43f1-8ca8-7f48820f17aa  youtube_channel_reklama\n",
       "3  001d39dc-366c-4021-9604-6a3b9ff01e25    instagram_new_adverts\n",
       "4  002f508f-67b6-479f-814b-b05f00d4e995             facebook_ads"
      ]
     },
     "metadata": {},
     "output_type": "display_data"
    },
    {
     "name": "stdout",
     "output_type": "stream",
     "text": [
      "**************************************************\n"
     ]
    }
   ],
   "source": [
    "#выгрузка данных\n",
    "try:\n",
    "    game_actions = pd.read_csv(r'C:\\datasets\\game_actions.csv') # пользователи\n",
    "    ad_cost = pd.read_csv(r'C:\\datasets\\ad_costs.csv')           # информация о стоимости кликов\n",
    "    user_source = pd.read_csv(r'C:\\datasets\\user_source.csv')   # информация об источнике перехода\n",
    "except:\n",
    "    game_actions = pd.read_csv('/datasets/game_actions.csv')\n",
    "    ad_cost = pd.read_csv('/datasets/ad_costs.csv')\n",
    "    user_source = pd.read_csv('/datasets/user_source.csv')\n",
    "    \n",
    "#ознакомимся с таблицами и проверим тип данных\n",
    "\n",
    "#список таблиц\n",
    "df_list=[game_actions, ad_cost, user_source]\n",
    "#список наименований таблиц\n",
    "df_name_list=['game_actions', 'ad_cost', 'user_source']\n",
    "\n",
    "#цикл, который вывоводит информацию о таблицах и их первые строки\n",
    "for dataset, dataset_name in zip(df_list, df_name_list):\n",
    "    print(f'Сводная информация и первые строки таблицы {dataset_name}\\n')\n",
    "    dataset.info()\n",
    "    display(dataset.head())\n",
    "    print('*'*50)"
   ]
  },
  {
   "cell_type": "markdown",
   "id": "f8ae7d42",
   "metadata": {},
   "source": [
    "`Выводы:`  \n",
    "По результатам выгрузки и сводной информации замечено, что в таблице game_actions есть пропуски в данных о типе здания и тип реализованного проекта.  \n",
    "Кроме того, данные о дате имеют некорректный тип во всех таблицах.  \n",
    "Далее исправим это."
   ]
  },
  {
   "cell_type": "markdown",
   "id": "5fe4b10f",
   "metadata": {},
   "source": [
    "## Предобработка данных"
   ]
  },
  {
   "cell_type": "markdown",
   "id": "615a4b67",
   "metadata": {},
   "source": [
    "### Обработка типов данных"
   ]
  },
  {
   "cell_type": "markdown",
   "id": "ac502b1d",
   "metadata": {},
   "source": [
    "Изменим тип данных времени на datetime "
   ]
  },
  {
   "cell_type": "code",
   "execution_count": 449,
   "id": "fbf01725",
   "metadata": {},
   "outputs": [],
   "source": [
    "#время события в игре\n",
    "game_actions['event_datetime']=pd.to_datetime(\n",
    "    game_actions['event_datetime'], format='%Y-%m-%d %H:%M:%S'\n",
    ")\n",
    "# день, в который был совершен клик по объявлению\n",
    "ad_cost['day']=pd.to_datetime(\n",
    "    ad_cost['day'], format='%Y-%m-%d'\n",
    ")"
   ]
  },
  {
   "cell_type": "markdown",
   "id": "c2cf13bc",
   "metadata": {},
   "source": [
    "### Обработка пропусков"
   ]
  },
  {
   "cell_type": "code",
   "execution_count": 450,
   "id": "a6694245",
   "metadata": {},
   "outputs": [
    {
     "name": "stdout",
     "output_type": "stream",
     "text": [
      "Количество пропусков в столбце building_type равно: 7683,\n",
      "что составляет 5.66% от общего количества building_type \n",
      "\n",
      "Количество пропусков в столбце project_type равно: 133774,\n",
      "что составляет 98.62% от общего количества project_type \n",
      "\n"
     ]
    }
   ],
   "source": [
    "#цикл проходит по всем столбцам и выводит количество пропусков, если они есть\n",
    "\n",
    "for column in game_actions.columns:\n",
    "    cnt_nan=len(game_actions[game_actions[column].isna()]) #количесто пустых значений\n",
    "    if cnt_nan != 0:\n",
    "        print(f'Количество пропусков в столбце {column} равно: {cnt_nan},')\n",
    "        print(f'что составляет {cnt_nan/len(game_actions):,.2%} от общего количества {column} \\n')"
   ]
  },
  {
   "cell_type": "markdown",
   "id": "b2ef6bd2",
   "metadata": {},
   "source": [
    "В данных о типе реализованного проекта большой процент пропусков 98,62% скорее всего это связано с тем, что данных о типе проекта и не может быть, так как не все завершают первый уровень, через проект.  \n",
    "Из первых наблюдей можно сказать, что пользователей, котрые завершили проект 1866 и строк с информацией о типе проекта тоже 1866. Предполагаем, что в части этих данных пропусков нет и пустые строки можно заменить значением 'unknown'."
   ]
  },
  {
   "cell_type": "code",
   "execution_count": 451,
   "id": "2c9da37f",
   "metadata": {},
   "outputs": [],
   "source": [
    "#замена пустых значений\n",
    "game_actions['project_type']=game_actions['project_type'].fillna('unknown')"
   ]
  },
  {
   "cell_type": "markdown",
   "id": "c0f9a475",
   "metadata": {},
   "source": [
    "## Исследовательский анализ данных (EDA)"
   ]
  },
  {
   "cell_type": "markdown",
   "id": "7d1d5407",
   "metadata": {},
   "source": [
    "### Анализ общей суммы расходов на маркетинг. Топ-источники по количеству затраченных средств"
   ]
  },
  {
   "cell_type": "markdown",
   "id": "20c2ec54",
   "metadata": {},
   "source": [
    "Привлечено четыре источника перхода в игру, нас интересует на какие источники затрачено больше всего средств.  \n",
    "Выделим Top-источники о количеству затраченных средств, в силу того, что источника всего четыре, исследовать будем Top-2 источника.  \n",
    "Рассмотрим визуализацию о потраченных средствах на каждый источник через график \"ящик с усами\", чтобы рассмотреть средние значения и наличие выбросов."
   ]
  },
  {
   "cell_type": "code",
   "execution_count": 452,
   "id": "5289b5da",
   "metadata": {},
   "outputs": [
    {
     "data": {
      "image/png": "[encoded data removed]",
      "text/plain": [
       "<Figure size 720x432 with 1 Axes>"
      ]
     },
     "metadata": {},
     "output_type": "display_data"
    }
   ],
   "source": [
    "sns.set(style='darkgrid', palette='deep')\n",
    "plt.figure(figsize=(10, 6))\n",
    "plt.title(\"График «ящик с усами» по затраченным средствам на маркетинг в разбивке по источникам\", fontsize=11)\n",
    "sns.boxplot(x='source', y='cost',palette='hls', data=ad_cost)\n",
    "plt.show()"
   ]
  },
  {
   "cell_type": "markdown",
   "id": "2c0c198f",
   "metadata": {},
   "source": [
    "Рассмотрим распределение затраченных средств по источникам"
   ]
  },
  {
   "cell_type": "code",
   "execution_count": 453,
   "id": "20568e08",
   "metadata": {},
   "outputs": [
    {
     "data": {
      "text/html": [
       "<div>\n",
       "<style scoped>\n",
       "    .dataframe tbody tr th:only-of-type {\n",
       "        vertical-align: middle;\n",
       "    }\n",
       "\n",
       "    .dataframe tbody tr th {\n",
       "        vertical-align: top;\n",
       "    }\n",
       "\n",
       "    .dataframe thead th {\n",
       "        text-align: right;\n",
       "    }\n",
       "</style>\n",
       "<table border=\"1\" class=\"dataframe\">\n",
       "  <thead>\n",
       "    <tr style=\"text-align: right;\">\n",
       "      <th></th>\n",
       "      <th>source</th>\n",
       "      <th>sum_cost</th>\n",
       "      <th>mean_cost</th>\n",
       "    </tr>\n",
       "  </thead>\n",
       "  <tbody>\n",
       "    <tr>\n",
       "      <th>2</th>\n",
       "      <td>yandex_direct</td>\n",
       "      <td>2233.11</td>\n",
       "      <td>319.02</td>\n",
       "    </tr>\n",
       "    <tr>\n",
       "      <th>1</th>\n",
       "      <td>instagram_new_adverts</td>\n",
       "      <td>2161.44</td>\n",
       "      <td>308.78</td>\n",
       "    </tr>\n",
       "    <tr>\n",
       "      <th>0</th>\n",
       "      <td>facebook_ads</td>\n",
       "      <td>2140.90</td>\n",
       "      <td>305.84</td>\n",
       "    </tr>\n",
       "    <tr>\n",
       "      <th>3</th>\n",
       "      <td>youtube_channel_reklama</td>\n",
       "      <td>1068.12</td>\n",
       "      <td>152.59</td>\n",
       "    </tr>\n",
       "  </tbody>\n",
       "</table>\n",
       "</div>"
      ],
      "text/plain": [
       "                    source  sum_cost  mean_cost\n",
       "2            yandex_direct   2233.11     319.02\n",
       "1    instagram_new_adverts   2161.44     308.78\n",
       "0             facebook_ads   2140.90     305.84\n",
       "3  youtube_channel_reklama   1068.12     152.59"
      ]
     },
     "execution_count": 453,
     "metadata": {},
     "output_type": "execute_result"
    }
   ],
   "source": [
    "#группируем по источнику\n",
    "top2_source_cost=(\n",
    "    ad_cost.groupby('source', as_index=False)\n",
    "    .agg(\n",
    "        sum_cost=('cost', 'sum'), #находим сумму затраченных средсв на рекламу\n",
    "        mean_cost=('cost', 'mean'), #находим среднее\n",
    "        )\n",
    "    .sort_values(by='sum_cost', ascending=False) #сортируем от большего к меньшему\n",
    "    #.head(2) #оставляем два источника\n",
    " )\n",
    "top2_source_cost"
   ]
  },
  {
   "cell_type": "code",
   "execution_count": 454,
   "id": "85585b8e",
   "metadata": {
    "scrolled": true
   },
   "outputs": [
    {
     "data": {
      "image/png": "[encoded data removed]",
      "text/plain": [
       "<Figure size 504x360 with 1 Axes>"
      ]
     },
     "metadata": {},
     "output_type": "display_data"
    }
   ],
   "source": [
    "plt.figure(figsize=(7, 5))\n",
    "plt.title(\"Диаграмма распределения источников по затратам\", fontsize=12)\n",
    "sns.barplot(y='source', x='sum_cost',color='skyblue', data=top2_source_cost)\n",
    "plt.show()"
   ]
  },
  {
   "cell_type": "markdown",
   "id": "688f8643",
   "metadata": {},
   "source": [
    "Выделим Top-2 источников по затратам"
   ]
  },
  {
   "cell_type": "code",
   "execution_count": 455,
   "id": "ccf85d8d",
   "metadata": {},
   "outputs": [
    {
     "data": {
      "text/html": [
       "<div>\n",
       "<style scoped>\n",
       "    .dataframe tbody tr th:only-of-type {\n",
       "        vertical-align: middle;\n",
       "    }\n",
       "\n",
       "    .dataframe tbody tr th {\n",
       "        vertical-align: top;\n",
       "    }\n",
       "\n",
       "    .dataframe thead th {\n",
       "        text-align: right;\n",
       "    }\n",
       "</style>\n",
       "<table border=\"1\" class=\"dataframe\">\n",
       "  <thead>\n",
       "    <tr style=\"text-align: right;\">\n",
       "      <th></th>\n",
       "      <th>source</th>\n",
       "      <th>sum_cost</th>\n",
       "      <th>mean_cost</th>\n",
       "    </tr>\n",
       "  </thead>\n",
       "  <tbody>\n",
       "    <tr>\n",
       "      <th>2</th>\n",
       "      <td>yandex_direct</td>\n",
       "      <td>2233.11</td>\n",
       "      <td>319.02</td>\n",
       "    </tr>\n",
       "    <tr>\n",
       "      <th>1</th>\n",
       "      <td>instagram_new_adverts</td>\n",
       "      <td>2161.44</td>\n",
       "      <td>308.78</td>\n",
       "    </tr>\n",
       "  </tbody>\n",
       "</table>\n",
       "</div>"
      ],
      "text/plain": [
       "                  source  sum_cost  mean_cost\n",
       "2          yandex_direct   2233.11     319.02\n",
       "1  instagram_new_adverts   2161.44     308.78"
      ]
     },
     "execution_count": 455,
     "metadata": {},
     "output_type": "execute_result"
    }
   ],
   "source": [
    "top2_source_cost.head(2)"
   ]
  },
  {
   "cell_type": "markdown",
   "id": "1d615a3e",
   "metadata": {},
   "source": [
    "`Выводы:`  \n",
    "Средства направлены на четеры источника по привлечению клиентов, меньше всего выделено средств на рекламу через ютуб каналы. \n",
    "Больше всего выделяется средств на рекламу через яндекс, инстаграм на втором месте. Выбросов не наблюдается, в среднем у всех источников, короме ютуба, медианное значение затрат практически равное.  \n",
    "Возможно, стоит обратить внимание на тарифы источников.\n"
   ]
  },
  {
   "cell_type": "markdown",
   "id": "fc308d54",
   "metadata": {},
   "source": [
    "### Топ-источники по количеству приведенных пользователей"
   ]
  },
  {
   "cell_type": "markdown",
   "id": "53bcc697",
   "metadata": {},
   "source": [
    "Рассмотрим, какие источники привели больше всего пользователей в игру."
   ]
  },
  {
   "cell_type": "code",
   "execution_count": 456,
   "id": "9962dc5b",
   "metadata": {
    "scrolled": true
   },
   "outputs": [
    {
     "data": {
      "text/html": [
       "<div>\n",
       "<style scoped>\n",
       "    .dataframe tbody tr th:only-of-type {\n",
       "        vertical-align: middle;\n",
       "    }\n",
       "\n",
       "    .dataframe tbody tr th {\n",
       "        vertical-align: top;\n",
       "    }\n",
       "\n",
       "    .dataframe thead th {\n",
       "        text-align: right;\n",
       "    }\n",
       "</style>\n",
       "<table border=\"1\" class=\"dataframe\">\n",
       "  <thead>\n",
       "    <tr style=\"text-align: right;\">\n",
       "      <th></th>\n",
       "      <th>user_id</th>\n",
       "      <th>source</th>\n",
       "    </tr>\n",
       "  </thead>\n",
       "  <tbody>\n",
       "    <tr>\n",
       "      <th>0</th>\n",
       "      <td>0001f83c-c6ac-4621-b7f0-8a28b283ac30</td>\n",
       "      <td>facebook_ads</td>\n",
       "    </tr>\n",
       "    <tr>\n",
       "      <th>1</th>\n",
       "      <td>00151b4f-ba38-44a8-a650-d7cf130a0105</td>\n",
       "      <td>yandex_direct</td>\n",
       "    </tr>\n",
       "    <tr>\n",
       "      <th>2</th>\n",
       "      <td>001aaea6-3d14-43f1-8ca8-7f48820f17aa</td>\n",
       "      <td>youtube_channel_reklama</td>\n",
       "    </tr>\n",
       "    <tr>\n",
       "      <th>3</th>\n",
       "      <td>001d39dc-366c-4021-9604-6a3b9ff01e25</td>\n",
       "      <td>instagram_new_adverts</td>\n",
       "    </tr>\n",
       "    <tr>\n",
       "      <th>4</th>\n",
       "      <td>002f508f-67b6-479f-814b-b05f00d4e995</td>\n",
       "      <td>facebook_ads</td>\n",
       "    </tr>\n",
       "  </tbody>\n",
       "</table>\n",
       "</div>"
      ],
      "text/plain": [
       "                                user_id                   source\n",
       "0  0001f83c-c6ac-4621-b7f0-8a28b283ac30             facebook_ads\n",
       "1  00151b4f-ba38-44a8-a650-d7cf130a0105            yandex_direct\n",
       "2  001aaea6-3d14-43f1-8ca8-7f48820f17aa  youtube_channel_reklama\n",
       "3  001d39dc-366c-4021-9604-6a3b9ff01e25    instagram_new_adverts\n",
       "4  002f508f-67b6-479f-814b-b05f00d4e995             facebook_ads"
      ]
     },
     "execution_count": 456,
     "metadata": {},
     "output_type": "execute_result"
    }
   ],
   "source": [
    "user_source.head()"
   ]
  },
  {
   "cell_type": "markdown",
   "id": "ac2066c8",
   "metadata": {},
   "source": [
    "Выделем Top-2 источников по количеству приведенных пользователей"
   ]
  },
  {
   "cell_type": "code",
   "execution_count": 457,
   "id": "cc7594c9",
   "metadata": {
    "scrolled": true
   },
   "outputs": [
    {
     "data": {
      "text/html": [
       "<div>\n",
       "<style scoped>\n",
       "    .dataframe tbody tr th:only-of-type {\n",
       "        vertical-align: middle;\n",
       "    }\n",
       "\n",
       "    .dataframe tbody tr th {\n",
       "        vertical-align: top;\n",
       "    }\n",
       "\n",
       "    .dataframe thead th {\n",
       "        text-align: right;\n",
       "    }\n",
       "</style>\n",
       "<table border=\"1\" class=\"dataframe\">\n",
       "  <thead>\n",
       "    <tr style=\"text-align: right;\">\n",
       "      <th></th>\n",
       "      <th>source</th>\n",
       "      <th>cnt_user</th>\n",
       "    </tr>\n",
       "  </thead>\n",
       "  <tbody>\n",
       "    <tr>\n",
       "      <th>2</th>\n",
       "      <td>yandex_direct</td>\n",
       "      <td>4817</td>\n",
       "    </tr>\n",
       "    <tr>\n",
       "      <th>1</th>\n",
       "      <td>instagram_new_adverts</td>\n",
       "      <td>3347</td>\n",
       "    </tr>\n",
       "  </tbody>\n",
       "</table>\n",
       "</div>"
      ],
      "text/plain": [
       "                  source  cnt_user\n",
       "2          yandex_direct      4817\n",
       "1  instagram_new_adverts      3347"
      ]
     },
     "execution_count": 457,
     "metadata": {},
     "output_type": "execute_result"
    }
   ],
   "source": [
    "top2_source_attract=(\n",
    "    user_source.groupby('source', as_index=False)\n",
    "    .agg(\n",
    "        cnt_user=('user_id', 'count')\n",
    "        )\n",
    "    .sort_values(by='cnt_user', ascending=False)\n",
    "    .head(2)\n",
    " )\n",
    "top2_source_attract"
   ]
  },
  {
   "cell_type": "code",
   "execution_count": 458,
   "id": "c9086c26",
   "metadata": {
    "scrolled": true
   },
   "outputs": [
    {
     "data": {
      "image/png": "[encoded data removed]",
      "text/plain": [
       "<Figure size 504x360 with 1 Axes>"
      ]
     },
     "metadata": {},
     "output_type": "display_data"
    }
   ],
   "source": [
    "source_attract=(\n",
    "    user_source.groupby('source', as_index=False)\n",
    "    .agg(cnt_user=('user_id', 'count'))\n",
    "    .sort_values(by='cnt_user', ascending=False)\n",
    " )\n",
    "#построение гистограмы\n",
    "plt.figure(figsize=(7, 5))\n",
    "plt.title(\"Каналы привлечения по кол-ву приведенных пользователей\", fontsize=10)\n",
    "sns.barplot(y='source', x='cnt_user',color='skyblue', data=top2_source_attract)\n",
    "plt.show()"
   ]
  },
  {
   "cell_type": "code",
   "execution_count": 459,
   "id": "650c0686",
   "metadata": {},
   "outputs": [
    {
     "data": {
      "text/html": [
       "<div>\n",
       "<style scoped>\n",
       "    .dataframe tbody tr th:only-of-type {\n",
       "        vertical-align: middle;\n",
       "    }\n",
       "\n",
       "    .dataframe tbody tr th {\n",
       "        vertical-align: top;\n",
       "    }\n",
       "\n",
       "    .dataframe thead th {\n",
       "        text-align: right;\n",
       "    }\n",
       "</style>\n",
       "<table border=\"1\" class=\"dataframe\">\n",
       "  <thead>\n",
       "    <tr style=\"text-align: right;\">\n",
       "      <th></th>\n",
       "      <th>source</th>\n",
       "      <th>cnt_user</th>\n",
       "    </tr>\n",
       "  </thead>\n",
       "  <tbody>\n",
       "    <tr>\n",
       "      <th>2</th>\n",
       "      <td>yandex_direct</td>\n",
       "      <td>4817</td>\n",
       "    </tr>\n",
       "    <tr>\n",
       "      <th>1</th>\n",
       "      <td>instagram_new_adverts</td>\n",
       "      <td>3347</td>\n",
       "    </tr>\n",
       "  </tbody>\n",
       "</table>\n",
       "</div>"
      ],
      "text/plain": [
       "                  source  cnt_user\n",
       "2          yandex_direct      4817\n",
       "1  instagram_new_adverts      3347"
      ]
     },
     "execution_count": 459,
     "metadata": {},
     "output_type": "execute_result"
    }
   ],
   "source": [
    "top2_source_attract"
   ]
  },
  {
   "cell_type": "markdown",
   "id": "4fb6c8ad",
   "metadata": {},
   "source": [
    "`Выводы:`  \n",
    "Источник yandex_direct приводит больше всего пользователей, на втором месте инстаграм. Стоит рассмотреть подробнее почему и в какое время пришло больше бользователей.  \n",
    "Ютуб канал приводит наименьшее количество пользователей среди всех каналов.  Например, ютуб канал приводит на 80% меньше пользователей, чем яндекс.\n"
   ]
  },
  {
   "cell_type": "markdown",
   "id": "6f0d839f",
   "metadata": {},
   "source": [
    " "
   ]
  },
  {
   "cell_type": "markdown",
   "id": "3c07ad63",
   "metadata": {},
   "source": [
    "### Анализ количества приведенных пользователей из источников в разрезе времени"
   ]
  },
  {
   "cell_type": "markdown",
   "id": "dd970b01",
   "metadata": {},
   "source": [
    "Рассмотрим таблицу game_actions. Для того чтобы оценить время прибывания в игре клиента, либо оценить из какого источника и в какой день пришел пользователь. Добавим каждому пользователя, дату начала пользования игрой.   \n",
    "Для этого создадим отдельную таблицу с данными о пользователе и дате начала игры. Датой начала игры будем считать дату первого действия игры.  \n"
   ]
  },
  {
   "cell_type": "markdown",
   "id": "59bd32fb",
   "metadata": {},
   "source": [
    "Для анализа необходимо к таблице game_actions присоединить данные об источнике, через который пришел пользователь. "
   ]
  },
  {
   "cell_type": "code",
   "execution_count": 460,
   "id": "e7aad15d",
   "metadata": {},
   "outputs": [],
   "source": [
    "# объединим раблицы по их общему ключу user_id \n",
    "game_actions=pd.merge(game_actions, user_source,how='left', on='user_id')"
   ]
  },
  {
   "cell_type": "code",
   "execution_count": 461,
   "id": "72a87044",
   "metadata": {},
   "outputs": [
    {
     "data": {
      "text/html": [
       "<div>\n",
       "<style scoped>\n",
       "    .dataframe tbody tr th:only-of-type {\n",
       "        vertical-align: middle;\n",
       "    }\n",
       "\n",
       "    .dataframe tbody tr th {\n",
       "        vertical-align: top;\n",
       "    }\n",
       "\n",
       "    .dataframe thead th {\n",
       "        text-align: right;\n",
       "    }\n",
       "</style>\n",
       "<table border=\"1\" class=\"dataframe\">\n",
       "  <thead>\n",
       "    <tr style=\"text-align: right;\">\n",
       "      <th></th>\n",
       "      <th>user_id</th>\n",
       "      <th>event_first</th>\n",
       "    </tr>\n",
       "  </thead>\n",
       "  <tbody>\n",
       "    <tr>\n",
       "      <th>0</th>\n",
       "      <td>0001f83c-c6ac-4621-b7f0-8a28b283ac30</td>\n",
       "      <td>2020-05-06</td>\n",
       "    </tr>\n",
       "    <tr>\n",
       "      <th>1</th>\n",
       "      <td>00151b4f-ba38-44a8-a650-d7cf130a0105</td>\n",
       "      <td>2020-05-06</td>\n",
       "    </tr>\n",
       "    <tr>\n",
       "      <th>2</th>\n",
       "      <td>001aaea6-3d14-43f1-8ca8-7f48820f17aa</td>\n",
       "      <td>2020-05-05</td>\n",
       "    </tr>\n",
       "    <tr>\n",
       "      <th>3</th>\n",
       "      <td>001d39dc-366c-4021-9604-6a3b9ff01e25</td>\n",
       "      <td>2020-05-05</td>\n",
       "    </tr>\n",
       "    <tr>\n",
       "      <th>4</th>\n",
       "      <td>002f508f-67b6-479f-814b-b05f00d4e995</td>\n",
       "      <td>2020-05-05</td>\n",
       "    </tr>\n",
       "  </tbody>\n",
       "</table>\n",
       "</div>"
      ],
      "text/plain": [
       "                                user_id event_first\n",
       "0  0001f83c-c6ac-4621-b7f0-8a28b283ac30  2020-05-06\n",
       "1  00151b4f-ba38-44a8-a650-d7cf130a0105  2020-05-06\n",
       "2  001aaea6-3d14-43f1-8ca8-7f48820f17aa  2020-05-05\n",
       "3  001d39dc-366c-4021-9604-6a3b9ff01e25  2020-05-05\n",
       "4  002f508f-67b6-479f-814b-b05f00d4e995  2020-05-05"
      ]
     },
     "execution_count": 461,
     "metadata": {},
     "output_type": "execute_result"
    }
   ],
   "source": [
    "# Отсортируем данные в таблице по пользователю и дате событий \n",
    "game_start=game_actions[['event_datetime','user_id', 'source']].sort_values(by=['user_id', 'event_datetime'])\n",
    "\n",
    "#Функцик first выберем дату первого события, которое совершил пользователь \n",
    "game_start=game_start.groupby('user_id', as_index=False).agg(event_first=('event_datetime','first'))\n",
    "\n",
    "#Уберем информацию о времени\n",
    "game_start['event_first']=game_start['event_first'].dt.date\n",
    "game_start.head()\n"
   ]
  },
  {
   "cell_type": "markdown",
   "id": "feb19309",
   "metadata": {},
   "source": [
    "Для дальнейшего анализа добавим к таблице game_actions данные о том, когда пришел пользователь"
   ]
  },
  {
   "cell_type": "code",
   "execution_count": 462,
   "id": "0f3da15a",
   "metadata": {},
   "outputs": [],
   "source": [
    "# объединим раблицы по их общему ключу user_id \n",
    "game_actions=pd.merge(game_actions, game_start,how='left', on='user_id')"
   ]
  },
  {
   "cell_type": "code",
   "execution_count": 463,
   "id": "0873c981",
   "metadata": {},
   "outputs": [
    {
     "data": {
      "text/html": [
       "<div>\n",
       "<style scoped>\n",
       "    .dataframe tbody tr th:only-of-type {\n",
       "        vertical-align: middle;\n",
       "    }\n",
       "\n",
       "    .dataframe tbody tr th {\n",
       "        vertical-align: top;\n",
       "    }\n",
       "\n",
       "    .dataframe thead th {\n",
       "        text-align: right;\n",
       "    }\n",
       "</style>\n",
       "<table border=\"1\" class=\"dataframe\">\n",
       "  <thead>\n",
       "    <tr style=\"text-align: right;\">\n",
       "      <th></th>\n",
       "      <th>event_datetime</th>\n",
       "      <th>event</th>\n",
       "      <th>building_type</th>\n",
       "      <th>user_id</th>\n",
       "      <th>project_type</th>\n",
       "      <th>source</th>\n",
       "      <th>event_first</th>\n",
       "    </tr>\n",
       "  </thead>\n",
       "  <tbody>\n",
       "    <tr>\n",
       "      <th>0</th>\n",
       "      <td>2020-05-04 00:00:01</td>\n",
       "      <td>building</td>\n",
       "      <td>assembly_shop</td>\n",
       "      <td>55e92310-cb8e-4754-b622-597e124b03de</td>\n",
       "      <td>unknown</td>\n",
       "      <td>youtube_channel_reklama</td>\n",
       "      <td>2020-05-04</td>\n",
       "    </tr>\n",
       "    <tr>\n",
       "      <th>1</th>\n",
       "      <td>2020-05-04 00:00:03</td>\n",
       "      <td>building</td>\n",
       "      <td>assembly_shop</td>\n",
       "      <td>c07b1c10-f477-44dc-81dc-ec82254b1347</td>\n",
       "      <td>unknown</td>\n",
       "      <td>facebook_ads</td>\n",
       "      <td>2020-05-04</td>\n",
       "    </tr>\n",
       "    <tr>\n",
       "      <th>2</th>\n",
       "      <td>2020-05-04 00:00:16</td>\n",
       "      <td>building</td>\n",
       "      <td>assembly_shop</td>\n",
       "      <td>6edd42cc-e753-4ff6-a947-2107cd560710</td>\n",
       "      <td>unknown</td>\n",
       "      <td>instagram_new_adverts</td>\n",
       "      <td>2020-05-04</td>\n",
       "    </tr>\n",
       "    <tr>\n",
       "      <th>3</th>\n",
       "      <td>2020-05-04 00:00:16</td>\n",
       "      <td>building</td>\n",
       "      <td>assembly_shop</td>\n",
       "      <td>92c69003-d60a-444a-827f-8cc51bf6bf4c</td>\n",
       "      <td>unknown</td>\n",
       "      <td>facebook_ads</td>\n",
       "      <td>2020-05-04</td>\n",
       "    </tr>\n",
       "    <tr>\n",
       "      <th>4</th>\n",
       "      <td>2020-05-04 00:00:35</td>\n",
       "      <td>building</td>\n",
       "      <td>assembly_shop</td>\n",
       "      <td>cdc6bb92-0ccb-4490-9866-ef142f09139d</td>\n",
       "      <td>unknown</td>\n",
       "      <td>yandex_direct</td>\n",
       "      <td>2020-05-04</td>\n",
       "    </tr>\n",
       "  </tbody>\n",
       "</table>\n",
       "</div>"
      ],
      "text/plain": [
       "       event_datetime     event  building_type  \\\n",
       "0 2020-05-04 00:00:01  building  assembly_shop   \n",
       "1 2020-05-04 00:00:03  building  assembly_shop   \n",
       "2 2020-05-04 00:00:16  building  assembly_shop   \n",
       "3 2020-05-04 00:00:16  building  assembly_shop   \n",
       "4 2020-05-04 00:00:35  building  assembly_shop   \n",
       "\n",
       "                                user_id project_type                   source  \\\n",
       "0  55e92310-cb8e-4754-b622-597e124b03de      unknown  youtube_channel_reklama   \n",
       "1  c07b1c10-f477-44dc-81dc-ec82254b1347      unknown             facebook_ads   \n",
       "2  6edd42cc-e753-4ff6-a947-2107cd560710      unknown    instagram_new_adverts   \n",
       "3  92c69003-d60a-444a-827f-8cc51bf6bf4c      unknown             facebook_ads   \n",
       "4  cdc6bb92-0ccb-4490-9866-ef142f09139d      unknown            yandex_direct   \n",
       "\n",
       "  event_first  \n",
       "0  2020-05-04  \n",
       "1  2020-05-04  \n",
       "2  2020-05-04  \n",
       "3  2020-05-04  \n",
       "4  2020-05-04  "
      ]
     },
     "execution_count": 463,
     "metadata": {},
     "output_type": "execute_result"
    }
   ],
   "source": [
    "game_actions.head()"
   ]
  },
  {
   "cell_type": "markdown",
   "id": "3d26b52a",
   "metadata": {},
   "source": [
    "Рассмотрим сколько пользователей пришло в игру из источников в разрезе времени"
   ]
  },
  {
   "cell_type": "code",
   "execution_count": 464,
   "id": "620abb54",
   "metadata": {
    "scrolled": false
   },
   "outputs": [
    {
     "data": {
      "text/html": [
       "<style  type=\"text/css\" >\n",
       "#T_fe596_row0_col0,#T_fe596_row0_col1,#T_fe596_row0_col2,#T_fe596_row0_col3{\n",
       "            background-color:  yellowgreen;\n",
       "        }</style><table id=\"T_fe596_\" ><thead>    <tr>        <th class=\"index_name level0\" >source</th>        <th class=\"col_heading level0 col0\" >facebook_ads</th>        <th class=\"col_heading level0 col1\" >instagram_new_adverts</th>        <th class=\"col_heading level0 col2\" >yandex_direct</th>        <th class=\"col_heading level0 col3\" >youtube_channel_reklama</th>    </tr>    <tr>        <th class=\"index_name level0\" >event_first</th>        <th class=\"blank\" ></th>        <th class=\"blank\" ></th>        <th class=\"blank\" ></th>        <th class=\"blank\" ></th>    </tr></thead><tbody>\n",
       "                <tr>\n",
       "                        <th id=\"T_fe596_level0_row0\" class=\"row_heading level0 row0\" >2020-05-04</th>\n",
       "                        <td id=\"T_fe596_row0_col0\" class=\"data row0 col0\" >1184</td>\n",
       "                        <td id=\"T_fe596_row0_col1\" class=\"data row0 col1\" >1452</td>\n",
       "                        <td id=\"T_fe596_row0_col2\" class=\"data row0 col2\" >2078</td>\n",
       "                        <td id=\"T_fe596_row0_col3\" class=\"data row0 col3\" >1146</td>\n",
       "            </tr>\n",
       "            <tr>\n",
       "                        <th id=\"T_fe596_level0_row1\" class=\"row_heading level0 row1\" >2020-05-05</th>\n",
       "                        <td id=\"T_fe596_row1_col0\" class=\"data row1 col0\" >694</td>\n",
       "                        <td id=\"T_fe596_row1_col1\" class=\"data row1 col1\" >796</td>\n",
       "                        <td id=\"T_fe596_row1_col2\" class=\"data row1 col2\" >1208</td>\n",
       "                        <td id=\"T_fe596_row1_col3\" class=\"data row1 col3\" >663</td>\n",
       "            </tr>\n",
       "            <tr>\n",
       "                        <th id=\"T_fe596_level0_row2\" class=\"row_heading level0 row2\" >2020-05-06</th>\n",
       "                        <td id=\"T_fe596_row2_col0\" class=\"data row2 col0\" >345</td>\n",
       "                        <td id=\"T_fe596_row2_col1\" class=\"data row2 col1\" >472</td>\n",
       "                        <td id=\"T_fe596_row2_col2\" class=\"data row2 col2\" >664</td>\n",
       "                        <td id=\"T_fe596_row2_col3\" class=\"data row2 col3\" >366</td>\n",
       "            </tr>\n",
       "            <tr>\n",
       "                        <th id=\"T_fe596_level0_row3\" class=\"row_heading level0 row3\" >2020-05-07</th>\n",
       "                        <td id=\"T_fe596_row3_col0\" class=\"data row3 col0\" >224</td>\n",
       "                        <td id=\"T_fe596_row3_col1\" class=\"data row3 col1\" >270</td>\n",
       "                        <td id=\"T_fe596_row3_col2\" class=\"data row3 col2\" >395</td>\n",
       "                        <td id=\"T_fe596_row3_col3\" class=\"data row3 col3\" >220</td>\n",
       "            </tr>\n",
       "            <tr>\n",
       "                        <th id=\"T_fe596_level0_row4\" class=\"row_heading level0 row4\" >2020-05-08</th>\n",
       "                        <td id=\"T_fe596_row4_col0\" class=\"data row4 col0\" >139</td>\n",
       "                        <td id=\"T_fe596_row4_col1\" class=\"data row4 col1\" >175</td>\n",
       "                        <td id=\"T_fe596_row4_col2\" class=\"data row4 col2\" >239</td>\n",
       "                        <td id=\"T_fe596_row4_col3\" class=\"data row4 col3\" >135</td>\n",
       "            </tr>\n",
       "            <tr>\n",
       "                        <th id=\"T_fe596_level0_row5\" class=\"row_heading level0 row5\" >2020-05-09</th>\n",
       "                        <td id=\"T_fe596_row5_col0\" class=\"data row5 col0\" >84</td>\n",
       "                        <td id=\"T_fe596_row5_col1\" class=\"data row5 col1\" >112</td>\n",
       "                        <td id=\"T_fe596_row5_col2\" class=\"data row5 col2\" >144</td>\n",
       "                        <td id=\"T_fe596_row5_col3\" class=\"data row5 col3\" >100</td>\n",
       "            </tr>\n",
       "            <tr>\n",
       "                        <th id=\"T_fe596_level0_row6\" class=\"row_heading level0 row6\" >2020-05-10</th>\n",
       "                        <td id=\"T_fe596_row6_col0\" class=\"data row6 col0\" >56</td>\n",
       "                        <td id=\"T_fe596_row6_col1\" class=\"data row6 col1\" >70</td>\n",
       "                        <td id=\"T_fe596_row6_col2\" class=\"data row6 col2\" >89</td>\n",
       "                        <td id=\"T_fe596_row6_col3\" class=\"data row6 col3\" >56</td>\n",
       "            </tr>\n",
       "    </tbody></table>"
      ],
      "text/plain": [
       "<pandas.io.formats.style.Styler at 0x7f7a4c29ff40>"
      ]
     },
     "execution_count": 464,
     "metadata": {},
     "output_type": "execute_result"
    }
   ],
   "source": [
    "\n",
    "#строим сводную таблицу для наглядности\n",
    "\n",
    "cnt_user_game_pivot=game_actions.pivot_table(index='event_first', columns='source', values='user_id', aggfunc='nunique')\n",
    "numeric_columns =cnt_user_game_pivot.columns #создаем список столбцов, которые мы хотим видеть при подсвечивании\n",
    "cnt_user_game_pivot_visual=cnt_user_game_pivot.style.highlight_max(color='yellowgreen', subset=numeric_columns) #подсвечиваем максимальное количество пользователей\n",
    "cnt_user_game_pivot_visual"
   ]
  },
  {
   "cell_type": "markdown",
   "id": "f12ada86",
   "metadata": {},
   "source": [
    "Визуализируем данные"
   ]
  },
  {
   "cell_type": "code",
   "execution_count": 465,
   "id": "36786ec1",
   "metadata": {
    "scrolled": false
   },
   "outputs": [
    {
     "data": {
      "image/png": "[encoded data removed]",
      "text/plain": [
       "<Figure size 720x576 with 1 Axes>"
      ]
     },
     "metadata": {},
     "output_type": "display_data"
    }
   ],
   "source": [
    "plt.figure(figsize=(10, 8))\n",
    "plt.title(\"Источники по кол-ву приведенных пользователей в разрезе времени\", fontsize=10)\n",
    "#для визуализации сгруппируем данные и посчитаем количество уникальных пользователей\n",
    "ax=game_actions.groupby(['event_first', 'source'], as_index=False).agg(cnt_user=('user_id','nunique'))\n",
    "\n",
    "#строим столбчатую диаграму\n",
    "sns.barplot(x='event_first', y='cnt_user', hue='source',palette='hls', data=ax)\n",
    "plt.xticks(rotation=50)\n",
    "plt.show()"
   ]
  },
  {
   "cell_type": "markdown",
   "id": "5eebcebf",
   "metadata": {},
   "source": [
    "Рассмотрим динамику привлечения новых пользователей из Источников."
   ]
  },
  {
   "cell_type": "code",
   "execution_count": 466,
   "id": "f567f286",
   "metadata": {
    "scrolled": true
   },
   "outputs": [
    {
     "data": {
      "image/png": "[encoded data removed]",
      "text/plain": [
       "<Figure size 576x360 with 1 Axes>"
      ]
     },
     "metadata": {},
     "output_type": "display_data"
    }
   ],
   "source": [
    "cnt_user_game_pivot.plot(style='o-', figsize=(8, 5), grid=True)\n",
    "plt.title(\"Динамика подключений новых пользователей по каналам привлечения всех источников\")\n",
    "plt.show()"
   ]
  },
  {
   "cell_type": "markdown",
   "id": "b78ee586",
   "metadata": {},
   "source": [
    "`Выводы:`  \n",
    "На протяжении всего времени замечено снижение количества преходов пользователей в игру из источников.  \n",
    "4 мая - пиковое значение прихода новых пользователей в игру из источников.  Источник yandex показвает лучшие результаты, чем остальные.  \n",
    "Например за 4 и 5 мая yandex привел на 30% больше пользователей, чем instsgram."
   ]
  },
  {
   "cell_type": "markdown",
   "id": "9e7ff0d3",
   "metadata": {},
   "source": [
    "### Анализ затраченого времени на прохождение первого уровня"
   ]
  },
  {
   "cell_type": "markdown",
   "id": "9c3b145d",
   "metadata": {},
   "source": [
    "Интересно посмотреть, какой процент игроков от общего числа игроков завершают первый уровень."
   ]
  },
  {
   "cell_type": "code",
   "execution_count": 467,
   "id": "b0849553",
   "metadata": {},
   "outputs": [
    {
     "data": {
      "text/html": [
       "<div>\n",
       "<style scoped>\n",
       "    .dataframe tbody tr th:only-of-type {\n",
       "        vertical-align: middle;\n",
       "    }\n",
       "\n",
       "    .dataframe tbody tr th {\n",
       "        vertical-align: top;\n",
       "    }\n",
       "\n",
       "    .dataframe thead th {\n",
       "        text-align: right;\n",
       "    }\n",
       "</style>\n",
       "<table border=\"1\" class=\"dataframe\">\n",
       "  <thead>\n",
       "    <tr style=\"text-align: right;\">\n",
       "      <th></th>\n",
       "      <th>cnt_user</th>\n",
       "      <th>cnv_user</th>\n",
       "    </tr>\n",
       "    <tr>\n",
       "      <th>event</th>\n",
       "      <th></th>\n",
       "      <th></th>\n",
       "    </tr>\n",
       "  </thead>\n",
       "  <tbody>\n",
       "    <tr>\n",
       "      <th>building</th>\n",
       "      <td>127957</td>\n",
       "      <td>0.94</td>\n",
       "    </tr>\n",
       "    <tr>\n",
       "      <th>finished_stage_1</th>\n",
       "      <td>5817</td>\n",
       "      <td>0.04</td>\n",
       "    </tr>\n",
       "    <tr>\n",
       "      <th>project</th>\n",
       "      <td>1866</td>\n",
       "      <td>0.01</td>\n",
       "    </tr>\n",
       "  </tbody>\n",
       "</table>\n",
       "</div>"
      ],
      "text/plain": [
       "                  cnt_user  cnv_user\n",
       "event                               \n",
       "building            127957      0.94\n",
       "finished_stage_1      5817      0.04\n",
       "project               1866      0.01"
      ]
     },
     "execution_count": 467,
     "metadata": {},
     "output_type": "execute_result"
    }
   ],
   "source": [
    "#групперуем по событию \n",
    "cnv_enent=game_actions.groupby('event', as_index=True).agg(cnt_user=('user_id', 'count'))\n",
    "#найдем конверсию от общего числа пользователей\n",
    "cnv_enent['cnv_user']=cnv_enent['cnt_user']/cnv_enent['cnt_user'].sum()     \n",
    "#окгрулим данные\n",
    "cnv_enent['cnv_user']=cnv_enent['cnv_user'].round(2)\n",
    "cnv_enent"
   ]
  },
  {
   "cell_type": "markdown",
   "id": "3eb5330b",
   "metadata": {},
   "source": [
    "`Выводы:`  \n",
    "Всего около 4% пользователей завершают первый уровень, 1% делает проект.  То что пользователь завершил проект еще не значит, что он перешел на следующий уровень. В рамках этого анализа будем рассматривать только тех пользователей, которые совершили событие \"finished_stage_1\"."
   ]
  },
  {
   "cell_type": "markdown",
   "id": "4b1d9fc1",
   "metadata": {},
   "source": [
    "Рассмотрим сколько в среднем времени пользователи тратят на игру.  \n",
    "За отрезок времени будем считать начало пользование игрой и прохождение первого уровня.  Соберем данные в отдельный датасет."
   ]
  },
  {
   "cell_type": "code",
   "execution_count": 468,
   "id": "54fca8c7",
   "metadata": {},
   "outputs": [
    {
     "data": {
      "text/html": [
       "<div>\n",
       "<style scoped>\n",
       "    .dataframe tbody tr th:only-of-type {\n",
       "        vertical-align: middle;\n",
       "    }\n",
       "\n",
       "    .dataframe tbody tr th {\n",
       "        vertical-align: top;\n",
       "    }\n",
       "\n",
       "    .dataframe thead th {\n",
       "        text-align: right;\n",
       "    }\n",
       "</style>\n",
       "<table border=\"1\" class=\"dataframe\">\n",
       "  <thead>\n",
       "    <tr style=\"text-align: right;\">\n",
       "      <th></th>\n",
       "      <th>interval</th>\n",
       "    </tr>\n",
       "  </thead>\n",
       "  <tbody>\n",
       "    <tr>\n",
       "      <th>count</th>\n",
       "      <td>5817.00</td>\n",
       "    </tr>\n",
       "    <tr>\n",
       "      <th>mean</th>\n",
       "      <td>11.81</td>\n",
       "    </tr>\n",
       "    <tr>\n",
       "      <th>std</th>\n",
       "      <td>4.08</td>\n",
       "    </tr>\n",
       "    <tr>\n",
       "      <th>min</th>\n",
       "      <td>0.00</td>\n",
       "    </tr>\n",
       "    <tr>\n",
       "      <th>25%</th>\n",
       "      <td>9.00</td>\n",
       "    </tr>\n",
       "    <tr>\n",
       "      <th>50%</th>\n",
       "      <td>12.00</td>\n",
       "    </tr>\n",
       "    <tr>\n",
       "      <th>75%</th>\n",
       "      <td>14.00</td>\n",
       "    </tr>\n",
       "    <tr>\n",
       "      <th>max</th>\n",
       "      <td>31.00</td>\n",
       "    </tr>\n",
       "  </tbody>\n",
       "</table>\n",
       "</div>"
      ],
      "text/plain": [
       "       interval\n",
       "count   5817.00\n",
       "mean      11.81\n",
       "std        4.08\n",
       "min        0.00\n",
       "25%        9.00\n",
       "50%       12.00\n",
       "75%       14.00\n",
       "max       31.00"
      ]
     },
     "execution_count": 468,
     "metadata": {},
     "output_type": "execute_result"
    }
   ],
   "source": [
    "#отбираем только тех пользователей, которые завершили первый уровень\n",
    "game_actions_interval=game_actions.query('event == \"finished_stage_1\"')\n",
    "#добавляем столбец с датой прохождения первого уровня(конец нашего временного отрезка)\n",
    "game_actions_interval['event_last']=game_actions_interval['event_datetime'].dt.date\n",
    "#считаем интервал, за который пользователь прошел первый уровень\n",
    "game_actions_interval['interval']=game_actions_interval['event_last']-game_actions_interval['event_first']\n",
    "\n",
    "game_actions_interval['interval']=game_actions_interval['interval'].dt.days\n",
    "\n",
    "\n",
    "game_actions_interval.describe()"
   ]
  },
  {
   "cell_type": "markdown",
   "id": "2bf22d88",
   "metadata": {},
   "source": [
    "Построим «ящик с усами» по количеству дней прохождения первого уровня."
   ]
  },
  {
   "cell_type": "code",
   "execution_count": 469,
   "id": "34b41c53",
   "metadata": {},
   "outputs": [
    {
     "data": {
      "image/png": "[encoded data removed]",
      "text/plain": [
       "<Figure size 576x576 with 1 Axes>"
      ]
     },
     "metadata": {},
     "output_type": "display_data"
    }
   ],
   "source": [
    "plt.figure(figsize=(8, 8))\n",
    "plt.title(\"Анализ интревала прохождения первого уровня\", fontsize=12)\n",
    "sns.boxplot(y='interval',palette='hls',data=game_actions_interval)\n",
    "plt.show()"
   ]
  },
  {
   "cell_type": "markdown",
   "id": "ca017a16",
   "metadata": {},
   "source": [
    "`Выводы:`  \n",
    "Исходя из визуализации данных видно, что прохождение первого уровня в тот же день и прохождение первого уровня дольше 20 дней - это частные случаи.  В основном пользователи остаются в игре и проходят первый уровень в среднем за 12 дней."
   ]
  },
  {
   "cell_type": "markdown",
   "id": "5e8e1489",
   "metadata": {},
   "source": [
    "### Анализ постройки типов зданий "
   ]
  },
  {
   "cell_type": "markdown",
   "id": "f1b3c658",
   "metadata": {},
   "source": [
    "Рассмотрим, какие типы зданий строят чаще, а также какой процент от общийх построек составляют постройки отдельных типов зданий."
   ]
  },
  {
   "cell_type": "code",
   "execution_count": 470,
   "id": "99b54783",
   "metadata": {},
   "outputs": [
    {
     "data": {
      "text/html": [
       "<div>\n",
       "<style scoped>\n",
       "    .dataframe tbody tr th:only-of-type {\n",
       "        vertical-align: middle;\n",
       "    }\n",
       "\n",
       "    .dataframe tbody tr th {\n",
       "        vertical-align: top;\n",
       "    }\n",
       "\n",
       "    .dataframe thead th {\n",
       "        text-align: right;\n",
       "    }\n",
       "</style>\n",
       "<table border=\"1\" class=\"dataframe\">\n",
       "  <thead>\n",
       "    <tr style=\"text-align: right;\">\n",
       "      <th></th>\n",
       "      <th>cnt_user</th>\n",
       "      <th>cnv_user</th>\n",
       "    </tr>\n",
       "    <tr>\n",
       "      <th>building_type</th>\n",
       "      <th></th>\n",
       "      <th></th>\n",
       "    </tr>\n",
       "  </thead>\n",
       "  <tbody>\n",
       "    <tr>\n",
       "      <th>spaceport</th>\n",
       "      <td>59325</td>\n",
       "      <td>0.46</td>\n",
       "    </tr>\n",
       "    <tr>\n",
       "      <th>assembly_shop</th>\n",
       "      <td>54494</td>\n",
       "      <td>0.43</td>\n",
       "    </tr>\n",
       "    <tr>\n",
       "      <th>research_center</th>\n",
       "      <td>14138</td>\n",
       "      <td>0.11</td>\n",
       "    </tr>\n",
       "  </tbody>\n",
       "</table>\n",
       "</div>"
      ],
      "text/plain": [
       "                 cnt_user  cnv_user\n",
       "building_type                      \n",
       "spaceport           59325      0.46\n",
       "assembly_shop       54494      0.43\n",
       "research_center     14138      0.11"
      ]
     },
     "execution_count": 470,
     "metadata": {},
     "output_type": "execute_result"
    }
   ],
   "source": [
    "#сгрупперуем по типу постройки \n",
    "cnv_building=game_actions.groupby('building_type', as_index=True).agg(cnt_user=('user_id', 'count')).sort_values(by='cnt_user', ascending=False)\n",
    "#найдем конверсию от общего числа построек\n",
    "cnv_building['cnv_user']=cnv_building['cnt_user']/cnv_building['cnt_user'].sum()     \n",
    "#округлим значения\n",
    "cnv_building['cnv_user']=cnv_building['cnv_user'].round(2)\n",
    "cnv_building"
   ]
  },
  {
   "cell_type": "code",
   "execution_count": 471,
   "id": "ea1ced67",
   "metadata": {},
   "outputs": [
    {
     "data": {
      "image/png": "[encoded data removed]",
      "text/plain": [
       "<Figure size 576x576 with 1 Axes>"
      ]
     },
     "metadata": {},
     "output_type": "display_data"
    }
   ],
   "source": [
    "#визуализиурем данные, строим гистограмму\n",
    "plt.figure(figsize=(8, 8))\n",
    "plt.title(\"Количество построек за все время\", fontsize=12)\n",
    "sns.barplot(y='building_type',x='cnt_user',color='skyblue', data=cnv_building.reset_index())\n",
    "plt.show()"
   ]
  },
  {
   "cell_type": "markdown",
   "id": "0326570f",
   "metadata": {},
   "source": [
    "`Выводы:`  \n",
    "Космопорты лидируют среди построек.  \n",
    "Космопорты и сборочные цеха строят примерно в равных количествах - около 40% от общего числа построек.  \n",
    "Исследовательские центры строят намного реже - 11% от общего числа построек.  "
   ]
  },
  {
   "cell_type": "markdown",
   "id": "5b776a49",
   "metadata": {},
   "source": [
    "## Анализ влияния источника перехода в игру на поведение пользователя"
   ]
  },
  {
   "cell_type": "markdown",
   "id": "0e5f5ef3",
   "metadata": {},
   "source": [
    "### Зависит ли от источника время на завершение уровня"
   ]
  },
  {
   "cell_type": "markdown",
   "id": "fe3c34f7",
   "metadata": {},
   "source": [
    "Возможно существует зависимость между потраченным временем на прохождение игры и источником из которого пришел пользователь.  \n",
    "Ранее была построена таблица с данными интервала прохождения игры для каждого пользователя, за интревал считаем временной промежуток от первого действия в игре до завершения первого уровня."
   ]
  },
  {
   "cell_type": "markdown",
   "id": "2318bcea",
   "metadata": {},
   "source": [
    "Визуализируем данные из таблицы и рассмотрим интервал прохождения в разрезе источников."
   ]
  },
  {
   "cell_type": "code",
   "execution_count": 472,
   "id": "84c114f7",
   "metadata": {},
   "outputs": [
    {
     "data": {
      "image/png": "[encoded data removed]",
      "text/plain": [
       "<Figure size 576x576 with 1 Axes>"
      ]
     },
     "metadata": {},
     "output_type": "display_data"
    }
   ],
   "source": [
    "plt.figure(figsize=(8, 8))\n",
    "plt.title(\"Анализ интревала прохождения первого уровня в разрезе источников \", fontsize=12)\n",
    "sns.boxplot(y='interval', x='source', palette='hls',data=game_actions_interval)\n",
    "plt.show()"
   ]
  },
  {
   "cell_type": "markdown",
   "id": "0df0f3ba",
   "metadata": {},
   "source": [
    "`Выводы:`  \n",
    "Явных зависимостей вляния источноков на время прохождения игры не замечено.  \n",
    "Только один источник имеет отличное значение от остальных, пользователи, которые перешли в игру через yandex проходят ее в среднем за 11 дней, что на 1 день меньше, чем пользователи других источников."
   ]
  },
  {
   "cell_type": "markdown",
   "id": "55cafd1f",
   "metadata": {},
   "source": [
    "### Зависит ли от источника количество построек"
   ]
  },
  {
   "cell_type": "markdown",
   "id": "cff6e29f",
   "metadata": {},
   "source": [
    "Рассмотрим, есть ли зависимость между источником и количеством/типом построек. "
   ]
  },
  {
   "cell_type": "code",
   "execution_count": 473,
   "id": "65cba3fb",
   "metadata": {},
   "outputs": [
    {
     "data": {
      "text/html": [
       "<div>\n",
       "<style scoped>\n",
       "    .dataframe tbody tr th:only-of-type {\n",
       "        vertical-align: middle;\n",
       "    }\n",
       "\n",
       "    .dataframe tbody tr th {\n",
       "        vertical-align: top;\n",
       "    }\n",
       "\n",
       "    .dataframe thead th {\n",
       "        text-align: right;\n",
       "    }\n",
       "</style>\n",
       "<table border=\"1\" class=\"dataframe\">\n",
       "  <thead>\n",
       "    <tr style=\"text-align: right;\">\n",
       "      <th></th>\n",
       "      <th></th>\n",
       "      <th>cnt_user</th>\n",
       "      <th>cnv_user</th>\n",
       "    </tr>\n",
       "    <tr>\n",
       "      <th>building_type</th>\n",
       "      <th>source</th>\n",
       "      <th></th>\n",
       "      <th></th>\n",
       "    </tr>\n",
       "  </thead>\n",
       "  <tbody>\n",
       "    <tr>\n",
       "      <th rowspan=\"4\" valign=\"top\">assembly_shop</th>\n",
       "      <th>facebook_ads</th>\n",
       "      <td>11117</td>\n",
       "      <td>0.09</td>\n",
       "    </tr>\n",
       "    <tr>\n",
       "      <th>instagram_new_adverts</th>\n",
       "      <td>13431</td>\n",
       "      <td>0.10</td>\n",
       "    </tr>\n",
       "    <tr>\n",
       "      <th>yandex_direct</th>\n",
       "      <td>19295</td>\n",
       "      <td>0.15</td>\n",
       "    </tr>\n",
       "    <tr>\n",
       "      <th>youtube_channel_reklama</th>\n",
       "      <td>10651</td>\n",
       "      <td>0.08</td>\n",
       "    </tr>\n",
       "    <tr>\n",
       "      <th rowspan=\"4\" valign=\"top\">research_center</th>\n",
       "      <th>facebook_ads</th>\n",
       "      <td>2945</td>\n",
       "      <td>0.02</td>\n",
       "    </tr>\n",
       "    <tr>\n",
       "      <th>instagram_new_adverts</th>\n",
       "      <td>3537</td>\n",
       "      <td>0.03</td>\n",
       "    </tr>\n",
       "    <tr>\n",
       "      <th>yandex_direct</th>\n",
       "      <td>4952</td>\n",
       "      <td>0.04</td>\n",
       "    </tr>\n",
       "    <tr>\n",
       "      <th>youtube_channel_reklama</th>\n",
       "      <td>2704</td>\n",
       "      <td>0.02</td>\n",
       "    </tr>\n",
       "    <tr>\n",
       "      <th rowspan=\"4\" valign=\"top\">spaceport</th>\n",
       "      <th>facebook_ads</th>\n",
       "      <td>12069</td>\n",
       "      <td>0.09</td>\n",
       "    </tr>\n",
       "    <tr>\n",
       "      <th>instagram_new_adverts</th>\n",
       "      <td>14847</td>\n",
       "      <td>0.12</td>\n",
       "    </tr>\n",
       "    <tr>\n",
       "      <th>yandex_direct</th>\n",
       "      <td>20785</td>\n",
       "      <td>0.16</td>\n",
       "    </tr>\n",
       "    <tr>\n",
       "      <th>youtube_channel_reklama</th>\n",
       "      <td>11624</td>\n",
       "      <td>0.09</td>\n",
       "    </tr>\n",
       "  </tbody>\n",
       "</table>\n",
       "</div>"
      ],
      "text/plain": [
       "                                         cnt_user  cnv_user\n",
       "building_type   source                                     \n",
       "assembly_shop   facebook_ads                11117      0.09\n",
       "                instagram_new_adverts       13431      0.10\n",
       "                yandex_direct               19295      0.15\n",
       "                youtube_channel_reklama     10651      0.08\n",
       "research_center facebook_ads                 2945      0.02\n",
       "                instagram_new_adverts        3537      0.03\n",
       "                yandex_direct                4952      0.04\n",
       "                youtube_channel_reklama      2704      0.02\n",
       "spaceport       facebook_ads                12069      0.09\n",
       "                instagram_new_adverts       14847      0.12\n",
       "                yandex_direct               20785      0.16\n",
       "                youtube_channel_reklama     11624      0.09"
      ]
     },
     "execution_count": 473,
     "metadata": {},
     "output_type": "execute_result"
    }
   ],
   "source": [
    "#сгрупперуем по типу постройки \n",
    "cnv_building_source=game_actions.groupby(['building_type', 'source'], as_index=True).agg(cnt_user=('user_id', 'count'))\n",
    "#найдем конверсию от общего числа построек\n",
    "cnv_building_source['cnv_user']=cnv_building_source['cnt_user']/cnv_building_source['cnt_user'].sum()\n",
    "#окгрулим данные\n",
    "cnv_building_source['cnv_user']=cnv_building_source['cnv_user'].round(2)\n",
    "cnv_building_source"
   ]
  },
  {
   "cell_type": "code",
   "execution_count": 474,
   "id": "904d55f8",
   "metadata": {},
   "outputs": [
    {
     "data": {
      "image/png": "[encoded data removed]",
      "text/plain": [
       "<Figure size 576x576 with 1 Axes>"
      ]
     },
     "metadata": {},
     "output_type": "display_data"
    }
   ],
   "source": [
    "#визуализиурем данные, строим гистограмму\n",
    "plt.figure(figsize=(8, 8))\n",
    "plt.title(\"Доля построек за все время в разрезе источников\", fontsize=15)\n",
    "sns.barplot(x='building_type',y='cnv_user', hue='source', data=cnv_building_source.reset_index())\n",
    "plt.show()"
   ]
  },
  {
   "cell_type": "markdown",
   "id": "fc4e9fe9",
   "metadata": {},
   "source": [
    "`Выводы:`  \n",
    "Среди источников в лидерах по прежнему yandex и instagram, yandex показывает лучшие результаты.  \n",
    "Пользователи, которые перешли из источника yandex строят чаще других пользователей и отдают предпочтение типу постройки - космопорт. "
   ]
  },
  {
   "cell_type": "markdown",
   "id": "f09760b8",
   "metadata": {},
   "source": [
    "### `Выводы:`  \n",
    "Пользователи из Top-источников строят чаще и больше других пользоватлей, тип постройки космопорт либо сборочный цех.  В среднем в игре пользователь остается 11 дней."
   ]
  },
  {
   "cell_type": "markdown",
   "id": "fa127960",
   "metadata": {},
   "source": [
    "## Постановка и проверка гипотез"
   ]
  },
  {
   "cell_type": "markdown",
   "id": "dda11393",
   "metadata": {},
   "source": [
    "### Гипотеза 1\n",
    "   **Н1_0:  Время завершения уровня не различается в зависимости способа прохождения:**  \n",
    "    - через реализацию проекта,  \n",
    "    - через победу над первым игроком.\n",
    "    \n",
    "   **Н1_1:  Время завершения уровня различается в зависимости способа прохождения:**  \n",
    "    - через реализацию проекта,  \n",
    "    - через победу над первым игроком."
   ]
  },
  {
   "cell_type": "markdown",
   "id": "9142e56e",
   "metadata": {},
   "source": [
    "Предположим, что пользователи, которые завершили проект воспользовались кнопкой и завершили первый уровень.  Возьмем данные о пользователях, которые завершили проект и посчитаем их временной интервал завершения уровня.  "
   ]
  },
  {
   "cell_type": "markdown",
   "id": "c8f95146",
   "metadata": {},
   "source": [
    "Для исследования необходимо две выборки\n",
    "- пользователи, которые и завершили проект, и завершили уровень\n",
    "- пользователи, которые завершили уровень исключая тех, которые вошли в выборку с проектом\n",
    "\n",
    "Создадим список уникальных пользоватлей, которые завершили и проет, и уровень. Будем считать такого пользователя исследователем (researcher)."
   ]
  },
  {
   "cell_type": "code",
   "execution_count": 475,
   "id": "d1fc4779",
   "metadata": {},
   "outputs": [],
   "source": [
    "#список пользоватлей, которые завершили проект\n",
    "list_user_project=game_actions.query('event == \"project\"')['user_id'].unique()\n",
    "\n",
    "#список пользоватлей, которые завершили проект и перешли уровень\n",
    "list_researchers=game_actions.query('event == \"finished_stage_1\" and user_id in @list_user_project')['user_id'].unique()"
   ]
  },
  {
   "cell_type": "markdown",
   "id": "871ef634",
   "metadata": {},
   "source": [
    "Ранее таблица с найденным интрвалом завершения первого уровня была найдена, поэтому просто ее отфильтруем"
   ]
  },
  {
   "cell_type": "code",
   "execution_count": 476,
   "id": "79d52ed6",
   "metadata": {},
   "outputs": [],
   "source": [
    "#отбираем только тех пользователей, которые завершили уровень и завершили проект\n",
    "game_actions_interval_researchers=game_actions_interval.query('user_id in @list_researchers')"
   ]
  },
  {
   "cell_type": "markdown",
   "id": "92cfb2a4",
   "metadata": {},
   "source": [
    "Создадим список пользователей, которые завершили первый уровень, через победу над первым игроком, назовем их воинами (warrior)"
   ]
  },
  {
   "cell_type": "code",
   "execution_count": 477,
   "id": "dad39bf4",
   "metadata": {},
   "outputs": [
    {
     "data": {
      "text/html": [
       "<div>\n",
       "<style scoped>\n",
       "    .dataframe tbody tr th:only-of-type {\n",
       "        vertical-align: middle;\n",
       "    }\n",
       "\n",
       "    .dataframe tbody tr th {\n",
       "        vertical-align: top;\n",
       "    }\n",
       "\n",
       "    .dataframe thead th {\n",
       "        text-align: right;\n",
       "    }\n",
       "</style>\n",
       "<table border=\"1\" class=\"dataframe\">\n",
       "  <thead>\n",
       "    <tr style=\"text-align: right;\">\n",
       "      <th></th>\n",
       "      <th>event_datetime</th>\n",
       "      <th>event</th>\n",
       "      <th>building_type</th>\n",
       "      <th>user_id</th>\n",
       "      <th>project_type</th>\n",
       "      <th>source</th>\n",
       "      <th>event_first</th>\n",
       "      <th>event_last</th>\n",
       "      <th>interval</th>\n",
       "    </tr>\n",
       "  </thead>\n",
       "  <tbody>\n",
       "    <tr>\n",
       "      <th>6659</th>\n",
       "      <td>2020-05-04 19:47:29</td>\n",
       "      <td>finished_stage_1</td>\n",
       "      <td>NaN</td>\n",
       "      <td>ced7b368-818f-48f6-9461-2346de0892c5</td>\n",
       "      <td>unknown</td>\n",
       "      <td>instagram_new_adverts</td>\n",
       "      <td>2020-05-04</td>\n",
       "      <td>2020-05-04</td>\n",
       "      <td>0</td>\n",
       "    </tr>\n",
       "    <tr>\n",
       "      <th>13134</th>\n",
       "      <td>2020-05-05 13:22:09</td>\n",
       "      <td>finished_stage_1</td>\n",
       "      <td>NaN</td>\n",
       "      <td>7ef7fc89-2779-46ea-b328-9e5035b83af5</td>\n",
       "      <td>unknown</td>\n",
       "      <td>facebook_ads</td>\n",
       "      <td>2020-05-04</td>\n",
       "      <td>2020-05-05</td>\n",
       "      <td>1</td>\n",
       "    </tr>\n",
       "    <tr>\n",
       "      <th>15274</th>\n",
       "      <td>2020-05-05 18:54:37</td>\n",
       "      <td>finished_stage_1</td>\n",
       "      <td>NaN</td>\n",
       "      <td>70db22b3-c2f4-43bc-94ea-51c8d2904a29</td>\n",
       "      <td>unknown</td>\n",
       "      <td>youtube_channel_reklama</td>\n",
       "      <td>2020-05-04</td>\n",
       "      <td>2020-05-05</td>\n",
       "      <td>1</td>\n",
       "    </tr>\n",
       "    <tr>\n",
       "      <th>16284</th>\n",
       "      <td>2020-05-05 21:27:29</td>\n",
       "      <td>finished_stage_1</td>\n",
       "      <td>NaN</td>\n",
       "      <td>903fc9ef-ba97-4b12-9d5c-ac8d602fbd8b</td>\n",
       "      <td>unknown</td>\n",
       "      <td>youtube_channel_reklama</td>\n",
       "      <td>2020-05-04</td>\n",
       "      <td>2020-05-05</td>\n",
       "      <td>1</td>\n",
       "    </tr>\n",
       "    <tr>\n",
       "      <th>19650</th>\n",
       "      <td>2020-05-06 06:02:22</td>\n",
       "      <td>finished_stage_1</td>\n",
       "      <td>NaN</td>\n",
       "      <td>58e077ba-feb1-4556-a5a0-d96bd04efa39</td>\n",
       "      <td>unknown</td>\n",
       "      <td>facebook_ads</td>\n",
       "      <td>2020-05-04</td>\n",
       "      <td>2020-05-06</td>\n",
       "      <td>2</td>\n",
       "    </tr>\n",
       "  </tbody>\n",
       "</table>\n",
       "</div>"
      ],
      "text/plain": [
       "           event_datetime             event building_type  \\\n",
       "6659  2020-05-04 19:47:29  finished_stage_1           NaN   \n",
       "13134 2020-05-05 13:22:09  finished_stage_1           NaN   \n",
       "15274 2020-05-05 18:54:37  finished_stage_1           NaN   \n",
       "16284 2020-05-05 21:27:29  finished_stage_1           NaN   \n",
       "19650 2020-05-06 06:02:22  finished_stage_1           NaN   \n",
       "\n",
       "                                    user_id project_type  \\\n",
       "6659   ced7b368-818f-48f6-9461-2346de0892c5      unknown   \n",
       "13134  7ef7fc89-2779-46ea-b328-9e5035b83af5      unknown   \n",
       "15274  70db22b3-c2f4-43bc-94ea-51c8d2904a29      unknown   \n",
       "16284  903fc9ef-ba97-4b12-9d5c-ac8d602fbd8b      unknown   \n",
       "19650  58e077ba-feb1-4556-a5a0-d96bd04efa39      unknown   \n",
       "\n",
       "                        source event_first  event_last  interval  \n",
       "6659     instagram_new_adverts  2020-05-04  2020-05-04         0  \n",
       "13134             facebook_ads  2020-05-04  2020-05-05         1  \n",
       "15274  youtube_channel_reklama  2020-05-04  2020-05-05         1  \n",
       "16284  youtube_channel_reklama  2020-05-04  2020-05-05         1  \n",
       "19650             facebook_ads  2020-05-04  2020-05-06         2  "
      ]
     },
     "execution_count": 477,
     "metadata": {},
     "output_type": "execute_result"
    }
   ],
   "source": [
    "list_warriors=game_actions.query('event == \"finished_stage_1\" and user_id not in @list_user_project')['user_id'].unique()\n",
    "\n",
    "#отбираем только тех пользователей, которые завершили 1-ый уровень без завершения проекта\n",
    "game_actions_interval_warriors=game_actions_interval.query('user_id in @list_warriors')\n",
    "game_actions_interval_warriors.head()"
   ]
  },
  {
   "cell_type": "code",
   "execution_count": 478,
   "id": "b0b84592",
   "metadata": {},
   "outputs": [
    {
     "data": {
      "text/plain": [
       "1866"
      ]
     },
     "execution_count": 478,
     "metadata": {},
     "output_type": "execute_result"
    }
   ],
   "source": [
    "len(set(game_actions_interval['user_id'].unique()) & set(game_actions_interval_project['user_id']))"
   ]
  },
  {
   "cell_type": "markdown",
   "id": "c9b61749",
   "metadata": {},
   "source": [
    "Для исследования значений вероятности гипотез зададим кретический уровень статистической значимости альфа - 0.05.\n",
    "Выбираем именное это пороговое значение, потому что 5% вероятности для нас будет достаточно, чтобы принять гипотезу.\n",
    "В силу того, что нас интересует равентство двух разных совокупностей (проект, победа над игроком), то воспользуемся критическим тестом ttest_ind, это специальный метод для проверки гипотезы о равенстве среднего двух генеральных совокупностей по взятым из них выборкам."
   ]
  },
  {
   "cell_type": "code",
   "execution_count": 479,
   "id": "19288638",
   "metadata": {},
   "outputs": [
    {
     "name": "stdout",
     "output_type": "stream",
     "text": [
      "p-значение: 4.363370007994992e-96\n",
      "Отвергаем нулевую гипотезу Н1_0\n"
     ]
    }
   ],
   "source": [
    "#исследуем вероятность H1\n",
    "\n",
    "alpha = .05 # критический уровень статистической значимости\n",
    "# если p-value окажется меньше него - отвергнем гипотезу\n",
    "results = st.ttest_ind(\n",
    "    game_actions_interval_researchers['interval'], \n",
    "    game_actions_interval_warriors['interval'])\n",
    "\n",
    "print('p-значение:', results.pvalue)\n",
    "\n",
    "if results.pvalue < alpha:\n",
    "    print(\"Отвергаем нулевую гипотезу Н1_0\")\n",
    "else:\n",
    "    print(\"Не получилось отвергнуть нулевую гипотезу\") \n"
   ]
  },
  {
   "cell_type": "markdown",
   "id": "ac15e41d",
   "metadata": {},
   "source": [
    "`Вывод:`   \n",
    "По результатам t-теста отвергаем Н1_0 (*Время завершения уровня не различается в зависимости способа прохождения*) и принимаем гипотезу Н1_1:  \n",
    "*Время завершения уровня различается в зависимости способа прохождения.* \n"
   ]
  },
  {
   "cell_type": "markdown",
   "id": "8a085b33",
   "metadata": {},
   "source": [
    "### Гипотеза 2\n",
    "**Н2_0: Среднее количество построек зданий пользователей из топ-источников равна среднему количеству построек пользователей из других источников:**  \n",
    "- топ-источники по количеству пришедших пользователей  \n",
    "- топ-источники по количеству затраченных средсв  \n",
    "\n",
    "**Н2_1: Среднее количество построек зданий пользователей из топ-источников не равно среднему количеству построек пользователей из других источников**  \n",
    "- топ-источники по количеству пришедших пользователей\n",
    "- топ-источники по количеству затраченных средств"
   ]
  },
  {
   "cell_type": "markdown",
   "id": "e9a2713e",
   "metadata": {},
   "source": [
    "Для исследования значений вероятности гипотез зададим кретический уровень статистической значимости альфа - 0.05.   \n",
    "Выбираем именное это пороговое значение, потому что 5% вероятности для нас будет достаточно, чтобы принять гипотезу.  \n",
    "В силу того, что нас интересует равентство двух разных совокупностей (топ-источники, другие источники), то воспользуемся критическим тестом ttest_ind, это специальный метод для проверки гипотезы о равенстве среднего двух генеральных совокупностей по взятым из них выборкам."
   ]
  },
  {
   "cell_type": "markdown",
   "id": "73638241",
   "metadata": {},
   "source": [
    "Для анализа гипотез, необходимо подготовить выборку, в которой будут данные о количестве построек пользователями из топ-источников и из других источников"
   ]
  },
  {
   "cell_type": "code",
   "execution_count": 480,
   "id": "b137465a",
   "metadata": {},
   "outputs": [
    {
     "name": "stdout",
     "output_type": "stream",
     "text": [
      "Среднее количество построек пользователем из Top-источников: 10.0\n",
      "Среднее количество построек пользователем из других источников: 10.0\n"
     ]
    }
   ],
   "source": [
    "#выборка пользователей из топ-источников и их кол-во построек\n",
    "#срез по топ-источникам, которые мы нашли ранее, группируем по пользователям и считаем кол-во их построек\n",
    "top_source_sample=game_actions.query('source in @top2_source_attract.source').groupby('user_id', as_index=False).agg(cnt_building=('building_type','count'))\n",
    "\n",
    "\n",
    "#выборка пользователей из других источников и их кол-во построек\n",
    "#срез по другим источникам, которые не вошли в топ-источников, группируем по пользователям и считаем кол-во их построек\n",
    "other_source_sample=game_actions.query('source not in @top2_source_attract.source').groupby('user_id', as_index=False).agg(cnt_building=('building_type','count'))\n",
    "\n",
    "\n",
    "print('Среднее количество построек пользователем из Top-источников:', top_source_sample['cnt_building'].median())\n",
    "print('Среднее количество построек пользователем из других источников:', other_source_sample['cnt_building'].median())"
   ]
  },
  {
   "cell_type": "code",
   "execution_count": 481,
   "id": "07879114",
   "metadata": {},
   "outputs": [
    {
     "data": {
      "text/plain": [
       "2            yandex_direct\n",
       "1    instagram_new_adverts\n",
       "Name: source, dtype: object"
      ]
     },
     "execution_count": 481,
     "metadata": {},
     "output_type": "execute_result"
    }
   ],
   "source": [
    "top2_source_attract.source"
   ]
  },
  {
   "cell_type": "code",
   "execution_count": 482,
   "id": "f119816f",
   "metadata": {},
   "outputs": [
    {
     "name": "stdout",
     "output_type": "stream",
     "text": [
      "p-значение: 0.6477933885653402\n",
      "Не получилось отвергнуть нулевую гипотезу\n"
     ]
    }
   ],
   "source": [
    "#исследуем вероятность H2\n",
    "\n",
    "alpha = .05 # критический уровень статистической значимости\n",
    "# если p-value окажется меньше него - отвергнем гипотезу\n",
    "results = st.ttest_ind(\n",
    "    top_source_sample['cnt_building'], \n",
    "    other_source_sample['cnt_building'])\n",
    "\n",
    "print('p-значение:', results.pvalue)\n",
    "\n",
    "if results.pvalue < alpha:\n",
    "    print(\"Отвергаем нулевую гипотезу Н1_0\")\n",
    "else:\n",
    "    print(\"Не получилось отвергнуть нулевую гипотезу\") \n"
   ]
  },
  {
   "cell_type": "markdown",
   "id": "35684bee",
   "metadata": {},
   "source": [
    "`Вывод:` \n",
    "По результатам t-теста вероятность нулевой гипотезы выше 65%, поэтому нулевую гипотезу отвергнуть не удалось, остаемся в рамках нулевой гипотезы:  \n",
    "*Среднее количество построек зданий пользователей из топ-источников равна среднему количеству построек пользователей из других источников.*  \n",
    "В рамках предоставленных данных Top-источники по количеству пришедших пользователей и количеству затраченых средств совпадают и ими являются Яндекс и Инстаграм, поэтому выборка с Top-источниками была одна."
   ]
  },
  {
   "cell_type": "markdown",
   "id": "f6690ebc",
   "metadata": {},
   "source": [
    "## Метрика CAC. Стоимость привлечения пользователей из источников"
   ]
  },
  {
   "cell_type": "markdown",
   "id": "c53c9f07",
   "metadata": {},
   "source": [
    "Соберем данные для расчета в отдельную таблицу"
   ]
  },
  {
   "cell_type": "code",
   "execution_count": 483,
   "id": "eba3fdac",
   "metadata": {},
   "outputs": [],
   "source": [
    "cac_game_actions=(game_actions.groupby(['event_first', 'source'], as_index=False).agg(cnt_user=('user_id','nunique')) #считаем количество уникальных пользователей пришедших из Top-источников\n",
    "                 )\n",
    "#дату переведем в формат дат,для дальнейшего объединения по ключу\n",
    "cac_game_actions['event_first']=pd.to_datetime(\n",
    "    cac_game_actions['event_first'], format='%Y-%m-%d'\n",
    ")"
   ]
  },
  {
   "cell_type": "markdown",
   "id": "edf0e9ea",
   "metadata": {},
   "source": [
    "В силу того, что в таблице ad_cost представлены данные на следующий день, после покупки рекламы, то добавим столбец с датой увеличенной на один день это понадобится для дальнейшего объединения с таблицей."
   ]
  },
  {
   "cell_type": "code",
   "execution_count": 484,
   "id": "ad7e5d3f",
   "metadata": {
    "scrolled": true
   },
   "outputs": [
    {
     "data": {
      "text/html": [
       "<div>\n",
       "<style scoped>\n",
       "    .dataframe tbody tr th:only-of-type {\n",
       "        vertical-align: middle;\n",
       "    }\n",
       "\n",
       "    .dataframe tbody tr th {\n",
       "        vertical-align: top;\n",
       "    }\n",
       "\n",
       "    .dataframe thead th {\n",
       "        text-align: right;\n",
       "    }\n",
       "</style>\n",
       "<table border=\"1\" class=\"dataframe\">\n",
       "  <thead>\n",
       "    <tr style=\"text-align: right;\">\n",
       "      <th></th>\n",
       "      <th>source</th>\n",
       "      <th>day</th>\n",
       "      <th>cost</th>\n",
       "      <th>event_first</th>\n",
       "    </tr>\n",
       "  </thead>\n",
       "  <tbody>\n",
       "    <tr>\n",
       "      <th>0</th>\n",
       "      <td>facebook_ads</td>\n",
       "      <td>2020-05-03</td>\n",
       "      <td>935.88</td>\n",
       "      <td>2020-05-04</td>\n",
       "    </tr>\n",
       "    <tr>\n",
       "      <th>1</th>\n",
       "      <td>facebook_ads</td>\n",
       "      <td>2020-05-04</td>\n",
       "      <td>548.35</td>\n",
       "      <td>2020-05-05</td>\n",
       "    </tr>\n",
       "    <tr>\n",
       "      <th>2</th>\n",
       "      <td>facebook_ads</td>\n",
       "      <td>2020-05-05</td>\n",
       "      <td>260.19</td>\n",
       "      <td>2020-05-06</td>\n",
       "    </tr>\n",
       "    <tr>\n",
       "      <th>3</th>\n",
       "      <td>facebook_ads</td>\n",
       "      <td>2020-05-06</td>\n",
       "      <td>177.98</td>\n",
       "      <td>2020-05-07</td>\n",
       "    </tr>\n",
       "    <tr>\n",
       "      <th>4</th>\n",
       "      <td>facebook_ads</td>\n",
       "      <td>2020-05-07</td>\n",
       "      <td>111.77</td>\n",
       "      <td>2020-05-08</td>\n",
       "    </tr>\n",
       "  </tbody>\n",
       "</table>\n",
       "</div>"
      ],
      "text/plain": [
       "         source        day   cost event_first\n",
       "0  facebook_ads 2020-05-03 935.88  2020-05-04\n",
       "1  facebook_ads 2020-05-04 548.35  2020-05-05\n",
       "2  facebook_ads 2020-05-05 260.19  2020-05-06\n",
       "3  facebook_ads 2020-05-06 177.98  2020-05-07\n",
       "4  facebook_ads 2020-05-07 111.77  2020-05-08"
      ]
     },
     "metadata": {},
     "output_type": "display_data"
    }
   ],
   "source": [
    "#добавляем один день с помощью DateOffset\n",
    "ad_cost['event_first']=ad_cost['day']+pd.DateOffset(days=1)\n",
    "display(ad_cost.head())\n",
    "\n",
    "#добавим в таблицу cac_game_actions данные о сумме затрат на рекламу. Объединим таблицы по источнику и дате\n",
    "\n",
    "cac_game_actions=pd.merge(cac_game_actions, ad_cost, how='left', on=['source','event_first'])\n",
    "cac_game_actions=cac_game_actions.drop(columns='day') \n"
   ]
  },
  {
   "cell_type": "code",
   "execution_count": 485,
   "id": "2ac179fc",
   "metadata": {
    "scrolled": false
   },
   "outputs": [
    {
     "name": "stdout",
     "output_type": "stream",
     "text": [
      "CAC источника yandex_direct: 0.46358967181408045\n",
      "CAC источника instagram_new_adverts: 0.6457847895878471\n",
      "CAC источника youtube_channel_reklama: 0.3976616544283533\n",
      "CAC источника facebook_ads: 0.7853648727492721\n",
      "\n",
      "Показатели CAC в разрезе времени\n"
     ]
    },
    {
     "data": {
      "text/html": [
       "<div>\n",
       "<style scoped>\n",
       "    .dataframe tbody tr th:only-of-type {\n",
       "        vertical-align: middle;\n",
       "    }\n",
       "\n",
       "    .dataframe tbody tr th {\n",
       "        vertical-align: top;\n",
       "    }\n",
       "\n",
       "    .dataframe thead th {\n",
       "        text-align: right;\n",
       "    }\n",
       "</style>\n",
       "<table border=\"1\" class=\"dataframe\">\n",
       "  <thead>\n",
       "    <tr style=\"text-align: right;\">\n",
       "      <th></th>\n",
       "      <th>event_first</th>\n",
       "      <th>source</th>\n",
       "      <th>cnt_user</th>\n",
       "      <th>cost</th>\n",
       "      <th>cac</th>\n",
       "    </tr>\n",
       "  </thead>\n",
       "  <tbody>\n",
       "    <tr>\n",
       "      <th>0</th>\n",
       "      <td>2020-05-04</td>\n",
       "      <td>facebook_ads</td>\n",
       "      <td>1184</td>\n",
       "      <td>935.88</td>\n",
       "      <td>0.79</td>\n",
       "    </tr>\n",
       "    <tr>\n",
       "      <th>1</th>\n",
       "      <td>2020-05-04</td>\n",
       "      <td>instagram_new_adverts</td>\n",
       "      <td>1452</td>\n",
       "      <td>943.20</td>\n",
       "      <td>0.65</td>\n",
       "    </tr>\n",
       "    <tr>\n",
       "      <th>2</th>\n",
       "      <td>2020-05-04</td>\n",
       "      <td>yandex_direct</td>\n",
       "      <td>2078</td>\n",
       "      <td>969.14</td>\n",
       "      <td>0.47</td>\n",
       "    </tr>\n",
       "    <tr>\n",
       "      <th>3</th>\n",
       "      <td>2020-05-04</td>\n",
       "      <td>youtube_channel_reklama</td>\n",
       "      <td>1146</td>\n",
       "      <td>454.22</td>\n",
       "      <td>0.40</td>\n",
       "    </tr>\n",
       "    <tr>\n",
       "      <th>4</th>\n",
       "      <td>2020-05-05</td>\n",
       "      <td>facebook_ads</td>\n",
       "      <td>694</td>\n",
       "      <td>548.35</td>\n",
       "      <td>0.79</td>\n",
       "    </tr>\n",
       "  </tbody>\n",
       "</table>\n",
       "</div>"
      ],
      "text/plain": [
       "  event_first                   source  cnt_user   cost  cac\n",
       "0  2020-05-04             facebook_ads      1184 935.88 0.79\n",
       "1  2020-05-04    instagram_new_adverts      1452 943.20 0.65\n",
       "2  2020-05-04            yandex_direct      2078 969.14 0.47\n",
       "3  2020-05-04  youtube_channel_reklama      1146 454.22 0.40\n",
       "4  2020-05-05             facebook_ads       694 548.35 0.79"
      ]
     },
     "metadata": {},
     "output_type": "display_data"
    }
   ],
   "source": [
    "#рассчитаем CAC стоимость привлечения пользователей по каналам привлечения\n",
    "cac_game_actions['cac']=cac_game_actions['cost']/cac_game_actions['cnt_user']\n",
    "#для дальшейней визуализации уберем время\n",
    "cac_game_actions['event_first']=cac_game_actions['event_first'].dt.date\n",
    "\n",
    "print('CAC источника yandex_direct:', cac_game_actions.query('source == \"yandex_direct\"')['cost'].sum()/cac_game_actions.query('source == \"yandex_direct\"')['cnt_user'].sum())\n",
    "print('CAC источника instagram_new_adverts:', cac_game_actions.query('source == \"instagram_new_adverts\"')['cost'].sum()/cac_game_actions.query('source == \"instagram_new_adverts\"')['cnt_user'].sum())\n",
    "print('CAC источника youtube_channel_reklama:', cac_game_actions.query('source == \"youtube_channel_reklama\"')['cost'].sum()/cac_game_actions.query('source == \"youtube_channel_reklama\"')['cnt_user'].sum())\n",
    "print('CAC источника facebook_ads:', cac_game_actions.query('source == \"facebook_ads\"')['cost'].sum()/cac_game_actions.query('source == \"facebook_ads\"')['cnt_user'].sum())\n",
    "print('')\n",
    "print('Показатели CAC в разрезе времени')\n",
    "display(cac_game_actions.head(4))"
   ]
  },
  {
   "cell_type": "code",
   "execution_count": 486,
   "id": "37fde78e",
   "metadata": {},
   "outputs": [
    {
     "data": {
      "image/png": "[encoded data removed]",
      "text/plain": [
       "<Figure size 720x360 with 1 Axes>"
      ]
     },
     "metadata": {},
     "output_type": "display_data"
    }
   ],
   "source": [
    "#визуализиурем данные, строим гистограмму\n",
    "plt.figure(figsize=(10, 5))\n",
    "plt.title(\"CAC стоимость привлечения новых пользователей в разрезе времени\", fontsize=12)\n",
    "sns.barplot(x='event_first',y='cac', hue='source', data=cac_game_actions)\n",
    "plt.xticks(rotation=50)\n",
    "plt.show()"
   ]
  },
  {
   "cell_type": "code",
   "execution_count": 487,
   "id": "5250f793",
   "metadata": {
    "scrolled": true
   },
   "outputs": [
    {
     "data": {
      "image/png": "[encoded data removed]",
      "text/plain": [
       "<Figure size 720x360 with 1 Axes>"
      ]
     },
     "metadata": {},
     "output_type": "display_data"
    }
   ],
   "source": [
    "cac_game_actions.pivot_table(index='event_first', columns='source', values='cac').plot(style='o-',grid=True, figsize=(10, 5))\n",
    "plt.title('Динамика затрат CAC по каналам привлечения')\n",
    "plt.show()\n"
   ]
  },
  {
   "cell_type": "markdown",
   "id": "e6d5efbc",
   "metadata": {},
   "source": [
    "`Вывод:`  \n",
    "CAC источника yandex ниже, чем у другого Top-источника, но канал ютуб обходится еще дешевле. Исходя из данных стоимость привлечения новых клиентов выгоднее через youtube.\n",
    "Стоимость привлечения пользователей возрастает у всех, кроме facebook, что означат, что каждый новый пользователь обходится дороже. Такая нестабильность замечена с 8-10 мая, возможно, это связано с праздниками и пользователи неактивно пользуются игрой, т.к. проводят время вне мессенджеров.  "
   ]
  },
  {
   "cell_type": "markdown",
   "id": "bfaa5045",
   "metadata": {},
   "source": [
    "## Метрика CR. Конверсия привлеченных пользователей из Top-источников."
   ]
  },
  {
   "cell_type": "markdown",
   "id": "c3efa629",
   "metadata": {},
   "source": [
    "Исследуем динамику доли пришедших пользователей от общего числа пользователей в разрезе источника.  \n",
    "Ранее была построена таблица с количеством новых пользователей Top-источников.  На основе этой таблицы найдем CR новых пользователей ко всем приведенным пользователям источника."
   ]
  },
  {
   "cell_type": "code",
   "execution_count": 488,
   "id": "8c1373d2",
   "metadata": {},
   "outputs": [
    {
     "data": {
      "text/html": [
       "<style  type=\"text/css\" >\n",
       "</style><table id=\"T_a0f3e_\" ><thead>    <tr>        <th class=\"index_name level0\" >source</th>        <th class=\"col_heading level0 col0\" >facebook_ads</th>        <th class=\"col_heading level0 col1\" >instagram_new_adverts</th>        <th class=\"col_heading level0 col2\" >yandex_direct</th>        <th class=\"col_heading level0 col3\" >youtube_channel_reklama</th>        <th class=\"col_heading level0 col4\" >%CR_inst</th>        <th class=\"col_heading level0 col5\" >%CR_yndx</th>    </tr>    <tr>        <th class=\"index_name level0\" >event_first</th>        <th class=\"blank\" ></th>        <th class=\"blank\" ></th>        <th class=\"blank\" ></th>        <th class=\"blank\" ></th>        <th class=\"blank\" ></th>        <th class=\"blank\" ></th>    </tr></thead><tbody>\n",
       "                <tr>\n",
       "                        <th id=\"T_a0f3e_level0_row0\" class=\"row_heading level0 row0\" >2020-05-04</th>\n",
       "                        <td id=\"T_a0f3e_row0_col0\" class=\"data row0 col0\" >1184</td>\n",
       "                        <td id=\"T_a0f3e_row0_col1\" class=\"data row0 col1\" >1452</td>\n",
       "                        <td id=\"T_a0f3e_row0_col2\" class=\"data row0 col2\" >2078</td>\n",
       "                        <td id=\"T_a0f3e_row0_col3\" class=\"data row0 col3\" >1146</td>\n",
       "                        <td id=\"T_a0f3e_row0_col4\" class=\"data row0 col4\" >43.38%</td>\n",
       "                        <td id=\"T_a0f3e_row0_col5\" class=\"data row0 col5\" >43.14%</td>\n",
       "            </tr>\n",
       "            <tr>\n",
       "                        <th id=\"T_a0f3e_level0_row1\" class=\"row_heading level0 row1\" >2020-05-05</th>\n",
       "                        <td id=\"T_a0f3e_row1_col0\" class=\"data row1 col0\" >694</td>\n",
       "                        <td id=\"T_a0f3e_row1_col1\" class=\"data row1 col1\" >796</td>\n",
       "                        <td id=\"T_a0f3e_row1_col2\" class=\"data row1 col2\" >1208</td>\n",
       "                        <td id=\"T_a0f3e_row1_col3\" class=\"data row1 col3\" >663</td>\n",
       "                        <td id=\"T_a0f3e_row1_col4\" class=\"data row1 col4\" >23.78%</td>\n",
       "                        <td id=\"T_a0f3e_row1_col5\" class=\"data row1 col5\" >25.08%</td>\n",
       "            </tr>\n",
       "            <tr>\n",
       "                        <th id=\"T_a0f3e_level0_row2\" class=\"row_heading level0 row2\" >2020-05-06</th>\n",
       "                        <td id=\"T_a0f3e_row2_col0\" class=\"data row2 col0\" >345</td>\n",
       "                        <td id=\"T_a0f3e_row2_col1\" class=\"data row2 col1\" >472</td>\n",
       "                        <td id=\"T_a0f3e_row2_col2\" class=\"data row2 col2\" >664</td>\n",
       "                        <td id=\"T_a0f3e_row2_col3\" class=\"data row2 col3\" >366</td>\n",
       "                        <td id=\"T_a0f3e_row2_col4\" class=\"data row2 col4\" >14.10%</td>\n",
       "                        <td id=\"T_a0f3e_row2_col5\" class=\"data row2 col5\" >13.78%</td>\n",
       "            </tr>\n",
       "            <tr>\n",
       "                        <th id=\"T_a0f3e_level0_row3\" class=\"row_heading level0 row3\" >2020-05-07</th>\n",
       "                        <td id=\"T_a0f3e_row3_col0\" class=\"data row3 col0\" >224</td>\n",
       "                        <td id=\"T_a0f3e_row3_col1\" class=\"data row3 col1\" >270</td>\n",
       "                        <td id=\"T_a0f3e_row3_col2\" class=\"data row3 col2\" >395</td>\n",
       "                        <td id=\"T_a0f3e_row3_col3\" class=\"data row3 col3\" >220</td>\n",
       "                        <td id=\"T_a0f3e_row3_col4\" class=\"data row3 col4\" >8.07%</td>\n",
       "                        <td id=\"T_a0f3e_row3_col5\" class=\"data row3 col5\" >8.20%</td>\n",
       "            </tr>\n",
       "            <tr>\n",
       "                        <th id=\"T_a0f3e_level0_row4\" class=\"row_heading level0 row4\" >2020-05-08</th>\n",
       "                        <td id=\"T_a0f3e_row4_col0\" class=\"data row4 col0\" >139</td>\n",
       "                        <td id=\"T_a0f3e_row4_col1\" class=\"data row4 col1\" >175</td>\n",
       "                        <td id=\"T_a0f3e_row4_col2\" class=\"data row4 col2\" >239</td>\n",
       "                        <td id=\"T_a0f3e_row4_col3\" class=\"data row4 col3\" >135</td>\n",
       "                        <td id=\"T_a0f3e_row4_col4\" class=\"data row4 col4\" >5.23%</td>\n",
       "                        <td id=\"T_a0f3e_row4_col5\" class=\"data row4 col5\" >4.96%</td>\n",
       "            </tr>\n",
       "            <tr>\n",
       "                        <th id=\"T_a0f3e_level0_row5\" class=\"row_heading level0 row5\" >2020-05-09</th>\n",
       "                        <td id=\"T_a0f3e_row5_col0\" class=\"data row5 col0\" >84</td>\n",
       "                        <td id=\"T_a0f3e_row5_col1\" class=\"data row5 col1\" >112</td>\n",
       "                        <td id=\"T_a0f3e_row5_col2\" class=\"data row5 col2\" >144</td>\n",
       "                        <td id=\"T_a0f3e_row5_col3\" class=\"data row5 col3\" >100</td>\n",
       "                        <td id=\"T_a0f3e_row5_col4\" class=\"data row5 col4\" >3.35%</td>\n",
       "                        <td id=\"T_a0f3e_row5_col5\" class=\"data row5 col5\" >2.99%</td>\n",
       "            </tr>\n",
       "            <tr>\n",
       "                        <th id=\"T_a0f3e_level0_row6\" class=\"row_heading level0 row6\" >2020-05-10</th>\n",
       "                        <td id=\"T_a0f3e_row6_col0\" class=\"data row6 col0\" >56</td>\n",
       "                        <td id=\"T_a0f3e_row6_col1\" class=\"data row6 col1\" >70</td>\n",
       "                        <td id=\"T_a0f3e_row6_col2\" class=\"data row6 col2\" >89</td>\n",
       "                        <td id=\"T_a0f3e_row6_col3\" class=\"data row6 col3\" >56</td>\n",
       "                        <td id=\"T_a0f3e_row6_col4\" class=\"data row6 col4\" >2.09%</td>\n",
       "                        <td id=\"T_a0f3e_row6_col5\" class=\"data row6 col5\" >1.85%</td>\n",
       "            </tr>\n",
       "    </tbody></table>"
      ],
      "text/plain": [
       "<pandas.io.formats.style.Styler at 0x7f7a4ce82df0>"
      ]
     },
     "execution_count": 488,
     "metadata": {},
     "output_type": "execute_result"
    }
   ],
   "source": [
    "#расчитываем CR новых пользователей к общему числу пользователей источника\n",
    "cnt_user_game_pivot['%CR_inst']=cnt_user_game_pivot['instagram_new_adverts']/cnt_user_game_pivot['instagram_new_adverts'].sum()\n",
    "#расчитываем CR новых пользователей к общему числу пользователей источника\n",
    "cnt_user_game_pivot['%CR_yndx']=cnt_user_game_pivot['yandex_direct']/cnt_user_game_pivot['yandex_direct'].sum()\n",
    "#переводим значения в %\n",
    "cnt_user_game_pivot.style.format({'%CR_inst': '{:.2%}', '%CR_yndx': '{:.2%}'})"
   ]
  },
  {
   "cell_type": "markdown",
   "id": "03e560ee",
   "metadata": {},
   "source": [
    "Визуализируем динамику количества новых пользователей из Top-источников"
   ]
  },
  {
   "cell_type": "code",
   "execution_count": 489,
   "id": "7ab9bafc",
   "metadata": {
    "scrolled": true
   },
   "outputs": [
    {
     "data": {
      "image/png": "[encoded data removed]",
      "text/plain": [
       "<Figure size 720x360 with 1 Axes>"
      ]
     },
     "metadata": {},
     "output_type": "display_data"
    }
   ],
   "source": [
    "cnt_user_game_pivot[['instagram_new_adverts','yandex_direct']].plot(style='o-',grid=True, figsize=(10, 5))\n",
    "plt.title('Динамика подключений новых пользователей по каналам привлечения Top-источников')\n",
    "plt.show()\n"
   ]
  },
  {
   "cell_type": "markdown",
   "id": "fe6c83ce",
   "metadata": {},
   "source": [
    "`Вывод:`  \n",
    "Все источники показывают отрицательную динамику подключения новых пользователей. 4 и 5 мая самые пиковые значения по количеству прихода новых пользователей в игру.  Стоит узнать какие рекламные кампании проходили 4 и 5 числа, потому что в них пришло около 40 % пользователей от общего числа, которое привлек источник.  Причиной низкой заинтресованностью игрой могут быть праздничные дни 8-10 мая, но тогда они не могут объяснить спад 6-7 мая.  "
   ]
  },
  {
   "cell_type": "markdown",
   "id": "14c46d9b",
   "metadata": {},
   "source": [
    "## Общий вывод и рекомендации"
   ]
  },
  {
   "cell_type": "markdown",
   "id": "6d0c078f",
   "metadata": {},
   "source": [
    "`Вывод:`  \n",
    "По результатам исследования можно выделить источник привлечения пользователя - yandex_direct.   \n",
    "Стоимость привлечения пользователя ниже, чем у дригих Top-источников.  \n",
    "Яндекс привлекает большее количество пользователей, которые активно строят здания, а именно космопорты и сборочные цеха.  \n",
    "В среднем пользователи проходят первый уровень около 11 дней.   \n",
    "\n",
    "Кроме того, стоит присмотреться к каналу привлечения - youtube_channel_reklama.  \n",
    "Пользователей приходит с него на 80% меньше, чем с яндекса, но CAC пользователя самый низкий и стабильный, соотвественно затраты на маркетинг самые минимальные у этого канала.  \n",
    "\n",
    "\n",
    "`Рекомендации:`  \n",
    "- чтобы оценить активность подключения новых пользователей, возможно стоит оценивать когорту не в неделю, а в две недели. Тогда с большей вероятностью можно будет принять/отвергнуть теорию, что отрицательная динамика связана с праздничными днями.\n",
    "- для оценки затрат на маркетинг, можно добавить информацию о тарифах источнокив\n",
    "- прописывать дополнительно завершил пользователь первый уровень, елси завершен проект\n",
    "\n",
    "\n"
   ]
  }
 ],
 "metadata": {
  "ExecuteTimeLog": [
   {
    "duration": 60,
    "start_time": "2022-09-11T17:47:14.885Z"
   },
   {
    "duration": 1254,
    "start_time": "2022-09-11T17:47:32.836Z"
   },
   {
    "duration": 1129,
    "start_time": "2022-09-11T17:47:34.093Z"
   },
   {
    "duration": 0,
    "start_time": "2022-09-11T17:47:35.225Z"
   },
   {
    "duration": 0,
    "start_time": "2022-09-11T17:47:35.225Z"
   },
   {
    "duration": 0,
    "start_time": "2022-09-11T17:47:35.227Z"
   },
   {
    "duration": 0,
    "start_time": "2022-09-11T17:47:35.228Z"
   },
   {
    "duration": 0,
    "start_time": "2022-09-11T17:47:35.229Z"
   },
   {
    "duration": 0,
    "start_time": "2022-09-11T17:47:35.230Z"
   },
   {
    "duration": 0,
    "start_time": "2022-09-11T17:47:35.230Z"
   },
   {
    "duration": 0,
    "start_time": "2022-09-11T17:47:35.232Z"
   },
   {
    "duration": 0,
    "start_time": "2022-09-11T17:47:35.233Z"
   },
   {
    "duration": 0,
    "start_time": "2022-09-11T17:47:35.233Z"
   },
   {
    "duration": 0,
    "start_time": "2022-09-11T17:47:35.234Z"
   },
   {
    "duration": 0,
    "start_time": "2022-09-11T17:47:35.235Z"
   },
   {
    "duration": 0,
    "start_time": "2022-09-11T17:47:35.236Z"
   },
   {
    "duration": 0,
    "start_time": "2022-09-11T17:47:35.237Z"
   },
   {
    "duration": 0,
    "start_time": "2022-09-11T17:47:35.238Z"
   },
   {
    "duration": 0,
    "start_time": "2022-09-11T17:47:35.239Z"
   },
   {
    "duration": 0,
    "start_time": "2022-09-11T17:47:35.240Z"
   },
   {
    "duration": 0,
    "start_time": "2022-09-11T17:47:35.241Z"
   },
   {
    "duration": 0,
    "start_time": "2022-09-11T17:47:35.242Z"
   },
   {
    "duration": 0,
    "start_time": "2022-09-11T17:47:35.243Z"
   },
   {
    "duration": 0,
    "start_time": "2022-09-11T17:47:35.244Z"
   },
   {
    "duration": 0,
    "start_time": "2022-09-11T17:47:35.244Z"
   },
   {
    "duration": 0,
    "start_time": "2022-09-11T17:47:35.245Z"
   },
   {
    "duration": 0,
    "start_time": "2022-09-11T17:47:35.246Z"
   },
   {
    "duration": 0,
    "start_time": "2022-09-11T17:47:35.247Z"
   },
   {
    "duration": 0,
    "start_time": "2022-09-11T17:47:35.248Z"
   },
   {
    "duration": 0,
    "start_time": "2022-09-11T17:47:35.250Z"
   },
   {
    "duration": 0,
    "start_time": "2022-09-11T17:47:35.251Z"
   },
   {
    "duration": 0,
    "start_time": "2022-09-11T17:47:35.309Z"
   },
   {
    "duration": 0,
    "start_time": "2022-09-11T17:47:35.310Z"
   },
   {
    "duration": 0,
    "start_time": "2022-09-11T17:47:35.311Z"
   },
   {
    "duration": 0,
    "start_time": "2022-09-11T17:47:35.312Z"
   },
   {
    "duration": 0,
    "start_time": "2022-09-11T17:47:35.314Z"
   },
   {
    "duration": 0,
    "start_time": "2022-09-11T17:47:35.315Z"
   },
   {
    "duration": 0,
    "start_time": "2022-09-11T17:47:35.316Z"
   },
   {
    "duration": 0,
    "start_time": "2022-09-11T17:47:35.317Z"
   },
   {
    "duration": 0,
    "start_time": "2022-09-11T17:47:35.318Z"
   },
   {
    "duration": 0,
    "start_time": "2022-09-11T17:47:35.319Z"
   },
   {
    "duration": 0,
    "start_time": "2022-09-11T17:47:35.321Z"
   },
   {
    "duration": 1562,
    "start_time": "2022-09-12T16:38:52.159Z"
   },
   {
    "duration": 830,
    "start_time": "2022-09-12T16:38:53.724Z"
   },
   {
    "duration": 44,
    "start_time": "2022-09-12T16:38:54.556Z"
   },
   {
    "duration": 36,
    "start_time": "2022-09-12T16:38:54.621Z"
   },
   {
    "duration": 10,
    "start_time": "2022-09-12T16:38:54.659Z"
   },
   {
    "duration": 184,
    "start_time": "2022-09-12T16:38:54.670Z"
   },
   {
    "duration": 15,
    "start_time": "2022-09-12T16:38:54.855Z"
   },
   {
    "duration": 158,
    "start_time": "2022-09-12T16:38:54.872Z"
   },
   {
    "duration": 8,
    "start_time": "2022-09-12T16:38:55.031Z"
   },
   {
    "duration": 10,
    "start_time": "2022-09-12T16:38:55.040Z"
   },
   {
    "duration": 17,
    "start_time": "2022-09-12T16:38:55.051Z"
   },
   {
    "duration": 168,
    "start_time": "2022-09-12T16:38:55.070Z"
   },
   {
    "duration": 6,
    "start_time": "2022-09-12T16:38:55.239Z"
   },
   {
    "duration": 37,
    "start_time": "2022-09-12T16:38:55.248Z"
   },
   {
    "duration": 166,
    "start_time": "2022-09-12T16:38:55.287Z"
   },
   {
    "duration": 32,
    "start_time": "2022-09-12T16:38:55.454Z"
   },
   {
    "duration": 10,
    "start_time": "2022-09-12T16:38:55.487Z"
   },
   {
    "duration": 150,
    "start_time": "2022-09-12T16:38:55.498Z"
   },
   {
    "duration": 360,
    "start_time": "2022-09-12T16:38:55.650Z"
   },
   {
    "duration": 392,
    "start_time": "2022-09-12T16:38:56.012Z"
   },
   {
    "duration": 32,
    "start_time": "2022-09-12T16:38:56.405Z"
   },
   {
    "duration": 28,
    "start_time": "2022-09-12T16:38:56.439Z"
   },
   {
    "duration": 121,
    "start_time": "2022-09-12T16:38:56.468Z"
   },
   {
    "duration": 45,
    "start_time": "2022-09-12T16:38:56.591Z"
   },
   {
    "duration": 151,
    "start_time": "2022-09-12T16:38:56.637Z"
   },
   {
    "duration": 171,
    "start_time": "2022-09-12T16:38:56.790Z"
   },
   {
    "duration": 38,
    "start_time": "2022-09-12T16:38:56.963Z"
   },
   {
    "duration": 248,
    "start_time": "2022-09-12T16:38:57.003Z"
   },
   {
    "duration": 20,
    "start_time": "2022-09-12T16:38:57.253Z"
   },
   {
    "duration": 9,
    "start_time": "2022-09-12T16:38:57.274Z"
   },
   {
    "duration": 8,
    "start_time": "2022-09-12T16:38:57.285Z"
   },
   {
    "duration": 29,
    "start_time": "2022-09-12T16:38:57.295Z"
   },
   {
    "duration": 73,
    "start_time": "2022-09-12T16:38:57.326Z"
   },
   {
    "duration": 4,
    "start_time": "2022-09-12T16:38:57.401Z"
   },
   {
    "duration": 90,
    "start_time": "2022-09-12T16:38:57.421Z"
   },
   {
    "duration": 23,
    "start_time": "2022-09-12T16:38:57.513Z"
   },
   {
    "duration": 22,
    "start_time": "2022-09-12T16:38:57.538Z"
   },
   {
    "duration": 346,
    "start_time": "2022-09-12T16:38:57.561Z"
   },
   {
    "duration": 279,
    "start_time": "2022-09-12T16:38:57.910Z"
   },
   {
    "duration": 6,
    "start_time": "2022-09-12T16:38:58.191Z"
   },
   {
    "duration": 24,
    "start_time": "2022-09-12T16:38:58.202Z"
   },
   {
    "duration": 254,
    "start_time": "2022-09-12T16:38:58.227Z"
   },
   {
    "duration": 342,
    "start_time": "2022-09-12T16:38:58.483Z"
   },
   {
    "duration": 6,
    "start_time": "2022-09-12T16:39:05.025Z"
   },
   {
    "duration": 7,
    "start_time": "2022-09-12T16:39:15.667Z"
   },
   {
    "duration": 7,
    "start_time": "2022-09-12T16:39:40.573Z"
   },
   {
    "duration": 6,
    "start_time": "2022-09-12T16:40:34.917Z"
   },
   {
    "duration": 1489,
    "start_time": "2022-09-12T18:40:28.510Z"
   },
   {
    "duration": 1062,
    "start_time": "2022-09-12T18:40:30.001Z"
   },
   {
    "duration": 45,
    "start_time": "2022-09-12T18:40:31.064Z"
   },
   {
    "duration": 41,
    "start_time": "2022-09-12T18:40:31.111Z"
   },
   {
    "duration": 10,
    "start_time": "2022-09-12T18:40:31.154Z"
   },
   {
    "duration": 217,
    "start_time": "2022-09-12T18:40:31.165Z"
   },
   {
    "duration": 23,
    "start_time": "2022-09-12T18:40:31.383Z"
   },
   {
    "duration": 166,
    "start_time": "2022-09-12T18:40:31.408Z"
   },
   {
    "duration": 7,
    "start_time": "2022-09-12T18:40:31.576Z"
   },
   {
    "duration": 15,
    "start_time": "2022-09-12T18:40:31.586Z"
   },
   {
    "duration": 31,
    "start_time": "2022-09-12T18:40:31.602Z"
   },
   {
    "duration": 161,
    "start_time": "2022-09-12T18:40:31.634Z"
   },
   {
    "duration": 7,
    "start_time": "2022-09-12T18:40:31.796Z"
   },
   {
    "duration": 38,
    "start_time": "2022-09-12T18:40:31.805Z"
   },
   {
    "duration": 176,
    "start_time": "2022-09-12T18:40:31.845Z"
   },
   {
    "duration": 35,
    "start_time": "2022-09-12T18:40:32.022Z"
   },
   {
    "duration": 9,
    "start_time": "2022-09-12T18:40:32.059Z"
   },
   {
    "duration": 148,
    "start_time": "2022-09-12T18:40:32.070Z"
   },
   {
    "duration": 480,
    "start_time": "2022-09-12T18:40:32.219Z"
   },
   {
    "duration": 899,
    "start_time": "2022-09-12T18:40:32.701Z"
   },
   {
    "duration": 29,
    "start_time": "2022-09-12T18:40:33.602Z"
   },
   {
    "duration": 84,
    "start_time": "2022-09-12T18:40:33.632Z"
   },
   {
    "duration": 219,
    "start_time": "2022-09-12T18:40:33.717Z"
   },
   {
    "duration": 83,
    "start_time": "2022-09-12T18:40:33.938Z"
   },
   {
    "duration": 321,
    "start_time": "2022-09-12T18:40:34.022Z"
   },
   {
    "duration": 206,
    "start_time": "2022-09-12T18:40:34.344Z"
   },
   {
    "duration": 49,
    "start_time": "2022-09-12T18:40:34.552Z"
   },
   {
    "duration": 278,
    "start_time": "2022-09-12T18:40:34.605Z"
   },
   {
    "duration": 28,
    "start_time": "2022-09-12T18:40:34.885Z"
   },
   {
    "duration": 12,
    "start_time": "2022-09-12T18:40:34.914Z"
   },
   {
    "duration": 12,
    "start_time": "2022-09-12T18:40:34.928Z"
   },
   {
    "duration": 6,
    "start_time": "2022-09-12T18:40:34.941Z"
   },
   {
    "duration": 103,
    "start_time": "2022-09-12T18:40:34.948Z"
   },
   {
    "duration": 5,
    "start_time": "2022-09-12T18:40:35.053Z"
   },
   {
    "duration": 10,
    "start_time": "2022-09-12T18:40:35.060Z"
   },
   {
    "duration": 99,
    "start_time": "2022-09-12T18:40:35.071Z"
   },
   {
    "duration": 23,
    "start_time": "2022-09-12T18:40:35.172Z"
   },
   {
    "duration": 24,
    "start_time": "2022-09-12T18:40:35.197Z"
   },
   {
    "duration": 398,
    "start_time": "2022-09-12T18:40:35.223Z"
   },
   {
    "duration": 306,
    "start_time": "2022-09-12T18:40:35.623Z"
   },
   {
    "duration": 8,
    "start_time": "2022-09-12T18:40:35.930Z"
   },
   {
    "duration": 12,
    "start_time": "2022-09-12T18:40:35.940Z"
   },
   {
    "duration": 306,
    "start_time": "2022-09-12T18:40:35.953Z"
   },
   {
    "duration": 411,
    "start_time": "2022-09-12T18:40:36.261Z"
   },
   {
    "duration": 3,
    "start_time": "2022-09-12T19:01:10.867Z"
   },
   {
    "duration": 362,
    "start_time": "2022-09-12T19:01:10.872Z"
   },
   {
    "duration": 32,
    "start_time": "2022-09-12T19:01:11.236Z"
   },
   {
    "duration": 52,
    "start_time": "2022-09-12T19:01:11.270Z"
   },
   {
    "duration": 10,
    "start_time": "2022-09-12T19:01:11.324Z"
   },
   {
    "duration": 201,
    "start_time": "2022-09-12T19:01:11.336Z"
   },
   {
    "duration": 18,
    "start_time": "2022-09-12T19:01:11.539Z"
   },
   {
    "duration": 271,
    "start_time": "2022-09-12T19:01:11.558Z"
   },
   {
    "duration": 9,
    "start_time": "2022-09-12T19:01:11.830Z"
   },
   {
    "duration": 12,
    "start_time": "2022-09-12T19:01:11.840Z"
   },
   {
    "duration": 19,
    "start_time": "2022-09-12T19:01:11.854Z"
   },
   {
    "duration": 182,
    "start_time": "2022-09-12T19:01:11.874Z"
   },
   {
    "duration": 7,
    "start_time": "2022-09-12T19:01:12.057Z"
   },
   {
    "duration": 53,
    "start_time": "2022-09-12T19:01:12.065Z"
   },
   {
    "duration": 160,
    "start_time": "2022-09-12T19:01:12.119Z"
   },
   {
    "duration": 45,
    "start_time": "2022-09-12T19:01:12.281Z"
   },
   {
    "duration": 11,
    "start_time": "2022-09-12T19:01:12.328Z"
   },
   {
    "duration": 118,
    "start_time": "2022-09-12T19:01:12.341Z"
   },
   {
    "duration": 406,
    "start_time": "2022-09-12T19:01:12.461Z"
   },
   {
    "duration": 300,
    "start_time": "2022-09-12T19:01:12.869Z"
   },
   {
    "duration": 43,
    "start_time": "2022-09-12T19:01:13.171Z"
   },
   {
    "duration": 30,
    "start_time": "2022-09-12T19:01:13.217Z"
   },
   {
    "duration": 123,
    "start_time": "2022-09-12T19:01:13.249Z"
   },
   {
    "duration": 34,
    "start_time": "2022-09-12T19:01:13.374Z"
   },
   {
    "duration": 164,
    "start_time": "2022-09-12T19:01:13.409Z"
   },
   {
    "duration": 191,
    "start_time": "2022-09-12T19:01:13.574Z"
   },
   {
    "duration": 62,
    "start_time": "2022-09-12T19:01:13.767Z"
   },
   {
    "duration": 263,
    "start_time": "2022-09-12T19:01:13.831Z"
   },
   {
    "duration": 8,
    "start_time": "2022-09-12T19:05:25.495Z"
   },
   {
    "duration": 9,
    "start_time": "2022-09-12T19:05:32.697Z"
   },
   {
    "duration": 15,
    "start_time": "2022-09-12T19:07:42.218Z"
   },
   {
    "duration": 16,
    "start_time": "2022-09-12T19:07:51.042Z"
   },
   {
    "duration": 22,
    "start_time": "2022-09-12T19:09:13.219Z"
   },
   {
    "duration": 25,
    "start_time": "2022-09-12T19:10:26.008Z"
   },
   {
    "duration": 74,
    "start_time": "2022-09-12T19:11:36.346Z"
   },
   {
    "duration": 19,
    "start_time": "2022-09-12T19:19:49.620Z"
   },
   {
    "duration": 77,
    "start_time": "2022-09-12T19:19:53.942Z"
   },
   {
    "duration": 21,
    "start_time": "2022-09-12T19:20:31.130Z"
   },
   {
    "duration": 76,
    "start_time": "2022-09-12T19:20:33.219Z"
   },
   {
    "duration": 16,
    "start_time": "2022-09-12T19:21:48.598Z"
   },
   {
    "duration": 7,
    "start_time": "2022-09-12T19:25:24.403Z"
   },
   {
    "duration": 18,
    "start_time": "2022-09-12T19:25:39.926Z"
   },
   {
    "duration": 17,
    "start_time": "2022-09-12T19:25:45.755Z"
   },
   {
    "duration": 14,
    "start_time": "2022-09-12T19:26:44.546Z"
   },
   {
    "duration": 15,
    "start_time": "2022-09-12T19:27:08.278Z"
   },
   {
    "duration": 76,
    "start_time": "2022-09-12T19:27:20.626Z"
   },
   {
    "duration": 18,
    "start_time": "2022-09-12T19:30:12.860Z"
   },
   {
    "duration": 14,
    "start_time": "2022-09-12T19:31:51.219Z"
   },
   {
    "duration": 17,
    "start_time": "2022-09-12T19:32:05.893Z"
   },
   {
    "duration": 108,
    "start_time": "2022-09-12T19:33:29.013Z"
   },
   {
    "duration": 16,
    "start_time": "2022-09-12T19:36:14.761Z"
   },
   {
    "duration": 15,
    "start_time": "2022-09-12T19:36:33.159Z"
   },
   {
    "duration": 15,
    "start_time": "2022-09-12T19:38:23.674Z"
   },
   {
    "duration": 3,
    "start_time": "2022-09-12T19:42:51.565Z"
   },
   {
    "duration": 389,
    "start_time": "2022-09-12T19:42:51.571Z"
   },
   {
    "duration": 54,
    "start_time": "2022-09-12T19:42:51.962Z"
   },
   {
    "duration": 32,
    "start_time": "2022-09-12T19:42:52.018Z"
   },
   {
    "duration": 9,
    "start_time": "2022-09-12T19:42:52.053Z"
   },
   {
    "duration": 196,
    "start_time": "2022-09-12T19:42:52.064Z"
   },
   {
    "duration": 16,
    "start_time": "2022-09-12T19:42:52.262Z"
   },
   {
    "duration": 243,
    "start_time": "2022-09-12T19:42:52.280Z"
   },
   {
    "duration": 8,
    "start_time": "2022-09-12T19:42:52.524Z"
   },
   {
    "duration": 8,
    "start_time": "2022-09-12T19:42:52.534Z"
   },
   {
    "duration": 17,
    "start_time": "2022-09-12T19:42:52.543Z"
   },
   {
    "duration": 178,
    "start_time": "2022-09-12T19:42:52.562Z"
   },
   {
    "duration": 7,
    "start_time": "2022-09-12T19:42:52.742Z"
   },
   {
    "duration": 44,
    "start_time": "2022-09-12T19:42:52.751Z"
   },
   {
    "duration": 180,
    "start_time": "2022-09-12T19:42:52.797Z"
   },
   {
    "duration": 39,
    "start_time": "2022-09-12T19:42:52.978Z"
   },
   {
    "duration": 10,
    "start_time": "2022-09-12T19:42:53.019Z"
   },
   {
    "duration": 113,
    "start_time": "2022-09-12T19:42:53.031Z"
   },
   {
    "duration": 372,
    "start_time": "2022-09-12T19:42:53.146Z"
   },
   {
    "duration": 312,
    "start_time": "2022-09-12T19:42:53.519Z"
   },
   {
    "duration": 29,
    "start_time": "2022-09-12T19:42:53.833Z"
   },
   {
    "duration": 51,
    "start_time": "2022-09-12T19:42:53.864Z"
   },
   {
    "duration": 125,
    "start_time": "2022-09-12T19:42:53.917Z"
   },
   {
    "duration": 28,
    "start_time": "2022-09-12T19:42:54.044Z"
   },
   {
    "duration": 183,
    "start_time": "2022-09-12T19:42:54.074Z"
   },
   {
    "duration": 192,
    "start_time": "2022-09-12T19:42:54.259Z"
   },
   {
    "duration": 49,
    "start_time": "2022-09-12T19:42:54.452Z"
   },
   {
    "duration": 259,
    "start_time": "2022-09-12T19:42:54.503Z"
   },
   {
    "duration": 32,
    "start_time": "2022-09-12T19:42:54.764Z"
   },
   {
    "duration": 6,
    "start_time": "2022-09-12T19:42:54.798Z"
   },
   {
    "duration": 23,
    "start_time": "2022-09-12T19:42:54.806Z"
   },
   {
    "duration": 14,
    "start_time": "2022-09-12T19:42:54.831Z"
   },
   {
    "duration": 14,
    "start_time": "2022-09-12T19:42:54.847Z"
   },
   {
    "duration": 9,
    "start_time": "2022-09-12T19:43:18.220Z"
   },
   {
    "duration": 7,
    "start_time": "2022-09-12T19:43:31.864Z"
   },
   {
    "duration": 3,
    "start_time": "2022-09-12T19:44:46.591Z"
   },
   {
    "duration": 467,
    "start_time": "2022-09-12T19:44:46.596Z"
   },
   {
    "duration": 46,
    "start_time": "2022-09-12T19:44:47.066Z"
   },
   {
    "duration": 30,
    "start_time": "2022-09-12T19:44:47.113Z"
   },
   {
    "duration": 10,
    "start_time": "2022-09-12T19:44:47.146Z"
   },
   {
    "duration": 199,
    "start_time": "2022-09-12T19:44:47.157Z"
   },
   {
    "duration": 17,
    "start_time": "2022-09-12T19:44:47.358Z"
   },
   {
    "duration": 240,
    "start_time": "2022-09-12T19:44:47.377Z"
   },
   {
    "duration": 8,
    "start_time": "2022-09-12T19:44:47.618Z"
   },
   {
    "duration": 9,
    "start_time": "2022-09-12T19:44:47.627Z"
   },
   {
    "duration": 18,
    "start_time": "2022-09-12T19:44:47.638Z"
   },
   {
    "duration": 174,
    "start_time": "2022-09-12T19:44:47.658Z"
   },
   {
    "duration": 6,
    "start_time": "2022-09-12T19:44:47.833Z"
   },
   {
    "duration": 33,
    "start_time": "2022-09-12T19:44:47.841Z"
   },
   {
    "duration": 183,
    "start_time": "2022-09-12T19:44:47.875Z"
   },
   {
    "duration": 49,
    "start_time": "2022-09-12T19:44:48.059Z"
   },
   {
    "duration": 10,
    "start_time": "2022-09-12T19:44:48.110Z"
   },
   {
    "duration": 105,
    "start_time": "2022-09-12T19:44:48.122Z"
   },
   {
    "duration": 349,
    "start_time": "2022-09-12T19:44:48.229Z"
   },
   {
    "duration": 281,
    "start_time": "2022-09-12T19:44:48.579Z"
   },
   {
    "duration": 34,
    "start_time": "2022-09-12T19:44:48.862Z"
   },
   {
    "duration": 31,
    "start_time": "2022-09-12T19:44:48.897Z"
   },
   {
    "duration": 115,
    "start_time": "2022-09-12T19:44:48.929Z"
   },
   {
    "duration": 30,
    "start_time": "2022-09-12T19:44:49.045Z"
   },
   {
    "duration": 180,
    "start_time": "2022-09-12T19:44:49.077Z"
   },
   {
    "duration": 194,
    "start_time": "2022-09-12T19:44:49.260Z"
   },
   {
    "duration": 60,
    "start_time": "2022-09-12T19:44:49.456Z"
   },
   {
    "duration": 264,
    "start_time": "2022-09-12T19:44:49.518Z"
   },
   {
    "duration": 28,
    "start_time": "2022-09-12T19:44:49.785Z"
   },
   {
    "duration": 5,
    "start_time": "2022-09-12T19:44:49.815Z"
   },
   {
    "duration": 35,
    "start_time": "2022-09-12T19:44:49.822Z"
   },
   {
    "duration": 15,
    "start_time": "2022-09-12T19:44:49.859Z"
   },
   {
    "duration": 8,
    "start_time": "2022-09-12T19:44:49.876Z"
   },
   {
    "duration": 7,
    "start_time": "2022-09-12T19:44:49.895Z"
   },
   {
    "duration": 73,
    "start_time": "2022-09-12T19:44:49.904Z"
   },
   {
    "duration": 5,
    "start_time": "2022-09-12T19:44:49.994Z"
   },
   {
    "duration": 8,
    "start_time": "2022-09-12T19:44:50.001Z"
   },
   {
    "duration": 103,
    "start_time": "2022-09-12T19:44:50.011Z"
   },
   {
    "duration": 16,
    "start_time": "2022-09-12T19:44:50.116Z"
   },
   {
    "duration": 24,
    "start_time": "2022-09-12T19:44:50.133Z"
   },
   {
    "duration": 451,
    "start_time": "2022-09-12T19:44:50.159Z"
   },
   {
    "duration": 305,
    "start_time": "2022-09-12T19:44:50.612Z"
   },
   {
    "duration": 7,
    "start_time": "2022-09-12T19:44:50.919Z"
   },
   {
    "duration": 13,
    "start_time": "2022-09-12T19:44:50.928Z"
   },
   {
    "duration": 293,
    "start_time": "2022-09-12T19:44:50.943Z"
   },
   {
    "duration": 364,
    "start_time": "2022-09-12T19:44:51.238Z"
   },
   {
    "duration": 30,
    "start_time": "2022-09-12T19:51:11.691Z"
   },
   {
    "duration": 207,
    "start_time": "2022-09-12T19:54:56.627Z"
   },
   {
    "duration": 6,
    "start_time": "2022-09-12T19:55:11.382Z"
   },
   {
    "duration": 15,
    "start_time": "2022-09-12T19:55:15.242Z"
   },
   {
    "duration": 3,
    "start_time": "2022-09-12T19:55:31.608Z"
   },
   {
    "duration": 369,
    "start_time": "2022-09-12T19:55:31.613Z"
   },
   {
    "duration": 33,
    "start_time": "2022-09-12T19:55:31.984Z"
   },
   {
    "duration": 32,
    "start_time": "2022-09-12T19:55:32.018Z"
   },
   {
    "duration": 9,
    "start_time": "2022-09-12T19:55:32.052Z"
   },
   {
    "duration": 198,
    "start_time": "2022-09-12T19:55:32.063Z"
   },
   {
    "duration": 17,
    "start_time": "2022-09-12T19:55:32.263Z"
   },
   {
    "duration": 160,
    "start_time": "2022-09-12T19:55:32.294Z"
   },
   {
    "duration": 8,
    "start_time": "2022-09-12T19:55:32.456Z"
   },
   {
    "duration": 12,
    "start_time": "2022-09-12T19:55:32.466Z"
   },
   {
    "duration": 17,
    "start_time": "2022-09-12T19:55:32.495Z"
   },
   {
    "duration": 163,
    "start_time": "2022-09-12T19:55:32.514Z"
   },
   {
    "duration": 7,
    "start_time": "2022-09-12T19:55:32.678Z"
   },
   {
    "duration": 43,
    "start_time": "2022-09-12T19:55:32.686Z"
   },
   {
    "duration": 190,
    "start_time": "2022-09-12T19:55:32.731Z"
   },
   {
    "duration": 37,
    "start_time": "2022-09-12T19:55:32.923Z"
   },
   {
    "duration": 11,
    "start_time": "2022-09-12T19:55:32.961Z"
   },
   {
    "duration": 122,
    "start_time": "2022-09-12T19:55:32.974Z"
   },
   {
    "duration": 391,
    "start_time": "2022-09-12T19:55:33.098Z"
   },
   {
    "duration": 376,
    "start_time": "2022-09-12T19:55:33.491Z"
   },
   {
    "duration": 36,
    "start_time": "2022-09-12T19:55:33.868Z"
   },
   {
    "duration": 42,
    "start_time": "2022-09-12T19:55:33.906Z"
   },
   {
    "duration": 138,
    "start_time": "2022-09-12T19:55:33.949Z"
   },
   {
    "duration": 28,
    "start_time": "2022-09-12T19:55:34.089Z"
   },
   {
    "duration": 177,
    "start_time": "2022-09-12T19:55:34.118Z"
   },
   {
    "duration": 189,
    "start_time": "2022-09-12T19:55:34.296Z"
   },
   {
    "duration": 41,
    "start_time": "2022-09-12T19:55:34.494Z"
   },
   {
    "duration": 276,
    "start_time": "2022-09-12T19:55:34.537Z"
   },
   {
    "duration": 21,
    "start_time": "2022-09-12T19:55:34.817Z"
   },
   {
    "duration": 7,
    "start_time": "2022-09-12T19:55:34.840Z"
   },
   {
    "duration": 31,
    "start_time": "2022-09-12T19:55:34.848Z"
   },
   {
    "duration": 10,
    "start_time": "2022-09-12T19:55:34.895Z"
   },
   {
    "duration": 6,
    "start_time": "2022-09-12T19:55:34.906Z"
   },
   {
    "duration": 93,
    "start_time": "2022-09-12T19:55:34.914Z"
   },
   {
    "duration": 6,
    "start_time": "2022-09-12T19:55:35.009Z"
   },
   {
    "duration": 10,
    "start_time": "2022-09-12T19:55:35.017Z"
   },
   {
    "duration": 69,
    "start_time": "2022-09-12T19:55:35.028Z"
   },
   {
    "duration": 15,
    "start_time": "2022-09-12T19:55:35.098Z"
   },
   {
    "duration": 22,
    "start_time": "2022-09-12T19:55:35.115Z"
   },
   {
    "duration": 310,
    "start_time": "2022-09-12T19:55:35.138Z"
   },
   {
    "duration": 287,
    "start_time": "2022-09-12T19:55:35.450Z"
   },
   {
    "duration": 9,
    "start_time": "2022-09-12T19:55:35.739Z"
   },
   {
    "duration": 11,
    "start_time": "2022-09-12T19:55:35.750Z"
   },
   {
    "duration": 298,
    "start_time": "2022-09-12T19:55:35.763Z"
   },
   {
    "duration": 364,
    "start_time": "2022-09-12T19:55:36.063Z"
   },
   {
    "duration": 3,
    "start_time": "2022-09-12T19:59:44.114Z"
   },
   {
    "duration": 349,
    "start_time": "2022-09-12T19:59:44.120Z"
   },
   {
    "duration": 44,
    "start_time": "2022-09-12T19:59:44.471Z"
   },
   {
    "duration": 30,
    "start_time": "2022-09-12T19:59:44.516Z"
   },
   {
    "duration": 10,
    "start_time": "2022-09-12T19:59:44.548Z"
   },
   {
    "duration": 188,
    "start_time": "2022-09-12T19:59:44.559Z"
   },
   {
    "duration": 27,
    "start_time": "2022-09-12T19:59:44.749Z"
   },
   {
    "duration": 173,
    "start_time": "2022-09-12T19:59:44.778Z"
   },
   {
    "duration": 8,
    "start_time": "2022-09-12T19:59:44.953Z"
   },
   {
    "duration": 8,
    "start_time": "2022-09-12T19:59:44.963Z"
   },
   {
    "duration": 33,
    "start_time": "2022-09-12T19:59:44.973Z"
   },
   {
    "duration": 246,
    "start_time": "2022-09-12T19:59:45.007Z"
   },
   {
    "duration": 6,
    "start_time": "2022-09-12T19:59:45.255Z"
   },
   {
    "duration": 42,
    "start_time": "2022-09-12T19:59:45.262Z"
   },
   {
    "duration": 156,
    "start_time": "2022-09-12T19:59:45.306Z"
   },
   {
    "duration": 46,
    "start_time": "2022-09-12T19:59:45.464Z"
   },
   {
    "duration": 11,
    "start_time": "2022-09-12T19:59:45.512Z"
   },
   {
    "duration": 95,
    "start_time": "2022-09-12T19:59:45.524Z"
   },
   {
    "duration": 397,
    "start_time": "2022-09-12T19:59:45.620Z"
   },
   {
    "duration": 288,
    "start_time": "2022-09-12T19:59:46.019Z"
   },
   {
    "duration": 27,
    "start_time": "2022-09-12T19:59:46.308Z"
   },
   {
    "duration": 29,
    "start_time": "2022-09-12T19:59:46.337Z"
   },
   {
    "duration": 134,
    "start_time": "2022-09-12T19:59:46.368Z"
   },
   {
    "duration": 38,
    "start_time": "2022-09-12T19:59:46.504Z"
   },
   {
    "duration": 218,
    "start_time": "2022-09-12T19:59:46.544Z"
   },
   {
    "duration": 193,
    "start_time": "2022-09-12T19:59:46.763Z"
   },
   {
    "duration": 47,
    "start_time": "2022-09-12T19:59:46.958Z"
   },
   {
    "duration": 258,
    "start_time": "2022-09-12T19:59:47.007Z"
   },
   {
    "duration": 28,
    "start_time": "2022-09-12T19:59:47.268Z"
   },
   {
    "duration": 7,
    "start_time": "2022-09-12T19:59:47.298Z"
   },
   {
    "duration": 31,
    "start_time": "2022-09-12T19:59:47.307Z"
   },
   {
    "duration": 8,
    "start_time": "2022-09-12T19:59:47.339Z"
   },
   {
    "duration": 8,
    "start_time": "2022-09-12T19:59:47.348Z"
   },
   {
    "duration": 91,
    "start_time": "2022-09-12T19:59:47.358Z"
   },
   {
    "duration": 4,
    "start_time": "2022-09-12T19:59:47.450Z"
   },
   {
    "duration": 15,
    "start_time": "2022-09-12T19:59:47.455Z"
   },
   {
    "duration": 67,
    "start_time": "2022-09-12T19:59:47.472Z"
   },
   {
    "duration": 15,
    "start_time": "2022-09-12T19:59:47.540Z"
   },
   {
    "duration": 3,
    "start_time": "2022-09-12T19:59:49.854Z"
   },
   {
    "duration": 33,
    "start_time": "2022-09-12T19:59:52.740Z"
   },
   {
    "duration": 4,
    "start_time": "2022-09-12T20:03:34.031Z"
   },
   {
    "duration": 383,
    "start_time": "2022-09-12T20:03:34.037Z"
   },
   {
    "duration": 34,
    "start_time": "2022-09-12T20:03:34.423Z"
   },
   {
    "duration": 59,
    "start_time": "2022-09-12T20:03:34.459Z"
   },
   {
    "duration": 10,
    "start_time": "2022-09-12T20:03:34.520Z"
   },
   {
    "duration": 188,
    "start_time": "2022-09-12T20:03:34.532Z"
   },
   {
    "duration": 15,
    "start_time": "2022-09-12T20:03:34.721Z"
   },
   {
    "duration": 167,
    "start_time": "2022-09-12T20:03:34.738Z"
   },
   {
    "duration": 7,
    "start_time": "2022-09-12T20:03:34.907Z"
   },
   {
    "duration": 9,
    "start_time": "2022-09-12T20:03:34.916Z"
   },
   {
    "duration": 16,
    "start_time": "2022-09-12T20:03:34.927Z"
   },
   {
    "duration": 248,
    "start_time": "2022-09-12T20:03:34.944Z"
   },
   {
    "duration": 6,
    "start_time": "2022-09-12T20:03:35.195Z"
   },
   {
    "duration": 41,
    "start_time": "2022-09-12T20:03:35.204Z"
   },
   {
    "duration": 167,
    "start_time": "2022-09-12T20:03:35.246Z"
   },
   {
    "duration": 34,
    "start_time": "2022-09-12T20:03:35.415Z"
   },
   {
    "duration": 10,
    "start_time": "2022-09-12T20:03:35.451Z"
   },
   {
    "duration": 130,
    "start_time": "2022-09-12T20:03:35.462Z"
   },
   {
    "duration": 380,
    "start_time": "2022-09-12T20:03:35.595Z"
   },
   {
    "duration": 304,
    "start_time": "2022-09-12T20:03:35.977Z"
   },
   {
    "duration": 32,
    "start_time": "2022-09-12T20:03:36.282Z"
   },
   {
    "duration": 32,
    "start_time": "2022-09-12T20:03:36.316Z"
   },
   {
    "duration": 136,
    "start_time": "2022-09-12T20:03:36.349Z"
   },
   {
    "duration": 31,
    "start_time": "2022-09-12T20:03:36.486Z"
   },
   {
    "duration": 222,
    "start_time": "2022-09-12T20:03:36.519Z"
   },
   {
    "duration": 201,
    "start_time": "2022-09-12T20:03:36.743Z"
   },
   {
    "duration": 50,
    "start_time": "2022-09-12T20:03:36.946Z"
   },
   {
    "duration": 258,
    "start_time": "2022-09-12T20:03:36.998Z"
   },
   {
    "duration": 19,
    "start_time": "2022-09-12T20:03:37.257Z"
   },
   {
    "duration": 17,
    "start_time": "2022-09-12T20:03:37.278Z"
   },
   {
    "duration": 25,
    "start_time": "2022-09-12T20:03:37.297Z"
   },
   {
    "duration": 8,
    "start_time": "2022-09-12T20:03:37.324Z"
   },
   {
    "duration": 6,
    "start_time": "2022-09-12T20:03:37.334Z"
   },
   {
    "duration": 91,
    "start_time": "2022-09-12T20:03:37.341Z"
   },
   {
    "duration": 4,
    "start_time": "2022-09-12T20:03:37.434Z"
   },
   {
    "duration": 7,
    "start_time": "2022-09-12T20:03:37.439Z"
   },
   {
    "duration": 68,
    "start_time": "2022-09-12T20:03:37.448Z"
   },
   {
    "duration": 17,
    "start_time": "2022-09-12T20:03:37.517Z"
   },
   {
    "duration": 20,
    "start_time": "2022-09-12T20:03:37.536Z"
   },
   {
    "duration": 285,
    "start_time": "2022-09-12T20:03:37.558Z"
   },
   {
    "duration": 267,
    "start_time": "2022-09-12T20:03:37.846Z"
   },
   {
    "duration": 7,
    "start_time": "2022-09-12T20:03:38.114Z"
   },
   {
    "duration": 17,
    "start_time": "2022-09-12T20:03:38.123Z"
   },
   {
    "duration": 360,
    "start_time": "2022-09-12T20:03:38.142Z"
   },
   {
    "duration": 365,
    "start_time": "2022-09-12T20:03:38.504Z"
   },
   {
    "duration": 314,
    "start_time": "2022-09-12T20:10:15.040Z"
   },
   {
    "duration": 304,
    "start_time": "2022-09-12T20:10:37.561Z"
   },
   {
    "duration": 4,
    "start_time": "2022-09-12T20:10:41.772Z"
   },
   {
    "duration": 362,
    "start_time": "2022-09-12T20:10:41.778Z"
   },
   {
    "duration": 56,
    "start_time": "2022-09-12T20:10:42.142Z"
   },
   {
    "duration": 35,
    "start_time": "2022-09-12T20:10:42.200Z"
   },
   {
    "duration": 11,
    "start_time": "2022-09-12T20:10:42.237Z"
   },
   {
    "duration": 206,
    "start_time": "2022-09-12T20:10:42.249Z"
   },
   {
    "duration": 17,
    "start_time": "2022-09-12T20:10:42.457Z"
   },
   {
    "duration": 176,
    "start_time": "2022-09-12T20:10:42.476Z"
   },
   {
    "duration": 8,
    "start_time": "2022-09-12T20:10:42.654Z"
   },
   {
    "duration": 11,
    "start_time": "2022-09-12T20:10:42.663Z"
   },
   {
    "duration": 32,
    "start_time": "2022-09-12T20:10:42.677Z"
   },
   {
    "duration": 171,
    "start_time": "2022-09-12T20:10:42.710Z"
   },
   {
    "duration": 13,
    "start_time": "2022-09-12T20:10:42.883Z"
   },
   {
    "duration": 43,
    "start_time": "2022-09-12T20:10:42.898Z"
   },
   {
    "duration": 188,
    "start_time": "2022-09-12T20:10:42.943Z"
   },
   {
    "duration": 38,
    "start_time": "2022-09-12T20:10:43.132Z"
   },
   {
    "duration": 23,
    "start_time": "2022-09-12T20:10:43.172Z"
   },
   {
    "duration": 99,
    "start_time": "2022-09-12T20:10:43.198Z"
   },
   {
    "duration": 425,
    "start_time": "2022-09-12T20:10:43.299Z"
   },
   {
    "duration": 318,
    "start_time": "2022-09-12T20:10:43.726Z"
   },
   {
    "duration": 29,
    "start_time": "2022-09-12T20:10:44.046Z"
   },
   {
    "duration": 46,
    "start_time": "2022-09-12T20:10:44.076Z"
   },
   {
    "duration": 224,
    "start_time": "2022-09-12T20:10:44.123Z"
   },
   {
    "duration": 27,
    "start_time": "2022-09-12T20:10:44.349Z"
   },
   {
    "duration": 186,
    "start_time": "2022-09-12T20:10:44.378Z"
   },
   {
    "duration": 200,
    "start_time": "2022-09-12T20:10:44.565Z"
   },
   {
    "duration": 49,
    "start_time": "2022-09-12T20:10:44.767Z"
   },
   {
    "duration": 409,
    "start_time": "2022-09-12T20:10:44.818Z"
   },
   {
    "duration": 75,
    "start_time": "2022-09-12T20:10:45.230Z"
   },
   {
    "duration": 7,
    "start_time": "2022-09-12T20:10:45.306Z"
   },
   {
    "duration": 85,
    "start_time": "2022-09-12T20:10:45.314Z"
   },
   {
    "duration": 8,
    "start_time": "2022-09-12T20:10:45.401Z"
   },
   {
    "duration": 8,
    "start_time": "2022-09-12T20:10:45.411Z"
   },
   {
    "duration": 182,
    "start_time": "2022-09-12T20:10:45.421Z"
   },
   {
    "duration": 5,
    "start_time": "2022-09-12T20:10:45.605Z"
   },
   {
    "duration": 8,
    "start_time": "2022-09-12T20:10:45.611Z"
   },
   {
    "duration": 109,
    "start_time": "2022-09-12T20:10:45.620Z"
   },
   {
    "duration": 68,
    "start_time": "2022-09-12T20:10:45.731Z"
   },
   {
    "duration": 23,
    "start_time": "2022-09-12T20:10:45.801Z"
   },
   {
    "duration": 673,
    "start_time": "2022-09-12T20:10:45.827Z"
   },
   {
    "duration": 707,
    "start_time": "2022-09-12T20:10:46.502Z"
   },
   {
    "duration": 11,
    "start_time": "2022-09-12T20:10:47.211Z"
   },
   {
    "duration": 375,
    "start_time": "2022-09-12T20:10:47.223Z"
   },
   {
    "duration": 811,
    "start_time": "2022-09-12T20:10:47.600Z"
   },
   {
    "duration": 3,
    "start_time": "2022-09-12T20:23:04.311Z"
   },
   {
    "duration": 364,
    "start_time": "2022-09-12T20:23:04.316Z"
   },
   {
    "duration": 35,
    "start_time": "2022-09-12T20:23:04.683Z"
   },
   {
    "duration": 32,
    "start_time": "2022-09-12T20:23:04.720Z"
   },
   {
    "duration": 10,
    "start_time": "2022-09-12T20:23:04.754Z"
   },
   {
    "duration": 199,
    "start_time": "2022-09-12T20:23:04.765Z"
   },
   {
    "duration": 17,
    "start_time": "2022-09-12T20:23:04.966Z"
   },
   {
    "duration": 162,
    "start_time": "2022-09-12T20:23:04.996Z"
   },
   {
    "duration": 8,
    "start_time": "2022-09-12T20:23:05.160Z"
   },
   {
    "duration": 11,
    "start_time": "2022-09-12T20:23:05.169Z"
   },
   {
    "duration": 16,
    "start_time": "2022-09-12T20:23:05.194Z"
   },
   {
    "duration": 173,
    "start_time": "2022-09-12T20:23:05.212Z"
   },
   {
    "duration": 10,
    "start_time": "2022-09-12T20:23:05.387Z"
   },
   {
    "duration": 43,
    "start_time": "2022-09-12T20:23:05.399Z"
   },
   {
    "duration": 264,
    "start_time": "2022-09-12T20:23:05.444Z"
   },
   {
    "duration": 36,
    "start_time": "2022-09-12T20:23:05.710Z"
   },
   {
    "duration": 11,
    "start_time": "2022-09-12T20:23:05.748Z"
   },
   {
    "duration": 124,
    "start_time": "2022-09-12T20:23:05.760Z"
   },
   {
    "duration": 400,
    "start_time": "2022-09-12T20:23:05.886Z"
   },
   {
    "duration": 343,
    "start_time": "2022-09-12T20:23:06.288Z"
   },
   {
    "duration": 36,
    "start_time": "2022-09-12T20:23:06.633Z"
   },
   {
    "duration": 59,
    "start_time": "2022-09-12T20:23:06.671Z"
   },
   {
    "duration": 152,
    "start_time": "2022-09-12T20:23:06.732Z"
   },
   {
    "duration": 32,
    "start_time": "2022-09-12T20:23:06.886Z"
   },
   {
    "duration": 166,
    "start_time": "2022-09-12T20:23:06.920Z"
   },
   {
    "duration": 182,
    "start_time": "2022-09-12T20:23:07.087Z"
   },
   {
    "duration": 45,
    "start_time": "2022-09-12T20:23:07.270Z"
   },
   {
    "duration": 255,
    "start_time": "2022-09-12T20:23:07.317Z"
   },
   {
    "duration": 27,
    "start_time": "2022-09-12T20:23:07.576Z"
   },
   {
    "duration": 7,
    "start_time": "2022-09-12T20:23:07.604Z"
   },
   {
    "duration": 26,
    "start_time": "2022-09-12T20:23:07.613Z"
   },
   {
    "duration": 7,
    "start_time": "2022-09-12T20:23:07.640Z"
   },
   {
    "duration": 6,
    "start_time": "2022-09-12T20:23:07.648Z"
   },
   {
    "duration": 154,
    "start_time": "2022-09-12T20:23:07.655Z"
   },
   {
    "duration": 5,
    "start_time": "2022-09-12T20:23:07.810Z"
   },
   {
    "duration": 6,
    "start_time": "2022-09-12T20:23:07.816Z"
   },
   {
    "duration": 110,
    "start_time": "2022-09-12T20:23:07.824Z"
   },
   {
    "duration": 66,
    "start_time": "2022-09-12T20:23:07.936Z"
   },
   {
    "duration": 28,
    "start_time": "2022-09-12T20:23:08.004Z"
   },
   {
    "duration": 774,
    "start_time": "2022-09-12T20:23:08.034Z"
   },
   {
    "duration": 602,
    "start_time": "2022-09-12T20:23:08.810Z"
   },
   {
    "duration": 11,
    "start_time": "2022-09-12T20:23:09.414Z"
   },
   {
    "duration": 788,
    "start_time": "2022-09-12T20:23:09.426Z"
   },
   {
    "duration": 17,
    "start_time": "2022-09-12T20:26:13.972Z"
   },
   {
    "duration": 3,
    "start_time": "2022-09-12T20:26:33.682Z"
   },
   {
    "duration": 355,
    "start_time": "2022-09-12T20:26:33.688Z"
   },
   {
    "duration": 32,
    "start_time": "2022-09-12T20:26:34.044Z"
   },
   {
    "duration": 30,
    "start_time": "2022-09-12T20:26:34.095Z"
   },
   {
    "duration": 10,
    "start_time": "2022-09-12T20:26:34.128Z"
   },
   {
    "duration": 199,
    "start_time": "2022-09-12T20:26:34.139Z"
   },
   {
    "duration": 16,
    "start_time": "2022-09-12T20:26:34.340Z"
   },
   {
    "duration": 159,
    "start_time": "2022-09-12T20:26:34.357Z"
   },
   {
    "duration": 7,
    "start_time": "2022-09-12T20:26:34.518Z"
   },
   {
    "duration": 8,
    "start_time": "2022-09-12T20:26:34.527Z"
   },
   {
    "duration": 17,
    "start_time": "2022-09-12T20:26:34.538Z"
   },
   {
    "duration": 160,
    "start_time": "2022-09-12T20:26:34.557Z"
   },
   {
    "duration": 6,
    "start_time": "2022-09-12T20:26:34.718Z"
   },
   {
    "duration": 35,
    "start_time": "2022-09-12T20:26:34.725Z"
   },
   {
    "duration": 170,
    "start_time": "2022-09-12T20:26:34.762Z"
   },
   {
    "duration": 35,
    "start_time": "2022-09-12T20:26:34.933Z"
   },
   {
    "duration": 10,
    "start_time": "2022-09-12T20:26:34.970Z"
   },
   {
    "duration": 101,
    "start_time": "2022-09-12T20:26:34.981Z"
   },
   {
    "duration": 387,
    "start_time": "2022-09-12T20:26:35.084Z"
   },
   {
    "duration": 299,
    "start_time": "2022-09-12T20:26:35.472Z"
   },
   {
    "duration": 33,
    "start_time": "2022-09-12T20:26:35.773Z"
   },
   {
    "duration": 33,
    "start_time": "2022-09-12T20:26:35.808Z"
   },
   {
    "duration": 137,
    "start_time": "2022-09-12T20:26:35.842Z"
   },
   {
    "duration": 36,
    "start_time": "2022-09-12T20:26:35.981Z"
   },
   {
    "duration": 172,
    "start_time": "2022-09-12T20:26:36.019Z"
   },
   {
    "duration": 191,
    "start_time": "2022-09-12T20:26:36.195Z"
   },
   {
    "duration": 45,
    "start_time": "2022-09-12T20:26:36.387Z"
   },
   {
    "duration": 360,
    "start_time": "2022-09-12T20:26:36.434Z"
   },
   {
    "duration": 21,
    "start_time": "2022-09-12T20:26:36.798Z"
   },
   {
    "duration": 12,
    "start_time": "2022-09-12T20:26:36.821Z"
   },
   {
    "duration": 47,
    "start_time": "2022-09-12T20:26:36.836Z"
   },
   {
    "duration": 19,
    "start_time": "2022-09-12T20:26:36.885Z"
   },
   {
    "duration": 8,
    "start_time": "2022-09-12T20:26:36.905Z"
   },
   {
    "duration": 106,
    "start_time": "2022-09-12T20:26:36.916Z"
   },
   {
    "duration": 6,
    "start_time": "2022-09-12T20:26:37.025Z"
   },
   {
    "duration": 11,
    "start_time": "2022-09-12T20:26:37.033Z"
   },
   {
    "duration": 98,
    "start_time": "2022-09-12T20:26:37.045Z"
   },
   {
    "duration": 15,
    "start_time": "2022-09-12T20:26:37.145Z"
   },
   {
    "duration": 54,
    "start_time": "2022-09-12T20:26:37.162Z"
   },
   {
    "duration": 375,
    "start_time": "2022-09-12T20:26:37.218Z"
   },
   {
    "duration": 292,
    "start_time": "2022-09-12T20:26:37.595Z"
   },
   {
    "duration": 14,
    "start_time": "2022-09-12T20:26:37.888Z"
   },
   {
    "duration": 278,
    "start_time": "2022-09-12T20:26:37.903Z"
   },
   {
    "duration": 14,
    "start_time": "2022-09-12T20:27:23.270Z"
   },
   {
    "duration": 3,
    "start_time": "2022-09-12T20:27:45.624Z"
   },
   {
    "duration": 343,
    "start_time": "2022-09-12T20:27:45.629Z"
   },
   {
    "duration": 30,
    "start_time": "2022-09-12T20:27:45.973Z"
   },
   {
    "duration": 32,
    "start_time": "2022-09-12T20:27:46.005Z"
   },
   {
    "duration": 9,
    "start_time": "2022-09-12T20:27:46.039Z"
   },
   {
    "duration": 188,
    "start_time": "2022-09-12T20:27:46.049Z"
   },
   {
    "duration": 16,
    "start_time": "2022-09-12T20:27:46.239Z"
   },
   {
    "duration": 145,
    "start_time": "2022-09-12T20:27:46.256Z"
   },
   {
    "duration": 7,
    "start_time": "2022-09-12T20:27:46.403Z"
   },
   {
    "duration": 10,
    "start_time": "2022-09-12T20:27:46.411Z"
   },
   {
    "duration": 14,
    "start_time": "2022-09-12T20:27:46.423Z"
   },
   {
    "duration": 171,
    "start_time": "2022-09-12T20:27:46.439Z"
   },
   {
    "duration": 7,
    "start_time": "2022-09-12T20:27:46.612Z"
   },
   {
    "duration": 43,
    "start_time": "2022-09-12T20:27:46.621Z"
   },
   {
    "duration": 193,
    "start_time": "2022-09-12T20:27:46.666Z"
   },
   {
    "duration": 42,
    "start_time": "2022-09-12T20:27:46.861Z"
   },
   {
    "duration": 10,
    "start_time": "2022-09-12T20:27:46.904Z"
   },
   {
    "duration": 89,
    "start_time": "2022-09-12T20:27:46.916Z"
   },
   {
    "duration": 361,
    "start_time": "2022-09-12T20:27:47.007Z"
   },
   {
    "duration": 365,
    "start_time": "2022-09-12T20:27:47.369Z"
   },
   {
    "duration": 27,
    "start_time": "2022-09-12T20:27:47.736Z"
   },
   {
    "duration": 47,
    "start_time": "2022-09-12T20:27:47.764Z"
   },
   {
    "duration": 120,
    "start_time": "2022-09-12T20:27:47.812Z"
   },
   {
    "duration": 31,
    "start_time": "2022-09-12T20:27:47.934Z"
   },
   {
    "duration": 189,
    "start_time": "2022-09-12T20:27:47.967Z"
   },
   {
    "duration": 179,
    "start_time": "2022-09-12T20:27:48.157Z"
   },
   {
    "duration": 37,
    "start_time": "2022-09-12T20:27:48.338Z"
   },
   {
    "duration": 270,
    "start_time": "2022-09-12T20:27:48.376Z"
   },
   {
    "duration": 21,
    "start_time": "2022-09-12T20:27:48.650Z"
   },
   {
    "duration": 7,
    "start_time": "2022-09-12T20:27:48.672Z"
   },
   {
    "duration": 43,
    "start_time": "2022-09-12T20:27:48.680Z"
   },
   {
    "duration": 8,
    "start_time": "2022-09-12T20:27:48.725Z"
   },
   {
    "duration": 5,
    "start_time": "2022-09-12T20:27:48.735Z"
   },
   {
    "duration": 89,
    "start_time": "2022-09-12T20:27:48.742Z"
   },
   {
    "duration": 7,
    "start_time": "2022-09-12T20:27:48.833Z"
   },
   {
    "duration": 11,
    "start_time": "2022-09-12T20:27:48.842Z"
   },
   {
    "duration": 73,
    "start_time": "2022-09-12T20:27:48.855Z"
   },
   {
    "duration": 14,
    "start_time": "2022-09-12T20:27:48.930Z"
   },
   {
    "duration": 53,
    "start_time": "2022-09-12T20:27:48.945Z"
   },
   {
    "duration": 364,
    "start_time": "2022-09-12T20:27:48.999Z"
   },
   {
    "duration": 295,
    "start_time": "2022-09-12T20:27:49.365Z"
   },
   {
    "duration": 10,
    "start_time": "2022-09-12T20:27:49.662Z"
   },
   {
    "duration": 266,
    "start_time": "2022-09-12T20:27:49.674Z"
   }
  ],
  "kernelspec": {
   "display_name": "Python 3 (ipykernel)",
   "language": "python",
   "name": "python3"
  },
  "language_info": {
   "codemirror_mode": {
    "name": "ipython",
    "version": 3
   },
   "file_extension": ".py",
   "mimetype": "text/x-python",
   "name": "python",
   "nbconvert_exporter": "python",
   "pygments_lexer": "ipython3",
   "version": "3.9.12"
  },
  "toc": {
   "base_numbering": 1,
   "nav_menu": {},
   "number_sections": true,
   "sideBar": true,
   "skip_h1_title": true,
   "title_cell": "Table of Contents",
   "title_sidebar": "Contents",
   "toc_cell": true,
   "toc_position": {
    "height": "calc(100% - 180px)",
    "left": "10px",
    "top": "150px",
    "width": "212.052px"
   },
   "toc_section_display": true,
   "toc_window_display": true
  }
 },
 "nbformat": 4,
 "nbformat_minor": 5
}
